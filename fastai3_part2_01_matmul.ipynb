{
  "nbformat": 4,
  "nbformat_minor": 0,
  "metadata": {
    "colab": {
      "name": "fastai3_part2: 01_matmul.ipynb",
      "version": "0.3.2",
      "provenance": [],
      "collapsed_sections": [],
      "include_colab_link": true
    },
    "kernelspec": {
      "name": "python3",
      "display_name": "Python 3"
    }
  },
  "cells": [
    {
      "cell_type": "markdown",
      "metadata": {
        "id": "view-in-github",
        "colab_type": "text"
      },
      "source": [
        "<a href=\"https://colab.research.google.com/github/cluePrints/fastai-v3-notes/blob/master/fastai3_part2_01_matmul.ipynb\" target=\"_parent\"><img src=\"https://colab.research.google.com/assets/colab-badge.svg\" alt=\"Open In Colab\"/></a>"
      ]
    },
    {
      "metadata": {
        "id": "gZflDvq34_Xt",
        "colab_type": "code",
        "colab": {}
      },
      "cell_type": "code",
      "source": [
        "%matplotlib inline"
      ],
      "execution_count": 0,
      "outputs": []
    },
    {
      "metadata": {
        "id": "2i11DxowimSy",
        "colab_type": "code",
        "colab": {}
      },
      "cell_type": "code",
      "source": [
        "from torch import tensor\n",
        "import numpy as np\n",
        "import torch"
      ],
      "execution_count": 0,
      "outputs": []
    },
    {
      "metadata": {
        "id": "oOjvox0pjGIF",
        "colab_type": "code",
        "colab": {}
      },
      "cell_type": "code",
      "source": [
        "def test_roughly_eq(m1, m2, tolerance=1e-5):\n",
        "  assert ((m1-m2).abs() > tolerance).sum() == 0, f\"Expected:\\n {m1}\\n But actual was: \\n {m2}\"\n",
        "\n",
        "\n",
        "def check_can_multiply_3x1_and_1x3(func):\n",
        "  tensor1 = torch.arange(0, 3, 1.).unsqueeze(1)\n",
        "  tensor2 = (torch.arange(0, 3, 1.)*10).unsqueeze(0)\n",
        "  torch_mul = tensor1 @ tensor2\n",
        "  own_mul = func(tensor1, tensor2)\n",
        "\n",
        "  test_roughly_eq(torch_mul, own_mul)\n",
        "\n",
        "def check_can_multiply_3x2_and_2x3(func):\n",
        "  tensor1 = torch.arange(0, 3, 1.).unsqueeze(1).repeat((1, 2))\n",
        "  tensor2 = (torch.arange(0, 3, 1.)*10).unsqueeze(0).repeat((2, 1))\n",
        "  torch_mul = tensor1 @ tensor2\n",
        "  own_mul = func(tensor1, tensor2)\n",
        "\n",
        "  test_roughly_eq(torch_mul, own_mul)\n",
        "  \n",
        "def run_tests(func):\n",
        "  check_can_multiply_3x1_and_1x3(func)\n",
        "  check_can_multiply_3x2_and_2x3(func)\n",
        "\n",
        "def matmul_1(ltensor, rtensor):\n",
        "  result = torch.zeros(ltensor.shape[0], rtensor.shape[1])\n",
        "  for lrow in range(ltensor.shape[0]):\n",
        "    for rcol in range(rtensor.shape[1]):\n",
        "      for k in range(ltensor.shape[1]):\n",
        "        result[lrow, rcol] += ltensor[lrow, k] * rtensor[k, rcol];\n",
        "  return result;\n",
        "\n",
        "run_tests(matmul_1)"
      ],
      "execution_count": 0,
      "outputs": []
    },
    {
      "metadata": {
        "id": "ULOSsCNAlkYH",
        "colab_type": "code",
        "colab": {}
      },
      "cell_type": "code",
      "source": [
        "def matmul_2(ltensor, rtensor):\n",
        "  result = torch.zeros(ltensor.shape[0], rtensor.shape[1])\n",
        "  for lrow in range(ltensor.shape[0]):\n",
        "    for rcol in range(rtensor.shape[1]):\n",
        "      result[lrow, rcol] = (ltensor[lrow, :] * rtensor[:, rcol]).sum();\n",
        "  return result;\n",
        "\n",
        "run_tests(matmul_2)"
      ],
      "execution_count": 0,
      "outputs": []
    },
    {
      "metadata": {
        "id": "s_8UlPpkoFg-",
        "colab_type": "code",
        "colab": {}
      },
      "cell_type": "code",
      "source": [
        "def matmul_3(ltensor, rtensor):\n",
        "  result = torch.zeros(ltensor.shape[0], rtensor.shape[1])\n",
        "  for lrow in range(ltensor.shape[0]):\n",
        "    # result[lrow, rcol] = (ltensor[lrow, :] * rtensor[:, rcol]).sum();\n",
        "    result[lrow, :] = (ltensor[lrow, :].unsqueeze(-1) * rtensor).sum(dim=0)\n",
        "  return result;\n",
        "\n",
        "run_tests(matmul_3)"
      ],
      "execution_count": 0,
      "outputs": []
    },
    {
      "metadata": {
        "id": "34_4R389zyCS",
        "colab_type": "code",
        "colab": {}
      },
      "cell_type": "code",
      "source": [
        "def matmul_4(ltensor, rtensor):\n",
        "  return torch.einsum('ij,jk -> ik', ltensor, rtensor);\n",
        "\n",
        "run_tests(matmul_4)"
      ],
      "execution_count": 0,
      "outputs": []
    },
    {
      "metadata": {
        "id": "RYD1pXRepILY",
        "colab_type": "code",
        "outputId": "b1de07c5-dde2-458f-bb2e-cbdddffa53fb",
        "colab": {
          "base_uri": "https://localhost:8080/",
          "height": 493
        }
      },
      "cell_type": "code",
      "source": [
        "import timeit\n",
        "from collections import defaultdict\n",
        "series = defaultdict(list)\n",
        "\n",
        "tested_functions = {\n",
        "    'for loops': matmul_1,\n",
        "    'broadcast1': matmul_2,\n",
        "    'broadcast2': matmul_3,\n",
        "    'einsum': matmul_4,\n",
        "    'torch': lambda m,n: m @ n\n",
        "}\n",
        "\n",
        "for size in [10, 100, 150, 200]:\n",
        "  print(f'\\n= Testing size {size}')\n",
        "  series['size'].append(size)  \n",
        "  tensor1 = torch.arange(0, size, 1.).unsqueeze(1)\n",
        "  tensor2 = (torch.arange(0, size, 1.)*10).unsqueeze(0)\n",
        "  for name, f in tested_functions.items():\n",
        "    print(f'Timing {name}')\n",
        "    elapsed = timeit.timeit('f(tensor1, tensor2)', globals=globals(), number=15)\n",
        "    series[name].append(elapsed)"
      ],
      "execution_count": 7,
      "outputs": [
        {
          "output_type": "stream",
          "text": [
            "\n",
            "= Testing size 10\n",
            "Timing for loops\n",
            "Timing broadcast1\n",
            "Timing broadcast2\n",
            "Timing einsum\n",
            "Timing torch\n",
            "\n",
            "= Testing size 100\n",
            "Timing for loops\n",
            "Timing broadcast1\n",
            "Timing broadcast2\n",
            "Timing einsum\n",
            "Timing torch\n",
            "\n",
            "= Testing size 150\n",
            "Timing for loops\n",
            "Timing broadcast1\n",
            "Timing broadcast2\n",
            "Timing einsum\n",
            "Timing torch\n",
            "\n",
            "= Testing size 200\n",
            "Timing for loops\n",
            "Timing broadcast1\n",
            "Timing broadcast2\n",
            "Timing einsum\n",
            "Timing torch\n"
          ],
          "name": "stdout"
        }
      ]
    },
    {
      "metadata": {
        "id": "9Vp6dGE249J-",
        "colab_type": "code",
        "colab": {}
      },
      "cell_type": "code",
      "source": [
        "import pandas as pd\n",
        "sizes = series['size']\n",
        "del series['size']\n",
        "df = pd.DataFrame(series, index=sizes)"
      ],
      "execution_count": 0,
      "outputs": []
    },
    {
      "metadata": {
        "id": "XypreKgE4-b7",
        "colab_type": "code",
        "outputId": "6dc5f62d-f1da-4970-f644-8ef290da4eec",
        "colab": {
          "base_uri": "https://localhost:8080/",
          "height": 173
        }
      },
      "cell_type": "code",
      "source": [
        "df"
      ],
      "execution_count": 9,
      "outputs": [
        {
          "output_type": "execute_result",
          "data": {
            "text/html": [
              "<div>\n",
              "<style scoped>\n",
              "    .dataframe tbody tr th:only-of-type {\n",
              "        vertical-align: middle;\n",
              "    }\n",
              "\n",
              "    .dataframe tbody tr th {\n",
              "        vertical-align: top;\n",
              "    }\n",
              "\n",
              "    .dataframe thead th {\n",
              "        text-align: right;\n",
              "    }\n",
              "</style>\n",
              "<table border=\"1\" class=\"dataframe\">\n",
              "  <thead>\n",
              "    <tr style=\"text-align: right;\">\n",
              "      <th></th>\n",
              "      <th>broadcast1</th>\n",
              "      <th>broadcast2</th>\n",
              "      <th>einsum</th>\n",
              "      <th>for loops</th>\n",
              "      <th>torch</th>\n",
              "    </tr>\n",
              "  </thead>\n",
              "  <tbody>\n",
              "    <tr>\n",
              "      <th>10</th>\n",
              "      <td>0.025127</td>\n",
              "      <td>0.003023</td>\n",
              "      <td>0.000540</td>\n",
              "      <td>0.028750</td>\n",
              "      <td>0.000271</td>\n",
              "    </tr>\n",
              "    <tr>\n",
              "      <th>100</th>\n",
              "      <td>2.413551</td>\n",
              "      <td>0.028008</td>\n",
              "      <td>0.006910</td>\n",
              "      <td>2.426119</td>\n",
              "      <td>0.000449</td>\n",
              "    </tr>\n",
              "    <tr>\n",
              "      <th>150</th>\n",
              "      <td>5.468132</td>\n",
              "      <td>0.041073</td>\n",
              "      <td>0.000742</td>\n",
              "      <td>5.412803</td>\n",
              "      <td>0.000405</td>\n",
              "    </tr>\n",
              "    <tr>\n",
              "      <th>200</th>\n",
              "      <td>9.742080</td>\n",
              "      <td>0.061270</td>\n",
              "      <td>0.000632</td>\n",
              "      <td>9.731100</td>\n",
              "      <td>0.000461</td>\n",
              "    </tr>\n",
              "  </tbody>\n",
              "</table>\n",
              "</div>"
            ],
            "text/plain": [
              "     broadcast1  broadcast2    einsum  for loops     torch\n",
              "10     0.025127    0.003023  0.000540   0.028750  0.000271\n",
              "100    2.413551    0.028008  0.006910   2.426119  0.000449\n",
              "150    5.468132    0.041073  0.000742   5.412803  0.000405\n",
              "200    9.742080    0.061270  0.000632   9.731100  0.000461"
            ]
          },
          "metadata": {
            "tags": []
          },
          "execution_count": 9
        }
      ]
    },
    {
      "metadata": {
        "id": "25aIf15u5yiO",
        "colab_type": "code",
        "outputId": "24dc8100-ff67-47c5-f095-4dabbb4a2f7e",
        "colab": {
          "base_uri": "https://localhost:8080/",
          "height": 445
        }
      },
      "cell_type": "code",
      "source": [
        "df.plot(figsize=(14, 7), logy=True)"
      ],
      "execution_count": 10,
      "outputs": [
        {
          "output_type": "execute_result",
          "data": {
            "text/plain": [
              "<matplotlib.axes._subplots.AxesSubplot at 0x7f913f623b00>"
            ]
          },
          "metadata": {
            "tags": []
          },
          "execution_count": 10
        },
        {
          "output_type": "display_data",
          "data": {
            "image/png": "[encoded data removed]",
            "text/plain": [
              "<Figure size 1008x504 with 1 Axes>"
            ]
          },
          "metadata": {
            "tags": []
          }
        }
      ]
    },
    {
      "metadata": {
        "id": "32K7Qhi2BGwH",
        "colab_type": "text"
      },
      "cell_type": "markdown",
      "source": [
        "# Named tensor"
      ]
    },
    {
      "metadata": {
        "id": "Nl95Aly47Y1N",
        "colab_type": "code",
        "outputId": "9336275c-af4c-4eaa-dba1-60e66cd4164e",
        "colab": {
          "base_uri": "https://localhost:8080/",
          "height": 68
        }
      },
      "cell_type": "code",
      "source": [
        "!pip install git+https://github.com/harvardnlp/namedtensor -q"
      ],
      "execution_count": 11,
      "outputs": [
        {
          "output_type": "stream",
          "text": [
            "\u001b[?25l\r\u001b[K    17% |█████▌                          | 10kB 20.7MB/s eta 0:00:01\r\u001b[K    34% |███████████                     | 20kB 3.2MB/s eta 0:00:01\r\u001b[K    51% |████████████████▌               | 30kB 4.6MB/s eta 0:00:01\r\u001b[K    68% |██████████████████████          | 40kB 3.0MB/s eta 0:00:01\r\u001b[K    86% |███████████████████████████▌    | 51kB 3.7MB/s eta 0:00:01\r\u001b[K    100% |████████████████████████████████| 61kB 4.0MB/s \n",
            "\u001b[?25h  Building wheel for namedtensor (setup.py) ... \u001b[?25ldone\n",
            "\u001b[?25h  Building wheel for opt-einsum (setup.py) ... \u001b[?25ldone\n",
            "\u001b[?25h"
          ],
          "name": "stdout"
        }
      ]
    },
    {
      "metadata": {
        "id": "h561OAIU-PVp",
        "colab_type": "code",
        "outputId": "a704326b-6d13-48df-f374-c2831819144d",
        "colab": {
          "base_uri": "https://localhost:8080/",
          "height": 85
        }
      },
      "cell_type": "code",
      "source": [
        "from namedtensor import ntorch\n",
        "a = ntorch.tensor(torch.arange(0, 3, 1.).unsqueeze(1).repeat((1, 2)), names=('rows', 'cols'))\n",
        "b = ntorch.tensor((torch.arange(0, 3, 1.)*10).unsqueeze(0).repeat((2, 1)), names=('rows', 'cols'))\n",
        "b"
      ],
      "execution_count": 12,
      "outputs": [
        {
          "output_type": "execute_result",
          "data": {
            "text/plain": [
              "NamedTensor(\n",
              "\ttensor([[ 0., 10., 20.],\n",
              "        [ 0., 10., 20.]]),\n",
              "\t('rows', 'cols'))"
            ]
          },
          "metadata": {
            "tags": []
          },
          "execution_count": 12
        }
      ]
    },
    {
      "metadata": {
        "id": "z5bT7bEb-QYp",
        "colab_type": "code",
        "outputId": "f075b5d7-b003-42e2-c513-93e9949b7784",
        "colab": {
          "base_uri": "https://localhost:8080/",
          "height": 68
        }
      },
      "cell_type": "code",
      "source": [
        "a[{'rows': 0}]"
      ],
      "execution_count": 13,
      "outputs": [
        {
          "output_type": "execute_result",
          "data": {
            "text/plain": [
              "NamedTensor(\n",
              "\ttensor([0., 0.]),\n",
              "\t('cols',))"
            ]
          },
          "metadata": {
            "tags": []
          },
          "execution_count": 13
        }
      ]
    },
    {
      "metadata": {
        "id": "IfadIuKHAoTt",
        "colab_type": "code",
        "outputId": "69f7a5bb-638e-4e26-9702-ca06d639495a",
        "colab": {
          "base_uri": "https://localhost:8080/",
          "height": 68
        }
      },
      "cell_type": "code",
      "source": [
        "b[{'rows': 0}]"
      ],
      "execution_count": 14,
      "outputs": [
        {
          "output_type": "execute_result",
          "data": {
            "text/plain": [
              "NamedTensor(\n",
              "\ttensor([ 0., 10., 20.]),\n",
              "\t('cols',))"
            ]
          },
          "metadata": {
            "tags": []
          },
          "execution_count": 14
        }
      ]
    },
    {
      "metadata": {
        "id": "uXGzVOQsDplR",
        "colab_type": "code",
        "outputId": "098e8559-d265-48f4-f13a-7629975f4de4",
        "colab": {
          "base_uri": "https://localhost:8080/",
          "height": 34
        }
      },
      "cell_type": "code",
      "source": [
        "# Note to self: elementwise access looks ugly and not really designed for\n",
        "a[{'rows': 0, 'cols': 0}].numpy() * b[{'rows': 0, 'cols': 0}].numpy()"
      ],
      "execution_count": 15,
      "outputs": [
        {
          "output_type": "execute_result",
          "data": {
            "text/plain": [
              "0.0"
            ]
          },
          "metadata": {
            "tags": []
          },
          "execution_count": 15
        }
      ]
    },
    {
      "metadata": {
        "id": "YAPmhpz-Dv9C",
        "colab_type": "code",
        "outputId": "741e8628-439b-4f85-db42-91f666022f14",
        "colab": {
          "base_uri": "https://localhost:8080/",
          "height": 34
        }
      },
      "cell_type": "code",
      "source": [
        "a[{'rows': 0, 'cols': 0}].numpy()"
      ],
      "execution_count": 16,
      "outputs": [
        {
          "output_type": "execute_result",
          "data": {
            "text/plain": [
              "array(0., dtype=float32)"
            ]
          },
          "metadata": {
            "tags": []
          },
          "execution_count": 16
        }
      ]
    },
    {
      "metadata": {
        "id": "G9TXTzyr7jfZ",
        "colab_type": "code",
        "outputId": "182d1238-3268-4c73-ac18-248fe91fafcd",
        "colab": {
          "base_uri": "https://localhost:8080/",
          "height": 68
        }
      },
      "cell_type": "code",
      "source": [
        "def named_mul_1(ltensor, rtensor):\n",
        "  result = torch.zeros(ltensor.shape['rows'], rtensor.shape['cols'])\n",
        "  for lrow in range(ltensor.shape['rows']):\n",
        "    for rcol in range(rtensor.shape['cols']):\n",
        "      for k in range(ltensor.shape['cols']):\n",
        "        result[lrow, rcol] += ltensor[{'rows': lrow, 'cols': k}].numpy() * rtensor[{'rows': k, 'cols': rcol}].numpy();\n",
        "  return result;\n",
        "\n",
        "named_mul_1(a, b)"
      ],
      "execution_count": 17,
      "outputs": [
        {
          "output_type": "execute_result",
          "data": {
            "text/plain": [
              "tensor([[ 0.,  0.,  0.],\n",
              "        [ 0., 20., 40.],\n",
              "        [ 0., 40., 80.]])"
            ]
          },
          "metadata": {
            "tags": []
          },
          "execution_count": 17
        }
      ]
    },
    {
      "metadata": {
        "id": "zab4YKmWDEcJ",
        "colab_type": "code",
        "outputId": "a365a894-ee50-4bb8-95f7-3e73e8a294f6",
        "colab": {
          "base_uri": "https://localhost:8080/",
          "height": 34
        }
      },
      "cell_type": "code",
      "source": [
        "a.shape"
      ],
      "execution_count": 18,
      "outputs": [
        {
          "output_type": "execute_result",
          "data": {
            "text/plain": [
              "OrderedDict([('rows', 3), ('cols', 2)])"
            ]
          },
          "metadata": {
            "tags": []
          },
          "execution_count": 18
        }
      ]
    },
    {
      "metadata": {
        "id": "d2WhHAg0FURL",
        "colab_type": "code",
        "outputId": "116382ab-f06b-48c8-8a08-73dec3fcb198",
        "colab": {
          "base_uri": "https://localhost:8080/",
          "height": 102
        }
      },
      "cell_type": "code",
      "source": [
        "a"
      ],
      "execution_count": 19,
      "outputs": [
        {
          "output_type": "execute_result",
          "data": {
            "text/plain": [
              "NamedTensor(\n",
              "\ttensor([[0., 0.],\n",
              "        [1., 1.],\n",
              "        [2., 2.]]),\n",
              "\t('rows', 'cols'))"
            ]
          },
          "metadata": {
            "tags": []
          },
          "execution_count": 19
        }
      ]
    },
    {
      "metadata": {
        "id": "VwRdoTYRFVAZ",
        "colab_type": "code",
        "outputId": "bf0e7279-b4d1-4dea-9cef-36b91680b3d9",
        "colab": {
          "base_uri": "https://localhost:8080/",
          "height": 85
        }
      },
      "cell_type": "code",
      "source": [
        "b"
      ],
      "execution_count": 20,
      "outputs": [
        {
          "output_type": "execute_result",
          "data": {
            "text/plain": [
              "NamedTensor(\n",
              "\ttensor([[ 0., 10., 20.],\n",
              "        [ 0., 10., 20.]]),\n",
              "\t('rows', 'cols'))"
            ]
          },
          "metadata": {
            "tags": []
          },
          "execution_count": 20
        }
      ]
    },
    {
      "metadata": {
        "id": "93mf3ibQEdcc",
        "colab_type": "code",
        "outputId": "1dcd9948-4f94-4994-a864-42db590a3698",
        "colab": {
          "base_uri": "https://localhost:8080/",
          "height": 85
        }
      },
      "cell_type": "code",
      "source": [
        "# Note to self: broadcasting looks nicer in writing, but in here both dims are broadcasted which is a bummer, especially given unsqueze ban\n",
        "a[{'rows':1}] * b[{'cols': 2}]"
      ],
      "execution_count": 21,
      "outputs": [
        {
          "output_type": "execute_result",
          "data": {
            "text/plain": [
              "NamedTensor(\n",
              "\ttensor([[20., 20.],\n",
              "        [20., 20.]]),\n",
              "\t('rows', 'cols'))"
            ]
          },
          "metadata": {
            "tags": []
          },
          "execution_count": 21
        }
      ]
    },
    {
      "metadata": {
        "id": "5fM6GlV_F64f",
        "colab_type": "code",
        "outputId": "226dd5dd-2a2f-4743-b6dd-d4d771bf2872",
        "colab": {
          "base_uri": "https://localhost:8080/",
          "height": 34
        }
      },
      "cell_type": "code",
      "source": [
        "a[{'rows':1}].numpy() * b[{'cols': 2}].numpy()"
      ],
      "execution_count": 22,
      "outputs": [
        {
          "output_type": "execute_result",
          "data": {
            "text/plain": [
              "array([20., 20.], dtype=float32)"
            ]
          },
          "metadata": {
            "tags": []
          },
          "execution_count": 22
        }
      ]
    },
    {
      "metadata": {
        "id": "Yu8_j-RwGw8P",
        "colab_type": "code",
        "colab": {}
      },
      "cell_type": "code",
      "source": [
        ""
      ],
      "execution_count": 0,
      "outputs": []
    },
    {
      "metadata": {
        "id": "CvtAK6ERGWaq",
        "colab_type": "code",
        "outputId": "0d985f90-3f85-4df4-e670-d0f32df0ea38",
        "colab": {
          "base_uri": "https://localhost:8080/",
          "height": 85
        }
      },
      "cell_type": "code",
      "source": [
        "(a[{'rows':1}] * b[{'cols': 2}])"
      ],
      "execution_count": 23,
      "outputs": [
        {
          "output_type": "execute_result",
          "data": {
            "text/plain": [
              "NamedTensor(\n",
              "\ttensor([[20., 20.],\n",
              "        [20., 20.]]),\n",
              "\t('rows', 'cols'))"
            ]
          },
          "metadata": {
            "tags": []
          },
          "execution_count": 23
        }
      ]
    },
    {
      "metadata": {
        "id": "AkxuhJBnE4Z1",
        "colab_type": "code",
        "outputId": "77c31e73-9400-4e9e-bf1b-6c058234f75a",
        "colab": {
          "base_uri": "https://localhost:8080/",
          "height": 68
        }
      },
      "cell_type": "code",
      "source": [
        "a[{'rows':1}]"
      ],
      "execution_count": 24,
      "outputs": [
        {
          "output_type": "execute_result",
          "data": {
            "text/plain": [
              "NamedTensor(\n",
              "\ttensor([1., 1.]),\n",
              "\t('cols',))"
            ]
          },
          "metadata": {
            "tags": []
          },
          "execution_count": 24
        }
      ]
    },
    {
      "metadata": {
        "id": "RsD5IiyPE5SO",
        "colab_type": "code",
        "outputId": "0342811a-2f4a-4a0a-caf5-d40992fcacde",
        "colab": {
          "base_uri": "https://localhost:8080/",
          "height": 68
        }
      },
      "cell_type": "code",
      "source": [
        "b[{'cols': 2}]"
      ],
      "execution_count": 25,
      "outputs": [
        {
          "output_type": "execute_result",
          "data": {
            "text/plain": [
              "NamedTensor(\n",
              "\ttensor([20., 20.]),\n",
              "\t('rows',))"
            ]
          },
          "metadata": {
            "tags": []
          },
          "execution_count": 25
        }
      ]
    },
    {
      "metadata": {
        "id": "yeDX529sEk3m",
        "colab_type": "code",
        "outputId": "a0a42510-2d33-445a-937f-18864e3fe78a",
        "colab": {
          "base_uri": "https://localhost:8080/",
          "height": 85
        }
      },
      "cell_type": "code",
      "source": [
        "a[{'rows':1}] * b[{'cols': 2}]"
      ],
      "execution_count": 26,
      "outputs": [
        {
          "output_type": "execute_result",
          "data": {
            "text/plain": [
              "NamedTensor(\n",
              "\ttensor([[20., 20.],\n",
              "        [20., 20.]]),\n",
              "\t('rows', 'cols'))"
            ]
          },
          "metadata": {
            "tags": []
          },
          "execution_count": 26
        }
      ]
    },
    {
      "metadata": {
        "id": "tUDJl-A2DE1N",
        "colab_type": "code",
        "outputId": "639682fa-b2d3-448e-c99b-eb19c63cec5a",
        "colab": {
          "base_uri": "https://localhost:8080/",
          "height": 102
        }
      },
      "cell_type": "code",
      "source": [
        "def named_mul_2(ltensor, rtensor):\n",
        "  result = ntorch.zeros((ltensor.shape['rows'], rtensor.shape['cols']), names=('cols', 'rows'))\n",
        "  any_ = 0\n",
        "  for lrow in range(ltensor.shape['rows']):\n",
        "    for rcol in range(rtensor.shape['cols']):\n",
        "      # Note to self: scalars are so unintuitive Dimension () does not exist. Available dimensions are ()\n",
        "      broadcasted_on_both_dims = (ltensor[{'rows': lrow}] * rtensor[{'cols': rcol}])\n",
        "      single_dim_result = broadcasted_on_both_dims[{'rows': any_}]\n",
        "      result[{'rows': lrow, 'cols': rcol}] = int(single_dim_result.sum().numpy())\n",
        "  return result;\n",
        "\n",
        "named_mul_2(a, b)"
      ],
      "execution_count": 27,
      "outputs": [
        {
          "output_type": "execute_result",
          "data": {
            "text/plain": [
              "NamedTensor(\n",
              "\ttensor([[ 0.,  0.,  0.],\n",
              "        [ 0., 20., 40.],\n",
              "        [ 0., 40., 80.]]),\n",
              "\t('cols', 'rows'))"
            ]
          },
          "metadata": {
            "tags": []
          },
          "execution_count": 27
        }
      ]
    },
    {
      "metadata": {
        "id": "wJ3Zr0loJ2Mf",
        "colab_type": "code",
        "outputId": "0191463b-a889-45de-c79b-d15a1ab48562",
        "colab": {
          "base_uri": "https://localhost:8080/",
          "height": 521
        }
      },
      "cell_type": "code",
      "source": [
        "# result[lrow, rcol] = (ltensor[lrow, :] * rtensor[:, rcol]).sum();\n",
        "# result[lrow, :] = (ltensor[lrow, :].unsqueeze(-1) * rtensor).sum(dim=0)\n",
        "# Note to self: I guess that's the end of it, this sort of encapsulation makes it difficult for two different dimensions to interact looks good on images though\n",
        "a[{'rows': 1}] * b"
      ],
      "execution_count": 28,
      "outputs": [
        {
          "output_type": "error",
          "ename": "AssertionError",
          "evalue": "ignored",
          "traceback": [
            "\u001b[0;31m---------------------------------------------------------------------------\u001b[0m",
            "\u001b[0;31mAssertionError\u001b[0m                            Traceback (most recent call last)",
            "\u001b[0;32m<ipython-input-28-4040a9ab1afe>\u001b[0m in \u001b[0;36m<module>\u001b[0;34m()\u001b[0m\n\u001b[0;32m----> 1\u001b[0;31m \u001b[0ma\u001b[0m\u001b[0;34m[\u001b[0m\u001b[0;34m{\u001b[0m\u001b[0;34m'rows'\u001b[0m\u001b[0;34m:\u001b[0m \u001b[0;36m1\u001b[0m\u001b[0;34m}\u001b[0m\u001b[0;34m]\u001b[0m \u001b[0;34m*\u001b[0m \u001b[0mb\u001b[0m\u001b[0;34m\u001b[0m\u001b[0;34m\u001b[0m\u001b[0m\n\u001b[0m",
            "\u001b[0;32m/usr/local/lib/python3.6/dist-packages/namedtensor/torch_helpers.py\u001b[0m in \u001b[0;36m__mul__\u001b[0;34m(self, b)\u001b[0m\n\u001b[1;32m    171\u001b[0m \u001b[0;34m\u001b[0m\u001b[0m\n\u001b[1;32m    172\u001b[0m     \u001b[0;32mdef\u001b[0m \u001b[0m__mul__\u001b[0m\u001b[0;34m(\u001b[0m\u001b[0mself\u001b[0m\u001b[0;34m,\u001b[0m \u001b[0mb\u001b[0m\u001b[0;34m)\u001b[0m\u001b[0;34m:\u001b[0m\u001b[0;34m\u001b[0m\u001b[0;34m\u001b[0m\u001b[0m\n\u001b[0;32m--> 173\u001b[0;31m         \u001b[0;32mreturn\u001b[0m \u001b[0mself\u001b[0m\u001b[0;34m.\u001b[0m\u001b[0mmul\u001b[0m\u001b[0;34m(\u001b[0m\u001b[0mb\u001b[0m\u001b[0;34m)\u001b[0m\u001b[0;34m\u001b[0m\u001b[0;34m\u001b[0m\u001b[0m\n\u001b[0m\u001b[1;32m    174\u001b[0m \u001b[0;34m\u001b[0m\u001b[0m\n\u001b[1;32m    175\u001b[0m     \u001b[0;32mdef\u001b[0m \u001b[0m__rmul__\u001b[0m\u001b[0;34m(\u001b[0m\u001b[0mself\u001b[0m\u001b[0;34m,\u001b[0m \u001b[0mb\u001b[0m\u001b[0;34m)\u001b[0m\u001b[0;34m:\u001b[0m\u001b[0;34m\u001b[0m\u001b[0;34m\u001b[0m\u001b[0m\n",
            "\u001b[0;32m/usr/local/lib/python3.6/dist-packages/namedtensor/torch_helpers.py\u001b[0m in \u001b[0;36mcall\u001b[0;34m(other, *args)\u001b[0m\n\u001b[1;32m    295\u001b[0m                         \u001b[0mb1\u001b[0m \u001b[0;34m=\u001b[0m \u001b[0mb\u001b[0m\u001b[0;34m.\u001b[0m\u001b[0m_force_order\u001b[0m\u001b[0;34m(\u001b[0m\u001b[0morder\u001b[0m\u001b[0;34m)\u001b[0m\u001b[0;34m\u001b[0m\u001b[0;34m\u001b[0m\u001b[0m\n\u001b[1;32m    296\u001b[0m                         \u001b[0mmethod\u001b[0m \u001b[0;34m=\u001b[0m \u001b[0mgetattr\u001b[0m\u001b[0;34m(\u001b[0m\u001b[0ma1\u001b[0m\u001b[0;34m.\u001b[0m\u001b[0m_tensor\u001b[0m\u001b[0;34m,\u001b[0m \u001b[0mmethodname\u001b[0m\u001b[0;34m)\u001b[0m\u001b[0;34m\u001b[0m\u001b[0;34m\u001b[0m\u001b[0m\n\u001b[0;32m--> 297\u001b[0;31m                         \u001b[0massert_match\u001b[0m\u001b[0;34m(\u001b[0m\u001b[0ma1\u001b[0m\u001b[0;34m,\u001b[0m \u001b[0mb1\u001b[0m\u001b[0;34m)\u001b[0m\u001b[0;34m\u001b[0m\u001b[0;34m\u001b[0m\u001b[0m\n\u001b[0m\u001b[1;32m    298\u001b[0m                         \u001b[0;32mreturn\u001b[0m \u001b[0ma1\u001b[0m\u001b[0;34m.\u001b[0m\u001b[0m_new\u001b[0m\u001b[0;34m(\u001b[0m\u001b[0mmethod\u001b[0m\u001b[0;34m(\u001b[0m\u001b[0mb1\u001b[0m\u001b[0;34m.\u001b[0m\u001b[0m_tensor\u001b[0m\u001b[0;34m,\u001b[0m \u001b[0;34m*\u001b[0m\u001b[0margs\u001b[0m\u001b[0;34m)\u001b[0m\u001b[0;34m)\u001b[0m\u001b[0;34m\u001b[0m\u001b[0;34m\u001b[0m\u001b[0m\n\u001b[1;32m    299\u001b[0m                     \u001b[0;32melse\u001b[0m\u001b[0;34m:\u001b[0m\u001b[0;34m\u001b[0m\u001b[0;34m\u001b[0m\u001b[0m\n",
            "\u001b[0;32m/usr/local/lib/python3.6/dist-packages/namedtensor/core.py\u001b[0m in \u001b[0;36massert_match\u001b[0;34m(*tensors)\u001b[0m\n\u001b[1;32m     22\u001b[0m                 \u001b[0msizes\u001b[0m\u001b[0;34m[\u001b[0m\u001b[0mk\u001b[0m\u001b[0;34m]\u001b[0m \u001b[0;34m=\u001b[0m \u001b[0mv\u001b[0m\u001b[0;34m\u001b[0m\u001b[0;34m\u001b[0m\u001b[0m\n\u001b[1;32m     23\u001b[0m     assert not failure, \"Overlapping dim names must match: \" + \" \".join(\n\u001b[0;32m---> 24\u001b[0;31m         \u001b[0;34m[\u001b[0m\u001b[0mstr\u001b[0m\u001b[0;34m(\u001b[0m\u001b[0mt\u001b[0m\u001b[0;34m.\u001b[0m\u001b[0mshape\u001b[0m\u001b[0;34m)\u001b[0m \u001b[0;32mfor\u001b[0m \u001b[0mt\u001b[0m \u001b[0;32min\u001b[0m \u001b[0mtensors\u001b[0m\u001b[0;34m]\u001b[0m\u001b[0;34m\u001b[0m\u001b[0;34m\u001b[0m\u001b[0m\n\u001b[0m\u001b[1;32m     25\u001b[0m     )\n\u001b[1;32m     26\u001b[0m \u001b[0;34m\u001b[0m\u001b[0m\n",
            "\u001b[0;31mAssertionError\u001b[0m: Overlapping dim names must match: OrderedDict([('rows', 1), ('cols', 2)]) OrderedDict([('rows', 2), ('cols', 3)])"
          ]
        }
      ]
    },
    {
      "metadata": {
        "id": "ckmNcGpmKwri",
        "colab_type": "code",
        "colab": {}
      },
      "cell_type": "code",
      "source": [
        ""
      ],
      "execution_count": 0,
      "outputs": []
    }
  ]
}