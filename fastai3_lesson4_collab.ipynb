{
  "nbformat": 4,
  "nbformat_minor": 0,
  "metadata": {
    "colab": {
      "name": "fastai3: lesson4 - collab.ipynb",
      "version": "0.3.2",
      "provenance": [],
      "collapsed_sections": [],
      "include_colab_link": true
    },
    "kernelspec": {
      "name": "python3",
      "display_name": "Python 3"
    },
    "accelerator": "GPU"
  },
  "cells": [
    {
      "cell_type": "markdown",
      "metadata": {
        "id": "view-in-github",
        "colab_type": "text"
      },
      "source": [
        "<a href=\"https://colab.research.google.com/github/cluePrints/fastai-v3-notes/blob/master/fastai3_lesson4_collab.ipynb\" target=\"_parent\"><img src=\"https://colab.research.google.com/assets/colab-badge.svg\" alt=\"Open In Colab\"/></a>"
      ]
    },
    {
      "metadata": {
        "id": "nhI3Z4-fWjlB",
        "colab_type": "code",
        "colab": {}
      },
      "cell_type": "code",
      "source": [
        "%reload_ext autoreload\n",
        "%autoreload 2\n",
        "%matplotlib inline"
      ],
      "execution_count": 0,
      "outputs": []
    },
    {
      "metadata": {
        "id": "AYM3g80vWm0G",
        "colab_type": "code",
        "colab": {}
      },
      "cell_type": "code",
      "source": [
        "from fastai.text import *\n",
        "from fastai.tabular import *\n",
        "from fastai.collab import *\n",
        "import pandas as pd\n",
        "import matplotlib.pyplot as plt"
      ],
      "execution_count": 0,
      "outputs": []
    },
    {
      "metadata": {
        "id": "Bi9bvCTjWqSM",
        "colab_type": "code",
        "colab": {
          "base_uri": "https://localhost:8080/",
          "height": 34
        },
        "outputId": "0d37df33-0077-435e-f7a7-d87912f776b4"
      },
      "cell_type": "code",
      "source": [
        "path = untar_data(URLs.ML_SAMPLE)\n",
        "path"
      ],
      "execution_count": 107,
      "outputs": [
        {
          "output_type": "execute_result",
          "data": {
            "text/plain": [
              "PosixPath('/root/.fastai/data/movie_lens_sample')"
            ]
          },
          "metadata": {
            "tags": []
          },
          "execution_count": 107
        }
      ]
    },
    {
      "metadata": {
        "id": "OBdkIcnHWysh",
        "colab_type": "code",
        "colab": {
          "base_uri": "https://localhost:8080/",
          "height": 34
        },
        "outputId": "484ae803-cf54-45ff-ca59-968fd9df0e4c"
      },
      "cell_type": "code",
      "source": [
        "ls {path}"
      ],
      "execution_count": 108,
      "outputs": [
        {
          "output_type": "stream",
          "text": [
            "\u001b[0m\u001b[01;32mratings.csv\u001b[0m*\n"
          ],
          "name": "stdout"
        }
      ]
    },
    {
      "metadata": {
        "id": "F33537BRWzfY",
        "colab_type": "code",
        "colab": {
          "base_uri": "https://localhost:8080/",
          "height": 204
        },
        "outputId": "f8c26c75-d8a7-44e2-b4bc-aab5da876e78"
      },
      "cell_type": "code",
      "source": [
        "df = pd.read_csv(path/'ratings.csv')\n",
        "df.head()"
      ],
      "execution_count": 109,
      "outputs": [
        {
          "output_type": "execute_result",
          "data": {
            "text/html": [
              "<div>\n",
              "<style scoped>\n",
              "    .dataframe tbody tr th:only-of-type {\n",
              "        vertical-align: middle;\n",
              "    }\n",
              "\n",
              "    .dataframe tbody tr th {\n",
              "        vertical-align: top;\n",
              "    }\n",
              "\n",
              "    .dataframe thead th {\n",
              "        text-align: right;\n",
              "    }\n",
              "</style>\n",
              "<table border=\"1\" class=\"dataframe\">\n",
              "  <thead>\n",
              "    <tr style=\"text-align: right;\">\n",
              "      <th></th>\n",
              "      <th>userId</th>\n",
              "      <th>movieId</th>\n",
              "      <th>rating</th>\n",
              "      <th>timestamp</th>\n",
              "    </tr>\n",
              "  </thead>\n",
              "  <tbody>\n",
              "    <tr>\n",
              "      <th>0</th>\n",
              "      <td>73</td>\n",
              "      <td>1097</td>\n",
              "      <td>4.0</td>\n",
              "      <td>1255504951</td>\n",
              "    </tr>\n",
              "    <tr>\n",
              "      <th>1</th>\n",
              "      <td>561</td>\n",
              "      <td>924</td>\n",
              "      <td>3.5</td>\n",
              "      <td>1172695223</td>\n",
              "    </tr>\n",
              "    <tr>\n",
              "      <th>2</th>\n",
              "      <td>157</td>\n",
              "      <td>260</td>\n",
              "      <td>3.5</td>\n",
              "      <td>1291598691</td>\n",
              "    </tr>\n",
              "    <tr>\n",
              "      <th>3</th>\n",
              "      <td>358</td>\n",
              "      <td>1210</td>\n",
              "      <td>5.0</td>\n",
              "      <td>957481884</td>\n",
              "    </tr>\n",
              "    <tr>\n",
              "      <th>4</th>\n",
              "      <td>130</td>\n",
              "      <td>316</td>\n",
              "      <td>2.0</td>\n",
              "      <td>1138999234</td>\n",
              "    </tr>\n",
              "  </tbody>\n",
              "</table>\n",
              "</div>"
            ],
            "text/plain": [
              "   userId  movieId  rating   timestamp\n",
              "0      73     1097     4.0  1255504951\n",
              "1     561      924     3.5  1172695223\n",
              "2     157      260     3.5  1291598691\n",
              "3     358     1210     5.0   957481884\n",
              "4     130      316     2.0  1138999234"
            ]
          },
          "metadata": {
            "tags": []
          },
          "execution_count": 109
        }
      ]
    },
    {
      "metadata": {
        "id": "IvN5CYOIXUQ-",
        "colab_type": "code",
        "colab": {}
      },
      "cell_type": "code",
      "source": [
        "data_sample = CollabDataBunch.from_df(df, user_name='userId', item_name='movieId', rating_name='rating', seed=42)"
      ],
      "execution_count": 0,
      "outputs": []
    },
    {
      "metadata": {
        "id": "cPeMR6vBXQMH",
        "colab_type": "code",
        "colab": {}
      },
      "cell_type": "code",
      "source": [
        "learner_sample = collab_learner(data_sample, n_factors=50, y_range=[0,5.5])"
      ],
      "execution_count": 0,
      "outputs": []
    },
    {
      "metadata": {
        "id": "iscRSREjXTxe",
        "colab_type": "code",
        "colab": {
          "base_uri": "https://localhost:8080/",
          "height": 128
        },
        "outputId": "525eddf7-87c6-4d4e-84c2-ac681c45918e"
      },
      "cell_type": "code",
      "source": [
        "learner_sample.lr_find()"
      ],
      "execution_count": 112,
      "outputs": [
        {
          "output_type": "display_data",
          "data": {
            "text/html": [
              "\n",
              "    <div>\n",
              "        <style>\n",
              "            /* Turns off some styling */\n",
              "            progress {\n",
              "                /* gets rid of default border in Firefox and Opera. */\n",
              "                border: none;\n",
              "                /* Needs to be in here for Safari polyfill so background images work as expected. */\n",
              "                background-size: auto;\n",
              "            }\n",
              "            .progress-bar-interrupted, .progress-bar-interrupted::-webkit-progress-bar {\n",
              "                background: #F44336;\n",
              "            }\n",
              "        </style>\n",
              "      <progress value='1' class='' max='2', style='width:300px; height:20px; vertical-align: middle;'></progress>\n",
              "      50.00% [1/2 00:00<00:00]\n",
              "    </div>\n",
              "    \n",
              "<table style='width:300px; margin-bottom:10px'>\n",
              "  <tr>\n",
              "    <th>epoch</th>\n",
              "    <th>train_loss</th>\n",
              "    <th>valid_loss</th>\n",
              "  </tr>\n",
              "  <tr>\n",
              "    <th>1</th>\n",
              "    <th>1.834118</th>\n",
              "  </tr>\n",
              "</table>\n",
              "\n",
              "\n",
              "    <div>\n",
              "        <style>\n",
              "            /* Turns off some styling */\n",
              "            progress {\n",
              "                /* gets rid of default border in Firefox and Opera. */\n",
              "                border: none;\n",
              "                /* Needs to be in here for Safari polyfill so background images work as expected. */\n",
              "                background-size: auto;\n",
              "            }\n",
              "            .progress-bar-interrupted, .progress-bar-interrupted::-webkit-progress-bar {\n",
              "                background: #F44336;\n",
              "            }\n",
              "        </style>\n",
              "      <progress value='0' class='progress-bar-interrupted' max='75', style='width:300px; height:20px; vertical-align: middle;'></progress>\n",
              "      Interrupted\n",
              "    </div>\n",
              "    "
            ],
            "text/plain": [
              "<IPython.core.display.HTML object>"
            ]
          },
          "metadata": {
            "tags": []
          }
        },
        {
          "output_type": "stream",
          "text": [
            "LR Finder is complete, type {learner_name}.recorder.plot() to see the graph.\n"
          ],
          "name": "stdout"
        }
      ]
    },
    {
      "metadata": {
        "id": "hVQIY7aiX-mM",
        "colab_type": "code",
        "colab": {
          "base_uri": "https://localhost:8080/",
          "height": 279
        },
        "outputId": "e6280e1a-5b83-4082-a0d8-63d5205855d7"
      },
      "cell_type": "code",
      "source": [
        "learner_sample.recorder.plot(skip_end=18)"
      ],
      "execution_count": 113,
      "outputs": [
        {
          "output_type": "display_data",
          "data": {
            "image/png": "[encoded data removed]",
            "text/plain": [
              "<Figure size 432x288 with 1 Axes>"
            ]
          },
          "metadata": {
            "tags": []
          }
        }
      ]
    },
    {
      "metadata": {
        "id": "kk93eJzdX_2M",
        "colab_type": "code",
        "colab": {
          "base_uri": "https://localhost:8080/",
          "height": 283
        },
        "outputId": "e40466b5-5269-40f3-8c31-d78196385be1"
      },
      "cell_type": "code",
      "source": [
        "\"\"\"\n",
        "without y_range\n",
        "epoch\ttrain_loss\tvalid_loss\n",
        "1\t5.920862\t1.484214\n",
        "2\t5.004538\t8.521023\n",
        "3\t6.561814\t4.836695\n",
        "4\t3.368830\t1.466033\n",
        "5\t1.234028\t1.108371\n",
        "\n",
        "with y_range\n",
        "epoch\ttrain_loss\tvalid_loss\n",
        "1\t1.732687\t1.291793\n",
        "2\t0.913472\t0.728804\n",
        "3\t0.676444\t0.728984\n",
        "\"\"\"\n",
        "from fastai.callbacks import SaveModelCallback\n",
        "save_model = SaveModelCallback(learner_sample, name='v1')\n",
        "learner_sample.fit_one_cycle(10, max_lr=2e-2, callbacks=[save_model])"
      ],
      "execution_count": 114,
      "outputs": [
        {
          "output_type": "display_data",
          "data": {
            "text/html": [
              "Total time: 00:09 <p><table style='width:300px; margin-bottom:10px'>\n",
              "  <tr>\n",
              "    <th>epoch</th>\n",
              "    <th>train_loss</th>\n",
              "    <th>valid_loss</th>\n",
              "  </tr>\n",
              "  <tr>\n",
              "    <th>1</th>\n",
              "    <th>1.749584</th>\n",
              "    <th>1.352984</th>\n",
              "  </tr>\n",
              "  <tr>\n",
              "    <th>2</th>\n",
              "    <th>0.915365</th>\n",
              "    <th>0.716959</th>\n",
              "  </tr>\n",
              "  <tr>\n",
              "    <th>3</th>\n",
              "    <th>0.682466</th>\n",
              "    <th>0.767699</th>\n",
              "  </tr>\n",
              "  <tr>\n",
              "    <th>4</th>\n",
              "    <th>0.470093</th>\n",
              "    <th>0.803767</th>\n",
              "  </tr>\n",
              "  <tr>\n",
              "    <th>5</th>\n",
              "    <th>0.283130</th>\n",
              "    <th>0.771056</th>\n",
              "  </tr>\n",
              "  <tr>\n",
              "    <th>6</th>\n",
              "    <th>0.161176</th>\n",
              "    <th>0.784054</th>\n",
              "  </tr>\n",
              "  <tr>\n",
              "    <th>7</th>\n",
              "    <th>0.089248</th>\n",
              "    <th>0.782677</th>\n",
              "  </tr>\n",
              "  <tr>\n",
              "    <th>8</th>\n",
              "    <th>0.046488</th>\n",
              "    <th>0.795954</th>\n",
              "  </tr>\n",
              "  <tr>\n",
              "    <th>9</th>\n",
              "    <th>0.024660</th>\n",
              "    <th>0.796947</th>\n",
              "  </tr>\n",
              "  <tr>\n",
              "    <th>10</th>\n",
              "    <th>0.015728</th>\n",
              "    <th>0.798064</th>\n",
              "  </tr>\n",
              "</table>\n"
            ],
            "text/plain": [
              "<IPython.core.display.HTML object>"
            ]
          },
          "metadata": {
            "tags": []
          }
        }
      ]
    },
    {
      "metadata": {
        "id": "DR1nxO-SYhsS",
        "colab_type": "code",
        "colab": {
          "base_uri": "https://localhost:8080/",
          "height": 34
        },
        "outputId": "5ad699c6-10f0-4ca5-c0d2-0691ef6ceee9"
      },
      "cell_type": "code",
      "source": [
        "weird_return = learner_sample.load('v1')\n",
        "type(weird_return)"
      ],
      "execution_count": 115,
      "outputs": [
        {
          "output_type": "execute_result",
          "data": {
            "text/plain": [
              "fastai.collab.CollabLearner"
            ]
          },
          "metadata": {
            "tags": []
          },
          "execution_count": 115
        }
      ]
    },
    {
      "metadata": {
        "id": "ZcwJ2Vt_YL20",
        "colab_type": "code",
        "colab": {
          "base_uri": "https://localhost:8080/",
          "height": 34
        },
        "outputId": "533fed68-8a86-4bdd-d517-be4205ff8be9"
      },
      "cell_type": "code",
      "source": [
        "type(learner_sample)"
      ],
      "execution_count": 116,
      "outputs": [
        {
          "output_type": "execute_result",
          "data": {
            "text/plain": [
              "fastai.collab.CollabLearner"
            ]
          },
          "metadata": {
            "tags": []
          },
          "execution_count": 116
        }
      ]
    },
    {
      "metadata": {
        "id": "WOB75OyuY5Yb",
        "colab_type": "code",
        "colab": {
          "base_uri": "https://localhost:8080/",
          "height": 34
        },
        "outputId": "13521144-a296-42a1-c51a-08172ca8e94e"
      },
      "cell_type": "code",
      "source": [
        "learner_sample.validate()"
      ],
      "execution_count": 117,
      "outputs": [
        {
          "output_type": "execute_result",
          "data": {
            "text/plain": [
              "[0.7169588]"
            ]
          },
          "metadata": {
            "tags": []
          },
          "execution_count": 117
        }
      ]
    },
    {
      "metadata": {
        "id": "amwpESSRaYrw",
        "colab_type": "code",
        "colab": {
          "base_uri": "https://localhost:8080/",
          "height": 128
        },
        "outputId": "3cf420e1-da88-4804-d0c0-023586679d95"
      },
      "cell_type": "code",
      "source": [
        "learner_sample.lr_find(1e-10, 1e-01)"
      ],
      "execution_count": 118,
      "outputs": [
        {
          "output_type": "display_data",
          "data": {
            "text/html": [
              "\n",
              "    <div>\n",
              "        <style>\n",
              "            /* Turns off some styling */\n",
              "            progress {\n",
              "                /* gets rid of default border in Firefox and Opera. */\n",
              "                border: none;\n",
              "                /* Needs to be in here for Safari polyfill so background images work as expected. */\n",
              "                background-size: auto;\n",
              "            }\n",
              "            .progress-bar-interrupted, .progress-bar-interrupted::-webkit-progress-bar {\n",
              "                background: #F44336;\n",
              "            }\n",
              "        </style>\n",
              "      <progress value='1' class='' max='2', style='width:300px; height:20px; vertical-align: middle;'></progress>\n",
              "      50.00% [1/2 00:00<00:00]\n",
              "    </div>\n",
              "    \n",
              "<table style='width:300px; margin-bottom:10px'>\n",
              "  <tr>\n",
              "    <th>epoch</th>\n",
              "    <th>train_loss</th>\n",
              "    <th>valid_loss</th>\n",
              "  </tr>\n",
              "  <tr>\n",
              "    <th>1</th>\n",
              "    <th>0.593399</th>\n",
              "  </tr>\n",
              "</table>\n",
              "\n",
              "\n",
              "    <div>\n",
              "        <style>\n",
              "            /* Turns off some styling */\n",
              "            progress {\n",
              "                /* gets rid of default border in Firefox and Opera. */\n",
              "                border: none;\n",
              "                /* Needs to be in here for Safari polyfill so background images work as expected. */\n",
              "                background-size: auto;\n",
              "            }\n",
              "            .progress-bar-interrupted, .progress-bar-interrupted::-webkit-progress-bar {\n",
              "                background: #F44336;\n",
              "            }\n",
              "        </style>\n",
              "      <progress value='0' class='progress-bar-interrupted' max='75', style='width:300px; height:20px; vertical-align: middle;'></progress>\n",
              "      Interrupted\n",
              "    </div>\n",
              "    "
            ],
            "text/plain": [
              "<IPython.core.display.HTML object>"
            ]
          },
          "metadata": {
            "tags": []
          }
        },
        {
          "output_type": "stream",
          "text": [
            "LR Finder is complete, type {learner_name}.recorder.plot() to see the graph.\n"
          ],
          "name": "stdout"
        }
      ]
    },
    {
      "metadata": {
        "id": "OxiBhbcWaab7",
        "colab_type": "code",
        "colab": {
          "base_uri": "https://localhost:8080/",
          "height": 279
        },
        "outputId": "6bdeb075-7aad-411d-caf1-5d1089d3f9e9"
      },
      "cell_type": "code",
      "source": [
        "learner_sample.recorder.plot()"
      ],
      "execution_count": 119,
      "outputs": [
        {
          "output_type": "display_data",
          "data": {
            "image/png": "[encoded data removed]",
            "text/plain": [
              "<Figure size 432x288 with 1 Axes>"
            ]
          },
          "metadata": {
            "tags": []
          }
        }
      ]
    },
    {
      "metadata": {
        "id": "NhksOyTga5ED",
        "colab_type": "code",
        "colab": {
          "base_uri": "https://localhost:8080/",
          "height": 545
        },
        "outputId": "4047a6f2-6a4b-4af6-872d-62f8bec05d69"
      },
      "cell_type": "code",
      "source": [
        "learner_sample.load('v1')\n",
        "save_model = SaveModelCallback(learner_sample, name='v2')\n",
        "learner_sample.fit_one_cycle(10, max_lr=1e-3, callbacks=[save_model])\n",
        "learner_sample.recorder.plot_losses()"
      ],
      "execution_count": 120,
      "outputs": [
        {
          "output_type": "display_data",
          "data": {
            "text/html": [
              "Total time: 00:09 <p><table style='width:300px; margin-bottom:10px'>\n",
              "  <tr>\n",
              "    <th>epoch</th>\n",
              "    <th>train_loss</th>\n",
              "    <th>valid_loss</th>\n",
              "  </tr>\n",
              "  <tr>\n",
              "    <th>1</th>\n",
              "    <th>0.584104</th>\n",
              "    <th>0.709611</th>\n",
              "  </tr>\n",
              "  <tr>\n",
              "    <th>2</th>\n",
              "    <th>0.574593</th>\n",
              "    <th>0.682045</th>\n",
              "  </tr>\n",
              "  <tr>\n",
              "    <th>3</th>\n",
              "    <th>0.546741</th>\n",
              "    <th>0.654887</th>\n",
              "  </tr>\n",
              "  <tr>\n",
              "    <th>4</th>\n",
              "    <th>0.511989</th>\n",
              "    <th>0.639569</th>\n",
              "  </tr>\n",
              "  <tr>\n",
              "    <th>5</th>\n",
              "    <th>0.487948</th>\n",
              "    <th>0.634521</th>\n",
              "  </tr>\n",
              "  <tr>\n",
              "    <th>6</th>\n",
              "    <th>0.470416</th>\n",
              "    <th>0.630616</th>\n",
              "  </tr>\n",
              "  <tr>\n",
              "    <th>7</th>\n",
              "    <th>0.443441</th>\n",
              "    <th>0.629381</th>\n",
              "  </tr>\n",
              "  <tr>\n",
              "    <th>8</th>\n",
              "    <th>0.432180</th>\n",
              "    <th>0.628374</th>\n",
              "  </tr>\n",
              "  <tr>\n",
              "    <th>9</th>\n",
              "    <th>0.421960</th>\n",
              "    <th>0.628232</th>\n",
              "  </tr>\n",
              "  <tr>\n",
              "    <th>10</th>\n",
              "    <th>0.417903</th>\n",
              "    <th>0.628160</th>\n",
              "  </tr>\n",
              "</table>\n"
            ],
            "text/plain": [
              "<IPython.core.display.HTML object>"
            ]
          },
          "metadata": {
            "tags": []
          }
        },
        {
          "output_type": "display_data",
          "data": {
            "image/png": "[encoded data removed]",
            "text/plain": [
              "<Figure size 432x288 with 1 Axes>"
            ]
          },
          "metadata": {
            "tags": []
          }
        }
      ]
    },
    {
      "metadata": {
        "id": "LYd6KfxdxtEF",
        "colab_type": "code",
        "colab": {}
      },
      "cell_type": "code",
      "source": [
        "learner_sample.load('v2');"
      ],
      "execution_count": 0,
      "outputs": []
    },
    {
      "metadata": {
        "id": "yXKZpl-SxxOB",
        "colab_type": "code",
        "colab": {
          "base_uri": "https://localhost:8080/",
          "height": 34
        },
        "outputId": "ac641226-2b81-43bf-d9fe-4880888be368"
      },
      "cell_type": "code",
      "source": [
        "learner_sample.validate()"
      ],
      "execution_count": 122,
      "outputs": [
        {
          "output_type": "execute_result",
          "data": {
            "text/plain": [
              "[0.6281604]"
            ]
          },
          "metadata": {
            "tags": []
          },
          "execution_count": 122
        }
      ]
    },
    {
      "metadata": {
        "id": "4rTexohHx2WF",
        "colab_type": "code",
        "colab": {
          "base_uri": "https://localhost:8080/",
          "height": 650
        },
        "outputId": "cb56f9a9-4634-4ca9-9c64-3218617bcda4"
      },
      "cell_type": "code",
      "source": [
        "def diy(df):\n",
        "  databunch = CollabDataBunch.from_df(df, user_name='userId', item_name='movieId', rating_name='rating', seed=42)\n",
        "  import pdb\n",
        "  from IPython.display import display\n",
        "  # TODO: see if I can get to the indexes built by the CollabFilterDataset can be used just in case, otherwise I don't care - proper ones should be sent to the model\n",
        "  #userEmbById = {itemId:embIdx for (embIdx, itemId) in enumerate(df['userId'].unique())}\n",
        "  #movieEmbById = {itemId:embIdx for (embIdx, itemId) in enumerate(df['movieId'].unique())}\n",
        "  n_users = len(df['userId'].unique())\n",
        "  n_movies = len(df['movieId'].unique())\n",
        "  n_dim = 50\n",
        "  min_rating = 0\n",
        "  max_rating = 5.5\n",
        "\n",
        "  #batch = next(iter(databunch.train_ds))\n",
        "\n",
        "  def embedding(n_items, embedding_dim=n_dim):\n",
        "    e = nn.Embedding(num_embeddings=n_items+1, embedding_dim=embedding_dim)\n",
        "    e.weight.data.uniform_(0.01)\n",
        "    return e\n",
        "  \n",
        "  class EmbeddingDotBias(nn.Module):\n",
        "    def __init__(self):\n",
        "      super(EmbeddingDotBias, self).__init__()\n",
        "      # TODO: this is pretty weird to add a 1 to make stuff work\n",
        "      # dict transform sort of applied before getting here as max user_id is ~600 and max movie_id is ~50k\n",
        "      self.user_embedding = embedding(n_users+1)\n",
        "      self.movie_embedding = embedding(n_users+1)\n",
        "      self.user_bias = embedding(n_users+1, 1)\n",
        "      self.movie_bias = embedding(n_movies+1, 1)\n",
        "      \n",
        "    #(Pdb) batch[0]\n",
        "    #CollabLine userId 73; movieId 1097; \n",
        "    #(Pdb) batch[1]\n",
        "    # FloatItem 4.0\n",
        "    def forward(self, movies_batch, users_batch):\n",
        "      u = self.user_embedding(users_batch)\n",
        "      m = self.movie_embedding(movies_batch)\n",
        "      u_b = self.user_bias(users_batch)\n",
        "      m_b = self.movie_bias(movies_batch)\n",
        "      res = (u * m).sum(1) + u_b.squeeze() + m_b.squeeze()\n",
        "      res = res.sigmoid()*(max_rating-min_rating) + min_rating\n",
        "      return res\n",
        " \n",
        "  # Note to self: Adam converges much faster for some reason :/ 0.949581 without u_b+m_b, 0.85 - with\n",
        "  # Note to self: sigmoid trick gets us to 0.7 in 15 iterations with a larger LR\n",
        "  # Note to self: putting min_value of 0.5 (true min from the dataset) hurts us converging, putting max_value to be 5.5 gets us to 0.68\n",
        "  # Note to self: summing as the last step had the above results, getting to summing as the first step returns us back to 0.8 and more overfitting :/\n",
        "  #learner = CollabLearner(databunch, EmbeddingDotBias(), metrics=None, wd=0.01, opt_func=partial(optim.SGD, momentum=0.1))\n",
        "  learner = CollabLearner(databunch, EmbeddingDotBias(), metrics=None, wd=0.01)\n",
        "  #learner.lr_find()\n",
        "  #learner.recorder.plot()\n",
        "  # Note to self: this is a fun way to prevent NaN's from occuring with a bad LR, hurts convergint fast though\n",
        "  #learner.clip_grad(3)\n",
        "  \n",
        "  learner.fit_one_cycle(15, max_lr=0.05)\n",
        "  learner.recorder.plot_losses()\n",
        "\n",
        "  #model = EmbeddingDotBias().cuda()\n",
        "  #optimizer = optim.SGD(lr=0.01, params=model.parameters())\n",
        "  #fit(epochs=2, model=model, loss_func = mse, opt=optimizer, data=databunch, metrics=[mse])\n",
        "  # Note to self: no init -> loss=75, uniform_(-0.01,0.01) -> loss=15, uniform_(0.01) -> loss=7.6\n",
        "  #print(validate(model, databunch.valid_dl, loss_func=F.mse_loss))\n",
        "\n",
        "diy(df)"
      ],
      "execution_count": 123,
      "outputs": [
        {
          "output_type": "display_data",
          "data": {
            "text/html": [
              "Total time: 00:14 <p><table style='width:300px; margin-bottom:10px'>\n",
              "  <tr>\n",
              "    <th>epoch</th>\n",
              "    <th>train_loss</th>\n",
              "    <th>valid_loss</th>\n",
              "  </tr>\n",
              "  <tr>\n",
              "    <th>1</th>\n",
              "    <th>3.798452</th>\n",
              "    <th>3.644138</th>\n",
              "  </tr>\n",
              "  <tr>\n",
              "    <th>2</th>\n",
              "    <th>2.154067</th>\n",
              "    <th>1.138628</th>\n",
              "  </tr>\n",
              "  <tr>\n",
              "    <th>3</th>\n",
              "    <th>1.083751</th>\n",
              "    <th>1.098889</th>\n",
              "  </tr>\n",
              "  <tr>\n",
              "    <th>4</th>\n",
              "    <th>0.738600</th>\n",
              "    <th>1.312123</th>\n",
              "  </tr>\n",
              "  <tr>\n",
              "    <th>5</th>\n",
              "    <th>1.008404</th>\n",
              "    <th>1.565848</th>\n",
              "  </tr>\n",
              "  <tr>\n",
              "    <th>6</th>\n",
              "    <th>1.130878</th>\n",
              "    <th>1.493636</th>\n",
              "  </tr>\n",
              "  <tr>\n",
              "    <th>7</th>\n",
              "    <th>1.034368</th>\n",
              "    <th>1.331754</th>\n",
              "  </tr>\n",
              "  <tr>\n",
              "    <th>8</th>\n",
              "    <th>0.781030</th>\n",
              "    <th>1.124204</th>\n",
              "  </tr>\n",
              "  <tr>\n",
              "    <th>9</th>\n",
              "    <th>0.566122</th>\n",
              "    <th>1.008733</th>\n",
              "  </tr>\n",
              "  <tr>\n",
              "    <th>10</th>\n",
              "    <th>0.368302</th>\n",
              "    <th>0.886550</th>\n",
              "  </tr>\n",
              "  <tr>\n",
              "    <th>11</th>\n",
              "    <th>0.217484</th>\n",
              "    <th>0.869948</th>\n",
              "  </tr>\n",
              "  <tr>\n",
              "    <th>12</th>\n",
              "    <th>0.109630</th>\n",
              "    <th>0.858514</th>\n",
              "  </tr>\n",
              "  <tr>\n",
              "    <th>13</th>\n",
              "    <th>0.050911</th>\n",
              "    <th>0.859335</th>\n",
              "  </tr>\n",
              "  <tr>\n",
              "    <th>14</th>\n",
              "    <th>0.024541</th>\n",
              "    <th>0.866149</th>\n",
              "  </tr>\n",
              "  <tr>\n",
              "    <th>15</th>\n",
              "    <th>0.015351</th>\n",
              "    <th>0.866875</th>\n",
              "  </tr>\n",
              "</table>\n"
            ],
            "text/plain": [
              "<IPython.core.display.HTML object>"
            ]
          },
          "metadata": {
            "tags": []
          }
        },
        {
          "output_type": "display_data",
          "data": {
            "image/png": "[encoded data removed]",
            "text/plain": [
              "<Figure size 432x288 with 1 Axes>"
            ]
          },
          "metadata": {
            "tags": []
          }
        }
      ]
    },
    {
      "metadata": {
        "id": "y1QKS3p4sD6T",
        "colab_type": "code",
        "colab": {
          "base_uri": "https://localhost:8080/",
          "height": 34
        },
        "outputId": "7243b436-6425-4565-bf57-7dfb14ba6c39"
      },
      "cell_type": "code",
      "source": [
        "df['rating'].min(), df['rating'].max()"
      ],
      "execution_count": 124,
      "outputs": [
        {
          "output_type": "execute_result",
          "data": {
            "text/plain": [
              "(0.5, 5.0)"
            ]
          },
          "metadata": {
            "tags": []
          },
          "execution_count": 124
        }
      ]
    },
    {
      "metadata": {
        "id": "81MaHBaNZAUD",
        "colab_type": "code",
        "colab": {}
      },
      "cell_type": "code",
      "source": [
        "!ls ml-100k/ub.test > /dev/null || wget http://files.grouplens.org/datasets/movielens/ml-100k.zip"
      ],
      "execution_count": 0,
      "outputs": []
    },
    {
      "metadata": {
        "id": "6zE9UQdPaCdx",
        "colab_type": "code",
        "colab": {
          "base_uri": "https://localhost:8080/",
          "height": 34
        },
        "outputId": "5915fde8-6948-4528-88c9-6a08b013f575"
      },
      "cell_type": "code",
      "source": [
        "!ls ml-100k/ub.test > /dev/null || unzip ml-100k"
      ],
      "execution_count": 130,
      "outputs": [
        {
          "output_type": "stream",
          "text": [
            "ml-100k/ub.test\n"
          ],
          "name": "stdout"
        }
      ]
    },
    {
      "metadata": {
        "id": "4Bukh3-RS4xa",
        "colab_type": "code",
        "colab": {
          "base_uri": "https://localhost:8080/",
          "height": 68
        },
        "outputId": "38c0f7a2-e10b-426a-ec83-70795a8d14b4"
      },
      "cell_type": "code",
      "source": [
        "!ls ml-100k"
      ],
      "execution_count": 133,
      "outputs": [
        {
          "output_type": "stream",
          "text": [
            "allbut.pl  u1.base  u2.test  u4.base  u5.test  ub.base\tu.genre  u.occupation\n",
            "mku.sh\t   u1.test  u3.base  u4.test  ua.base  ub.test\tu.info\t u.user\n",
            "README\t   u2.base  u3.test  u5.base  ua.test  u.data\tu.item\n"
          ],
          "name": "stdout"
        }
      ]
    },
    {
      "metadata": {
        "id": "UrH-z_qqZY2O",
        "colab_type": "code",
        "colab": {
          "base_uri": "https://localhost:8080/",
          "height": 51
        },
        "outputId": "427846f4-b4e8-4924-de4b-793c24a1f497"
      },
      "cell_type": "code",
      "source": [
        "!head -n2 ml-100k/u.item"
      ],
      "execution_count": 176,
      "outputs": [
        {
          "output_type": "stream",
          "text": [
            "196\t242\t3\t881250949\n",
            "186\t302\t3\t891717742\n"
          ],
          "name": "stdout"
        }
      ]
    },
    {
      "metadata": {
        "id": "F3foNA6ZaG_Y",
        "colab_type": "code",
        "colab": {
          "base_uri": "https://localhost:8080/",
          "height": 204
        },
        "outputId": "4664bb2f-4065-4f76-f51a-47fd829548a1"
      },
      "cell_type": "code",
      "source": [
        "ratings = pd.read_csv('ml-100k/u.data', delimiter='\\t', header=None,\n",
        "                      names=['userId','movieId','rating','timestamp'])\n",
        "ratings.head()"
      ],
      "execution_count": 136,
      "outputs": [
        {
          "output_type": "execute_result",
          "data": {
            "text/html": [
              "<div>\n",
              "<style scoped>\n",
              "    .dataframe tbody tr th:only-of-type {\n",
              "        vertical-align: middle;\n",
              "    }\n",
              "\n",
              "    .dataframe tbody tr th {\n",
              "        vertical-align: top;\n",
              "    }\n",
              "\n",
              "    .dataframe thead th {\n",
              "        text-align: right;\n",
              "    }\n",
              "</style>\n",
              "<table border=\"1\" class=\"dataframe\">\n",
              "  <thead>\n",
              "    <tr style=\"text-align: right;\">\n",
              "      <th></th>\n",
              "      <th>userId</th>\n",
              "      <th>movieId</th>\n",
              "      <th>rating</th>\n",
              "      <th>timestamp</th>\n",
              "    </tr>\n",
              "  </thead>\n",
              "  <tbody>\n",
              "    <tr>\n",
              "      <th>0</th>\n",
              "      <td>196</td>\n",
              "      <td>242</td>\n",
              "      <td>3</td>\n",
              "      <td>881250949</td>\n",
              "    </tr>\n",
              "    <tr>\n",
              "      <th>1</th>\n",
              "      <td>186</td>\n",
              "      <td>302</td>\n",
              "      <td>3</td>\n",
              "      <td>891717742</td>\n",
              "    </tr>\n",
              "    <tr>\n",
              "      <th>2</th>\n",
              "      <td>22</td>\n",
              "      <td>377</td>\n",
              "      <td>1</td>\n",
              "      <td>878887116</td>\n",
              "    </tr>\n",
              "    <tr>\n",
              "      <th>3</th>\n",
              "      <td>244</td>\n",
              "      <td>51</td>\n",
              "      <td>2</td>\n",
              "      <td>880606923</td>\n",
              "    </tr>\n",
              "    <tr>\n",
              "      <th>4</th>\n",
              "      <td>166</td>\n",
              "      <td>346</td>\n",
              "      <td>1</td>\n",
              "      <td>886397596</td>\n",
              "    </tr>\n",
              "  </tbody>\n",
              "</table>\n",
              "</div>"
            ],
            "text/plain": [
              "   userId  movieId  rating  timestamp\n",
              "0     196      242       3  881250949\n",
              "1     186      302       3  891717742\n",
              "2      22      377       1  878887116\n",
              "3     244       51       2  880606923\n",
              "4     166      346       1  886397596"
            ]
          },
          "metadata": {
            "tags": []
          },
          "execution_count": 136
        }
      ]
    },
    {
      "metadata": {
        "id": "UrIprNs8WaxS",
        "colab_type": "code",
        "colab": {
          "base_uri": "https://localhost:8080/",
          "height": 34
        },
        "outputId": "481334a8-32ce-4d6f-b52b-3060cb3891e7"
      },
      "cell_type": "code",
      "source": [
        "len(ratings)"
      ],
      "execution_count": 135,
      "outputs": [
        {
          "output_type": "execute_result",
          "data": {
            "text/plain": [
              "100000"
            ]
          },
          "metadata": {
            "tags": []
          },
          "execution_count": 135
        }
      ]
    },
    {
      "metadata": {
        "id": "Y80tLVRvZish",
        "colab_type": "code",
        "colab": {
          "base_uri": "https://localhost:8080/",
          "height": 51
        },
        "outputId": "b08359c1-cff6-45e2-8776-1b428927ee59"
      },
      "cell_type": "code",
      "source": [
        "!head -n2 ml-100k/u.item"
      ],
      "execution_count": 178,
      "outputs": [
        {
          "output_type": "stream",
          "text": [
            "1|Toy Story (1995)|01-Jan-1995||http://us.imdb.com/M/title-exact?Toy%20Story%20(1995)|0|0|0|1|1|1|0|0|0|0|0|0|0|0|0|0|0|0|0\n",
            "2|GoldenEye (1995)|01-Jan-1995||http://us.imdb.com/M/title-exact?GoldenEye%20(1995)|0|1|1|0|0|0|0|0|0|0|0|0|0|0|0|0|1|0|0\n"
          ],
          "name": "stdout"
        }
      ]
    },
    {
      "metadata": {
        "id": "Dwo38eWfZ6vF",
        "colab_type": "code",
        "colab": {
          "base_uri": "https://localhost:8080/",
          "height": 34
        },
        "outputId": "70e6358f-650b-428d-ea54-36209384406e"
      },
      "cell_type": "code",
      "source": [
        "[f'g{i}' for i in range(3)]"
      ],
      "execution_count": 183,
      "outputs": [
        {
          "output_type": "execute_result",
          "data": {
            "text/plain": [
              "['g0', 'g1', 'g2']"
            ]
          },
          "metadata": {
            "tags": []
          },
          "execution_count": 183
        }
      ]
    },
    {
      "metadata": {
        "id": "Td8YDxfjZTOi",
        "colab_type": "code",
        "colab": {
          "base_uri": "https://localhost:8080/",
          "height": 233
        },
        "outputId": "4785cab3-ff97-461f-bba5-329a29dd4e90"
      },
      "cell_type": "code",
      "source": [
        "movies = pd.read_csv('ml-100k/u.item', delimiter='|', header=None, encoding='latin-1',\n",
        "                      names=['movieId','title','date','_whatever','url',*[f'g{i}' for i in range(19)]])\n",
        "movies.head()"
      ],
      "execution_count": 185,
      "outputs": [
        {
          "output_type": "execute_result",
          "data": {
            "text/html": [
              "<div>\n",
              "<style scoped>\n",
              "    .dataframe tbody tr th:only-of-type {\n",
              "        vertical-align: middle;\n",
              "    }\n",
              "\n",
              "    .dataframe tbody tr th {\n",
              "        vertical-align: top;\n",
              "    }\n",
              "\n",
              "    .dataframe thead th {\n",
              "        text-align: right;\n",
              "    }\n",
              "</style>\n",
              "<table border=\"1\" class=\"dataframe\">\n",
              "  <thead>\n",
              "    <tr style=\"text-align: right;\">\n",
              "      <th></th>\n",
              "      <th>movieId</th>\n",
              "      <th>title</th>\n",
              "      <th>date</th>\n",
              "      <th>_whatever</th>\n",
              "      <th>url</th>\n",
              "      <th>g0</th>\n",
              "      <th>g1</th>\n",
              "      <th>g2</th>\n",
              "      <th>g3</th>\n",
              "      <th>g4</th>\n",
              "      <th>...</th>\n",
              "      <th>g9</th>\n",
              "      <th>g10</th>\n",
              "      <th>g11</th>\n",
              "      <th>g12</th>\n",
              "      <th>g13</th>\n",
              "      <th>g14</th>\n",
              "      <th>g15</th>\n",
              "      <th>g16</th>\n",
              "      <th>g17</th>\n",
              "      <th>g18</th>\n",
              "    </tr>\n",
              "  </thead>\n",
              "  <tbody>\n",
              "    <tr>\n",
              "      <th>0</th>\n",
              "      <td>1</td>\n",
              "      <td>Toy Story (1995)</td>\n",
              "      <td>01-Jan-1995</td>\n",
              "      <td>NaN</td>\n",
              "      <td>http://us.imdb.com/M/title-exact?Toy%20Story%2...</td>\n",
              "      <td>0</td>\n",
              "      <td>0</td>\n",
              "      <td>0</td>\n",
              "      <td>1</td>\n",
              "      <td>1</td>\n",
              "      <td>...</td>\n",
              "      <td>0</td>\n",
              "      <td>0</td>\n",
              "      <td>0</td>\n",
              "      <td>0</td>\n",
              "      <td>0</td>\n",
              "      <td>0</td>\n",
              "      <td>0</td>\n",
              "      <td>0</td>\n",
              "      <td>0</td>\n",
              "      <td>0</td>\n",
              "    </tr>\n",
              "    <tr>\n",
              "      <th>1</th>\n",
              "      <td>2</td>\n",
              "      <td>GoldenEye (1995)</td>\n",
              "      <td>01-Jan-1995</td>\n",
              "      <td>NaN</td>\n",
              "      <td>http://us.imdb.com/M/title-exact?GoldenEye%20(...</td>\n",
              "      <td>0</td>\n",
              "      <td>1</td>\n",
              "      <td>1</td>\n",
              "      <td>0</td>\n",
              "      <td>0</td>\n",
              "      <td>...</td>\n",
              "      <td>0</td>\n",
              "      <td>0</td>\n",
              "      <td>0</td>\n",
              "      <td>0</td>\n",
              "      <td>0</td>\n",
              "      <td>0</td>\n",
              "      <td>0</td>\n",
              "      <td>1</td>\n",
              "      <td>0</td>\n",
              "      <td>0</td>\n",
              "    </tr>\n",
              "    <tr>\n",
              "      <th>2</th>\n",
              "      <td>3</td>\n",
              "      <td>Four Rooms (1995)</td>\n",
              "      <td>01-Jan-1995</td>\n",
              "      <td>NaN</td>\n",
              "      <td>http://us.imdb.com/M/title-exact?Four%20Rooms%...</td>\n",
              "      <td>0</td>\n",
              "      <td>0</td>\n",
              "      <td>0</td>\n",
              "      <td>0</td>\n",
              "      <td>0</td>\n",
              "      <td>...</td>\n",
              "      <td>0</td>\n",
              "      <td>0</td>\n",
              "      <td>0</td>\n",
              "      <td>0</td>\n",
              "      <td>0</td>\n",
              "      <td>0</td>\n",
              "      <td>0</td>\n",
              "      <td>1</td>\n",
              "      <td>0</td>\n",
              "      <td>0</td>\n",
              "    </tr>\n",
              "    <tr>\n",
              "      <th>3</th>\n",
              "      <td>4</td>\n",
              "      <td>Get Shorty (1995)</td>\n",
              "      <td>01-Jan-1995</td>\n",
              "      <td>NaN</td>\n",
              "      <td>http://us.imdb.com/M/title-exact?Get%20Shorty%...</td>\n",
              "      <td>0</td>\n",
              "      <td>1</td>\n",
              "      <td>0</td>\n",
              "      <td>0</td>\n",
              "      <td>0</td>\n",
              "      <td>...</td>\n",
              "      <td>0</td>\n",
              "      <td>0</td>\n",
              "      <td>0</td>\n",
              "      <td>0</td>\n",
              "      <td>0</td>\n",
              "      <td>0</td>\n",
              "      <td>0</td>\n",
              "      <td>0</td>\n",
              "      <td>0</td>\n",
              "      <td>0</td>\n",
              "    </tr>\n",
              "    <tr>\n",
              "      <th>4</th>\n",
              "      <td>5</td>\n",
              "      <td>Copycat (1995)</td>\n",
              "      <td>01-Jan-1995</td>\n",
              "      <td>NaN</td>\n",
              "      <td>http://us.imdb.com/M/title-exact?Copycat%20(1995)</td>\n",
              "      <td>0</td>\n",
              "      <td>0</td>\n",
              "      <td>0</td>\n",
              "      <td>0</td>\n",
              "      <td>0</td>\n",
              "      <td>...</td>\n",
              "      <td>0</td>\n",
              "      <td>0</td>\n",
              "      <td>0</td>\n",
              "      <td>0</td>\n",
              "      <td>0</td>\n",
              "      <td>0</td>\n",
              "      <td>0</td>\n",
              "      <td>1</td>\n",
              "      <td>0</td>\n",
              "      <td>0</td>\n",
              "    </tr>\n",
              "  </tbody>\n",
              "</table>\n",
              "<p>5 rows × 24 columns</p>\n",
              "</div>"
            ],
            "text/plain": [
              "   movieId              title         date  _whatever  \\\n",
              "0        1   Toy Story (1995)  01-Jan-1995        NaN   \n",
              "1        2   GoldenEye (1995)  01-Jan-1995        NaN   \n",
              "2        3  Four Rooms (1995)  01-Jan-1995        NaN   \n",
              "3        4  Get Shorty (1995)  01-Jan-1995        NaN   \n",
              "4        5     Copycat (1995)  01-Jan-1995        NaN   \n",
              "\n",
              "                                                 url  g0  g1  g2  g3  g4 ...   \\\n",
              "0  http://us.imdb.com/M/title-exact?Toy%20Story%2...   0   0   0   1   1 ...    \n",
              "1  http://us.imdb.com/M/title-exact?GoldenEye%20(...   0   1   1   0   0 ...    \n",
              "2  http://us.imdb.com/M/title-exact?Four%20Rooms%...   0   0   0   0   0 ...    \n",
              "3  http://us.imdb.com/M/title-exact?Get%20Shorty%...   0   1   0   0   0 ...    \n",
              "4  http://us.imdb.com/M/title-exact?Copycat%20(1995)   0   0   0   0   0 ...    \n",
              "\n",
              "   g9  g10  g11  g12  g13  g14  g15  g16  g17  g18  \n",
              "0   0    0    0    0    0    0    0    0    0    0  \n",
              "1   0    0    0    0    0    0    0    1    0    0  \n",
              "2   0    0    0    0    0    0    0    1    0    0  \n",
              "3   0    0    0    0    0    0    0    0    0    0  \n",
              "4   0    0    0    0    0    0    0    1    0    0  \n",
              "\n",
              "[5 rows x 24 columns]"
            ]
          },
          "metadata": {
            "tags": []
          },
          "execution_count": 185
        }
      ]
    },
    {
      "metadata": {
        "id": "VfkJq4CSad1A",
        "colab_type": "code",
        "colab": {
          "base_uri": "https://localhost:8080/",
          "height": 34
        },
        "outputId": "d59914be-c530-424d-ed9f-58995a70fd12"
      },
      "cell_type": "code",
      "source": [
        "movies['movieId'].dtype"
      ],
      "execution_count": 191,
      "outputs": [
        {
          "output_type": "execute_result",
          "data": {
            "text/plain": [
              "dtype('int64')"
            ]
          },
          "metadata": {
            "tags": []
          },
          "execution_count": 191
        }
      ]
    },
    {
      "metadata": {
        "id": "mxgbbjApbb5e",
        "colab_type": "code",
        "colab": {
          "base_uri": "https://localhost:8080/",
          "height": 2023
        },
        "outputId": "5abce94b-24bb-4bf8-b197-08ec74616382"
      },
      "cell_type": "code",
      "source": [
        "help(ratings.join)"
      ],
      "execution_count": 192,
      "outputs": [
        {
          "output_type": "stream",
          "text": [
            "Help on method join in module pandas.core.frame:\n",
            "\n",
            "join(other, on=None, how='left', lsuffix='', rsuffix='', sort=False) method of pandas.core.frame.DataFrame instance\n",
            "    Join columns with other DataFrame either on index or on a key\n",
            "    column. Efficiently Join multiple DataFrame objects by index at once by\n",
            "    passing a list.\n",
            "    \n",
            "    Parameters\n",
            "    ----------\n",
            "    other : DataFrame, Series with name field set, or list of DataFrame\n",
            "        Index should be similar to one of the columns in this one. If a\n",
            "        Series is passed, its name attribute must be set, and that will be\n",
            "        used as the column name in the resulting joined DataFrame\n",
            "    on : column name, tuple/list of column names, or array-like\n",
            "        Column(s) in the caller to join on the index in other,\n",
            "        otherwise joins index-on-index. If multiples\n",
            "        columns given, the passed DataFrame must have a MultiIndex. Can\n",
            "        pass an array as the join key if not already contained in the\n",
            "        calling DataFrame. Like an Excel VLOOKUP operation\n",
            "    how : {'left', 'right', 'outer', 'inner'}, default: 'left'\n",
            "        How to handle the operation of the two objects.\n",
            "    \n",
            "        * left: use calling frame's index (or column if on is specified)\n",
            "        * right: use other frame's index\n",
            "        * outer: form union of calling frame's index (or column if on is\n",
            "          specified) with other frame's index, and sort it\n",
            "          lexicographically\n",
            "        * inner: form intersection of calling frame's index (or column if\n",
            "          on is specified) with other frame's index, preserving the order\n",
            "          of the calling's one\n",
            "    lsuffix : string\n",
            "        Suffix to use from left frame's overlapping columns\n",
            "    rsuffix : string\n",
            "        Suffix to use from right frame's overlapping columns\n",
            "    sort : boolean, default False\n",
            "        Order result DataFrame lexicographically by the join key. If False,\n",
            "        the order of the join key depends on the join type (how keyword)\n",
            "    \n",
            "    Notes\n",
            "    -----\n",
            "    on, lsuffix, and rsuffix options are not supported when passing a list\n",
            "    of DataFrame objects\n",
            "    \n",
            "    Examples\n",
            "    --------\n",
            "    >>> caller = pd.DataFrame({'key': ['K0', 'K1', 'K2', 'K3', 'K4', 'K5'],\n",
            "    ...                        'A': ['A0', 'A1', 'A2', 'A3', 'A4', 'A5']})\n",
            "    \n",
            "    >>> caller\n",
            "        A key\n",
            "    0  A0  K0\n",
            "    1  A1  K1\n",
            "    2  A2  K2\n",
            "    3  A3  K3\n",
            "    4  A4  K4\n",
            "    5  A5  K5\n",
            "    \n",
            "    >>> other = pd.DataFrame({'key': ['K0', 'K1', 'K2'],\n",
            "    ...                       'B': ['B0', 'B1', 'B2']})\n",
            "    \n",
            "    >>> other\n",
            "        B key\n",
            "    0  B0  K0\n",
            "    1  B1  K1\n",
            "    2  B2  K2\n",
            "    \n",
            "    Join DataFrames using their indexes.\n",
            "    \n",
            "    >>> caller.join(other, lsuffix='_caller', rsuffix='_other')\n",
            "    \n",
            "    >>>     A key_caller    B key_other\n",
            "        0  A0         K0   B0        K0\n",
            "        1  A1         K1   B1        K1\n",
            "        2  A2         K2   B2        K2\n",
            "        3  A3         K3  NaN       NaN\n",
            "        4  A4         K4  NaN       NaN\n",
            "        5  A5         K5  NaN       NaN\n",
            "    \n",
            "    \n",
            "    If we want to join using the key columns, we need to set key to be\n",
            "    the index in both caller and other. The joined DataFrame will have\n",
            "    key as its index.\n",
            "    \n",
            "    >>> caller.set_index('key').join(other.set_index('key'))\n",
            "    \n",
            "    >>>      A    B\n",
            "        key\n",
            "        K0   A0   B0\n",
            "        K1   A1   B1\n",
            "        K2   A2   B2\n",
            "        K3   A3  NaN\n",
            "        K4   A4  NaN\n",
            "        K5   A5  NaN\n",
            "    \n",
            "    Another option to join using the key columns is to use the on\n",
            "    parameter. DataFrame.join always uses other's index but we can use any\n",
            "    column in the caller. This method preserves the original caller's\n",
            "    index in the result.\n",
            "    \n",
            "    >>> caller.join(other.set_index('key'), on='key')\n",
            "    \n",
            "    >>>     A key    B\n",
            "        0  A0  K0   B0\n",
            "        1  A1  K1   B1\n",
            "        2  A2  K2   B2\n",
            "        3  A3  K3  NaN\n",
            "        4  A4  K4  NaN\n",
            "        5  A5  K5  NaN\n",
            "    \n",
            "    \n",
            "    See also\n",
            "    --------\n",
            "    DataFrame.merge : For column(s)-on-columns(s) operations\n",
            "    \n",
            "    Returns\n",
            "    -------\n",
            "    joined : DataFrame\n",
            "\n"
          ],
          "name": "stdout"
        }
      ]
    },
    {
      "metadata": {
        "id": "uM4O-D7QaNIr",
        "colab_type": "code",
        "colab": {
          "base_uri": "https://localhost:8080/",
          "height": 204
        },
        "outputId": "cd39f18b-1173-441e-9006-e60618c88320"
      },
      "cell_type": "code",
      "source": [
        "# Note to self: join had been upcasting r. movieId to float64 :/ https://github.com/pandas-dev/pandas/issues/9958\n",
        "ratings.join(movies[['movieId', 'title']], rsuffix='_r', on='movieId', how='left').head()"
      ],
      "execution_count": 206,
      "outputs": [
        {
          "output_type": "execute_result",
          "data": {
            "text/html": [
              "<div>\n",
              "<style scoped>\n",
              "    .dataframe tbody tr th:only-of-type {\n",
              "        vertical-align: middle;\n",
              "    }\n",
              "\n",
              "    .dataframe tbody tr th {\n",
              "        vertical-align: top;\n",
              "    }\n",
              "\n",
              "    .dataframe thead th {\n",
              "        text-align: right;\n",
              "    }\n",
              "</style>\n",
              "<table border=\"1\" class=\"dataframe\">\n",
              "  <thead>\n",
              "    <tr style=\"text-align: right;\">\n",
              "      <th></th>\n",
              "      <th>userId</th>\n",
              "      <th>movieId</th>\n",
              "      <th>rating</th>\n",
              "      <th>timestamp</th>\n",
              "      <th>movieId_r</th>\n",
              "      <th>title</th>\n",
              "    </tr>\n",
              "  </thead>\n",
              "  <tbody>\n",
              "    <tr>\n",
              "      <th>0</th>\n",
              "      <td>196</td>\n",
              "      <td>242</td>\n",
              "      <td>3</td>\n",
              "      <td>881250949</td>\n",
              "      <td>243.0</td>\n",
              "      <td>Jungle2Jungle (1997)</td>\n",
              "    </tr>\n",
              "    <tr>\n",
              "      <th>1</th>\n",
              "      <td>186</td>\n",
              "      <td>302</td>\n",
              "      <td>3</td>\n",
              "      <td>891717742</td>\n",
              "      <td>303.0</td>\n",
              "      <td>Ulee's Gold (1997)</td>\n",
              "    </tr>\n",
              "    <tr>\n",
              "      <th>2</th>\n",
              "      <td>22</td>\n",
              "      <td>377</td>\n",
              "      <td>1</td>\n",
              "      <td>878887116</td>\n",
              "      <td>378.0</td>\n",
              "      <td>Miracle on 34th Street (1994)</td>\n",
              "    </tr>\n",
              "    <tr>\n",
              "      <th>3</th>\n",
              "      <td>244</td>\n",
              "      <td>51</td>\n",
              "      <td>2</td>\n",
              "      <td>880606923</td>\n",
              "      <td>52.0</td>\n",
              "      <td>Madness of King George, The (1994)</td>\n",
              "    </tr>\n",
              "    <tr>\n",
              "      <th>4</th>\n",
              "      <td>166</td>\n",
              "      <td>346</td>\n",
              "      <td>1</td>\n",
              "      <td>886397596</td>\n",
              "      <td>347.0</td>\n",
              "      <td>Wag the Dog (1997)</td>\n",
              "    </tr>\n",
              "  </tbody>\n",
              "</table>\n",
              "</div>"
            ],
            "text/plain": [
              "   userId  movieId  rating  timestamp  movieId_r  \\\n",
              "0     196      242       3  881250949      243.0   \n",
              "1     186      302       3  891717742      303.0   \n",
              "2      22      377       1  878887116      378.0   \n",
              "3     244       51       2  880606923       52.0   \n",
              "4     166      346       1  886397596      347.0   \n",
              "\n",
              "                                title  \n",
              "0                Jungle2Jungle (1997)  \n",
              "1                  Ulee's Gold (1997)  \n",
              "2       Miracle on 34th Street (1994)  \n",
              "3  Madness of King George, The (1994)  \n",
              "4                  Wag the Dog (1997)  "
            ]
          },
          "metadata": {
            "tags": []
          },
          "execution_count": 206
        }
      ]
    },
    {
      "metadata": {
        "id": "MyPa5YZPcJjs",
        "colab_type": "code",
        "colab": {
          "base_uri": "https://localhost:8080/",
          "height": 204
        },
        "outputId": "84d94aa1-8a96-4415-fb95-1d7de1fab8bb"
      },
      "cell_type": "code",
      "source": [
        "ratings_with_title = ratings.merge(movies[['movieId', 'title']])\n",
        "ratings_with_title.head()"
      ],
      "execution_count": 209,
      "outputs": [
        {
          "output_type": "execute_result",
          "data": {
            "text/html": [
              "<div>\n",
              "<style scoped>\n",
              "    .dataframe tbody tr th:only-of-type {\n",
              "        vertical-align: middle;\n",
              "    }\n",
              "\n",
              "    .dataframe tbody tr th {\n",
              "        vertical-align: top;\n",
              "    }\n",
              "\n",
              "    .dataframe thead th {\n",
              "        text-align: right;\n",
              "    }\n",
              "</style>\n",
              "<table border=\"1\" class=\"dataframe\">\n",
              "  <thead>\n",
              "    <tr style=\"text-align: right;\">\n",
              "      <th></th>\n",
              "      <th>userId</th>\n",
              "      <th>movieId</th>\n",
              "      <th>rating</th>\n",
              "      <th>timestamp</th>\n",
              "      <th>title</th>\n",
              "    </tr>\n",
              "  </thead>\n",
              "  <tbody>\n",
              "    <tr>\n",
              "      <th>0</th>\n",
              "      <td>196</td>\n",
              "      <td>242</td>\n",
              "      <td>3</td>\n",
              "      <td>881250949</td>\n",
              "      <td>Kolya (1996)</td>\n",
              "    </tr>\n",
              "    <tr>\n",
              "      <th>1</th>\n",
              "      <td>63</td>\n",
              "      <td>242</td>\n",
              "      <td>3</td>\n",
              "      <td>875747190</td>\n",
              "      <td>Kolya (1996)</td>\n",
              "    </tr>\n",
              "    <tr>\n",
              "      <th>2</th>\n",
              "      <td>226</td>\n",
              "      <td>242</td>\n",
              "      <td>5</td>\n",
              "      <td>883888671</td>\n",
              "      <td>Kolya (1996)</td>\n",
              "    </tr>\n",
              "    <tr>\n",
              "      <th>3</th>\n",
              "      <td>154</td>\n",
              "      <td>242</td>\n",
              "      <td>3</td>\n",
              "      <td>879138235</td>\n",
              "      <td>Kolya (1996)</td>\n",
              "    </tr>\n",
              "    <tr>\n",
              "      <th>4</th>\n",
              "      <td>306</td>\n",
              "      <td>242</td>\n",
              "      <td>5</td>\n",
              "      <td>876503793</td>\n",
              "      <td>Kolya (1996)</td>\n",
              "    </tr>\n",
              "  </tbody>\n",
              "</table>\n",
              "</div>"
            ],
            "text/plain": [
              "   userId  movieId  rating  timestamp         title\n",
              "0     196      242       3  881250949  Kolya (1996)\n",
              "1      63      242       3  875747190  Kolya (1996)\n",
              "2     226      242       5  883888671  Kolya (1996)\n",
              "3     154      242       3  879138235  Kolya (1996)\n",
              "4     306      242       5  876503793  Kolya (1996)"
            ]
          },
          "metadata": {
            "tags": []
          },
          "execution_count": 209
        }
      ]
    },
    {
      "metadata": {
        "id": "tLkZXy3Xdf7L",
        "colab_type": "code",
        "colab": {
          "base_uri": "https://localhost:8080/",
          "height": 34
        },
        "outputId": "dc4bb0e3-b928-430d-e299-cb393d5b0e3b"
      },
      "cell_type": "code",
      "source": [
        "ratings_with_title['rating'].unique()"
      ],
      "execution_count": 223,
      "outputs": [
        {
          "output_type": "execute_result",
          "data": {
            "text/plain": [
              "array([3, 5, 4, 2, 1])"
            ]
          },
          "metadata": {
            "tags": []
          },
          "execution_count": 223
        }
      ]
    },
    {
      "metadata": {
        "id": "A6g9iY1UcukE",
        "colab_type": "code",
        "colab": {
          "base_uri": "https://localhost:8080/",
          "height": 34
        },
        "outputId": "3aae3f49-8843-4677-f7c7-ccbb5994fce6"
      },
      "cell_type": "code",
      "source": [
        "len(ratings_with_title)"
      ],
      "execution_count": 205,
      "outputs": [
        {
          "output_type": "execute_result",
          "data": {
            "text/plain": [
              "100000"
            ]
          },
          "metadata": {
            "tags": []
          },
          "execution_count": 205
        }
      ]
    },
    {
      "metadata": {
        "id": "dLewK-9PdNes",
        "colab_type": "code",
        "colab": {
          "base_uri": "https://localhost:8080/",
          "height": 122
        },
        "outputId": "a6b3d4c8-41c9-4fbf-a49f-d8187c7c0da0"
      },
      "cell_type": "code",
      "source": [
        "help(CollabDataBunch.from_df)"
      ],
      "execution_count": 214,
      "outputs": [
        {
          "output_type": "stream",
          "text": [
            "Help on method from_df in module fastai.collab:\n",
            "\n",
            "from_df(ratings:pandas.core.frame.DataFrame, pct_val:float=0.2, user_name:Union[str, NoneType]=None, item_name:Union[str, NoneType]=None, rating_name:Union[str, NoneType]=None, test:pandas.core.frame.DataFrame=None, seed=None, **kwargs) method of builtins.type instance\n",
            "    Create a `DataBunch` suitable for collaborative filtering from `ratings`.\n",
            "\n"
          ],
          "name": "stdout"
        }
      ]
    },
    {
      "metadata": {
        "id": "7f7IOv-0atY1",
        "colab_type": "code",
        "colab": {}
      },
      "cell_type": "code",
      "source": [
        "# TODO: how does it know about userId? is that col=0 somewhere?\n",
        "data = CollabDataBunch.from_df(ratings_with_title, item_name='title', seed=42, pct_val=0.1)"
      ],
      "execution_count": 0,
      "outputs": []
    },
    {
      "metadata": {
        "id": "zXgpt_NMY1gk",
        "colab_type": "code",
        "colab": {
          "base_uri": "https://localhost:8080/",
          "height": 145
        },
        "outputId": "2a943821-75d8-43e7-9a35-2d6e1009da8c"
      },
      "cell_type": "code",
      "source": [
        "data.show_batch()"
      ],
      "execution_count": 218,
      "outputs": [
        {
          "output_type": "display_data",
          "data": {
            "text/html": [
              "<table>  <col width='10%'>  <col width='10%'>  <col width='10%'>  <tr>\n",
              "    <th>userId</th>\n",
              "    <th>title</th>\n",
              "    <th>target</th>\n",
              "  </tr>\n",
              "  <tr>\n",
              "    <th>77</th>\n",
              "    <th>Pulp Fiction (1994)</th>\n",
              "    <th>4.0</th>\n",
              "  </tr>\n",
              "  <tr>\n",
              "    <th>378</th>\n",
              "    <th>Time to Kill, A (1996)</th>\n",
              "    <th>4.0</th>\n",
              "  </tr>\n",
              "  <tr>\n",
              "    <th>409</th>\n",
              "    <th>When Harry Met Sally... (1989)</th>\n",
              "    <th>4.0</th>\n",
              "  </tr>\n",
              "  <tr>\n",
              "    <th>507</th>\n",
              "    <th>Speed 2: Cruise Control (1997)</th>\n",
              "    <th>5.0</th>\n",
              "  </tr>\n",
              "  <tr>\n",
              "    <th>125</th>\n",
              "    <th>Strictly Ballroom (1992)</th>\n",
              "    <th>3.0</th>\n",
              "  </tr>\n",
              "</table>\n"
            ],
            "text/plain": [
              "<IPython.core.display.HTML object>"
            ]
          },
          "metadata": {
            "tags": []
          }
        }
      ]
    },
    {
      "metadata": {
        "id": "TurfOKo7Xahr",
        "colab_type": "code",
        "colab": {
          "base_uri": "https://localhost:8080/",
          "height": 34
        },
        "outputId": "3f43bb54-8797-4577-8b15-d849c3a1dd0b"
      },
      "cell_type": "code",
      "source": [
        "ratings['rating'].min(),ratings['rating'].max(),ratings['rating'].dtype"
      ],
      "execution_count": 220,
      "outputs": [
        {
          "output_type": "execute_result",
          "data": {
            "text/plain": [
              "(1, 5, dtype('int64'))"
            ]
          },
          "metadata": {
            "tags": []
          },
          "execution_count": 220
        }
      ]
    },
    {
      "metadata": {
        "id": "nQPW4REheRQz",
        "colab_type": "code",
        "colab": {
          "base_uri": "https://localhost:8080/",
          "height": 102
        },
        "outputId": "1c1483b6-b7d6-4915-c20c-938922f19bfb"
      },
      "cell_type": "code",
      "source": [
        "help(collab_learner)"
      ],
      "execution_count": 238,
      "outputs": [
        {
          "output_type": "stream",
          "text": [
            "Help on function collab_learner in module fastai.collab:\n",
            "\n",
            "collab_learner(data, n_factors:int=None, use_nn:bool=False, metrics=None, emb_szs:Dict[str, int]=None, wd:float=0.01, **kwargs) -> fastai.basic_train.Learner\n",
            "    Create a Learner for collaborative filtering on `data`.\n",
            "\n"
          ],
          "name": "stdout"
        }
      ]
    },
    {
      "metadata": {
        "id": "NS45MY5WeDVT",
        "colab_type": "code",
        "colab": {}
      },
      "cell_type": "code",
      "source": [
        "\"\"\"\n",
        "lr=5e-2, wd=0.01, n_factors=50 (defaults)\n",
        "epoch\ttrain_loss\tvalid_loss\n",
        "1\t1.012918\t1.006129\n",
        "2\t0.868533\t0.880195\n",
        "3\t0.758450\t0.854894 <----\n",
        "4\t0.619497\t0.900371\n",
        "5\t0.455956\t0.972863\n",
        "6\t0.341502\t1.019351\n",
        "7\t0.258301\t1.050646\n",
        "8\t0.184022\t1.078713\n",
        "\n",
        "lr=5e-2, wd=0.05, n_factors=50\n",
        "epoch\ttrain_loss\tvalid_loss\n",
        "1\t1.012347\t1.008962\n",
        "2\t0.870602\t0.868285\n",
        "3\t0.812289\t0.853587\n",
        "4\t0.638971\t0.855515 <----\n",
        "5\t0.544950\t0.883309\n",
        "6\t0.419391\t0.899943\n",
        "7\t0.339187\t0.917989\n",
        "\n",
        "lr=5e-2, wd=0.1, n_factors=50\n",
        "1\t1.018983\t1.013042\n",
        "2\t0.876544\t0.881798\n",
        "3\t0.808876\t0.860908\n",
        "4\t0.741650\t0.844950\n",
        "5\t0.666274\t0.842996\n",
        "6\t0.580171\t0.841607 <----\n",
        "7\t0.482631\t0.844642\n",
        "8\t0.412703\t0.847857\n",
        "\n",
        "lr=5e-2, wd=0.15, n_factors=50\n",
        "epoch\ttrain_loss\tvalid_loss\n",
        "1\t1.023322\t1.015378\n",
        "2\t0.873545\t0.893066\n",
        "3\t0.842707\t0.873097\n",
        "4\t0.801682\t0.853563\n",
        "5\t0.754189\t0.840637\n",
        "6\t0.664981\t0.833447\n",
        "7\t0.623234\t0.827666\n",
        "8\t0.546379\t0.820278 <----\n",
        "9\t0.475033\t0.820686\n",
        "10\t0.434090\t0.820871\n",
        "\n",
        "lr=5e-2, wd=0.2, n_factors=50\n",
        "epoch\ttrain_loss\tvalid_loss\n",
        "1\t1.026488\t1.020644\n",
        "2\t0.900728\t0.901431\n",
        "3\t0.875946\t0.887347\n",
        "4\t0.840115\t0.865970\n",
        "5\t0.799933\t0.860403\n",
        "6\t0.760450\t0.842314\n",
        "7\t0.719855\t0.827432\n",
        "8\t0.648038\t0.820535\n",
        "9\t0.599102\t0.818715\n",
        "10\t0.576507\t0.818639\n",
        "\n",
        "lr=5e-2, wd=0.25, n_factors=50\n",
        "epoch\ttrain_loss\tvalid_loss\n",
        "1\t1.061232\t1.021783\n",
        "2\t0.912022\t0.910538\n",
        "3\t0.884220\t0.909992\n",
        "4\t0.843703\t0.887165\n",
        "5\t0.833965\t0.874273\n",
        "6\t0.802136\t0.854173\n",
        "7\t0.776842\t0.841147\n",
        "8\t0.720357\t0.830901\n",
        "9\t0.696311\t0.826440\n",
        "10\t0.635720\t0.826134\n",
        "\"\"\"\n",
        "learner = collab_learner(data, n_factors=50, y_range=[0.5, 5.5], wd=0.25)"
      ],
      "execution_count": 0,
      "outputs": []
    },
    {
      "metadata": {
        "id": "kFi6AC7iXOb3",
        "colab_type": "code",
        "colab": {
          "base_uri": "https://localhost:8080/",
          "height": 530
        },
        "outputId": "dffdd29b-1106-4f08-e95d-780b2df2e436"
      },
      "cell_type": "code",
      "source": [
        "learner"
      ],
      "execution_count": 293,
      "outputs": [
        {
          "output_type": "execute_result",
          "data": {
            "text/plain": [
              "CollabLearner(data=TabularDataBunch;\n",
              "\n",
              "Train: LabelList\n",
              "y: FloatList (90000 items)\n",
              "[FloatItem 3.0, FloatItem 3.0, FloatItem 5.0, FloatItem 3.0, FloatItem 5.0]...\n",
              "Path: .\n",
              "x: CollabList (90000 items)\n",
              "[CollabLine userId 196; title Kolya (1996); , CollabLine userId 63; title Kolya (1996); , CollabLine userId 226; title Kolya (1996); , CollabLine userId 154; title Kolya (1996); , CollabLine userId 306; title Kolya (1996); ]...\n",
              "Path: .;\n",
              "\n",
              "Valid: LabelList\n",
              "y: FloatList (10000 items)\n",
              "[FloatItem 3.0, FloatItem 5.0, FloatItem 4.0, FloatItem 3.0, FloatItem 3.0]...\n",
              "Path: .\n",
              "x: CollabList (10000 items)\n",
              "[CollabLine userId 498; title Casino (1995); , CollabLine userId 642; title Pocahontas (1995); , CollabLine userId 58; title 2001: A Space Odyssey (1968); , CollabLine userId 495; title Cat People (1982); , CollabLine userId 618; title Philadelphia (1993); ]...\n",
              "Path: .;\n",
              "\n",
              "Test: None, model=EmbeddingDotBias(\n",
              "  (u_weight): Embedding(944, 50)\n",
              "  (i_weight): Embedding(1654, 50)\n",
              "  (u_bias): Embedding(944, 1)\n",
              "  (i_bias): Embedding(1654, 1)\n",
              "), opt_func=functools.partial(<class 'torch.optim.adam.Adam'>, betas=(0.9, 0.99)), loss_func=FlattenedLoss of MSELoss(), metrics=[], true_wd=True, bn_wd=True, wd=0.25, train_bn=True, path=PosixPath('.'), model_dir='models', callback_fns=[<class 'fastai.basic_train.Recorder'>], callbacks=[], layer_groups=[Sequential(\n",
              "  (0): Embedding(944, 50)\n",
              "  (1): Embedding(1654, 50)\n",
              "  (2): Embedding(944, 1)\n",
              "  (3): Embedding(1654, 1)\n",
              ")])"
            ]
          },
          "metadata": {
            "tags": []
          },
          "execution_count": 293
        }
      ]
    },
    {
      "metadata": {
        "id": "5YbXGN1mblVE",
        "colab_type": "code",
        "colab": {
          "base_uri": "https://localhost:8080/",
          "height": 107
        },
        "outputId": "3aabd32c-f419-4092-cd92-76a5c5236772"
      },
      "cell_type": "code",
      "source": [
        "learner.lr_find()"
      ],
      "execution_count": 294,
      "outputs": [
        {
          "output_type": "display_data",
          "data": {
            "text/html": [
              "\n",
              "    <div>\n",
              "        <style>\n",
              "            /* Turns off some styling */\n",
              "            progress {\n",
              "                /* gets rid of default border in Firefox and Opera. */\n",
              "                border: none;\n",
              "                /* Needs to be in here for Safari polyfill so background images work as expected. */\n",
              "                background-size: auto;\n",
              "            }\n",
              "            .progress-bar-interrupted, .progress-bar-interrupted::-webkit-progress-bar {\n",
              "                background: #F44336;\n",
              "            }\n",
              "        </style>\n",
              "      <progress value='0' class='' max='1', style='width:300px; height:20px; vertical-align: middle;'></progress>\n",
              "      0.00% [0/1 00:00<00:00]\n",
              "    </div>\n",
              "    \n",
              "<table style='width:300px; margin-bottom:10px'>\n",
              "  <tr>\n",
              "    <th>epoch</th>\n",
              "    <th>train_loss</th>\n",
              "    <th>valid_loss</th>\n",
              "  </tr>\n",
              "</table>\n",
              "\n",
              "\n",
              "    <div>\n",
              "        <style>\n",
              "            /* Turns off some styling */\n",
              "            progress {\n",
              "                /* gets rid of default border in Firefox and Opera. */\n",
              "                border: none;\n",
              "                /* Needs to be in here for Safari polyfill so background images work as expected. */\n",
              "                background-size: auto;\n",
              "            }\n",
              "            .progress-bar-interrupted, .progress-bar-interrupted::-webkit-progress-bar {\n",
              "                background: #F44336;\n",
              "            }\n",
              "        </style>\n",
              "      <progress value='0' class='progress-bar-interrupted' max='1406', style='width:300px; height:20px; vertical-align: middle;'></progress>\n",
              "      Interrupted\n",
              "    </div>\n",
              "    "
            ],
            "text/plain": [
              "<IPython.core.display.HTML object>"
            ]
          },
          "metadata": {
            "tags": []
          }
        },
        {
          "output_type": "stream",
          "text": [
            "LR Finder is complete, type {learner_name}.recorder.plot() to see the graph.\n"
          ],
          "name": "stdout"
        }
      ]
    },
    {
      "metadata": {
        "id": "I4Eqq2QkYDyC",
        "colab_type": "code",
        "colab": {
          "base_uri": "https://localhost:8080/",
          "height": 279
        },
        "outputId": "9a835208-4b73-46a1-bf92-ad9bf803c96a"
      },
      "cell_type": "code",
      "source": [
        "learner.recorder.plot(skip_start=0, skip_end=10)"
      ],
      "execution_count": 295,
      "outputs": [
        {
          "output_type": "display_data",
          "data": {
            "image/png": "[encoded data removed]",
            "text/plain": [
              "<Figure size 432x288 with 1 Axes>"
            ]
          },
          "metadata": {
            "tags": []
          }
        }
      ]
    },
    {
      "metadata": {
        "id": "D70gyTMGb0hm",
        "colab_type": "code",
        "colab": {
          "base_uri": "https://localhost:8080/",
          "height": 895
        },
        "outputId": "f93905ae-d2c6-4c91-e38b-4ab6682285c2"
      },
      "cell_type": "code",
      "source": [
        "# I've tried 5e-2 first based on the graph, it diverged\n",
        "save_model = SaveModelCallback(learner, name='v1')\n",
        "learner.fit_one_cycle(10, max_lr=5e-3, callbacks=[save_model])"
      ],
      "execution_count": 296,
      "outputs": [
        {
          "output_type": "display_data",
          "data": {
            "text/html": [
              "Total time: 02:10 <p><table style='width:300px; margin-bottom:10px'>\n",
              "  <tr>\n",
              "    <th>epoch</th>\n",
              "    <th>train_loss</th>\n",
              "    <th>valid_loss</th>\n",
              "  </tr>\n",
              "  <tr>\n",
              "    <th>1</th>\n",
              "    <th>1.061232</th>\n",
              "    <th>1.021783</th>\n",
              "  </tr>\n",
              "  <tr>\n",
              "    <th>2</th>\n",
              "    <th>0.912022</th>\n",
              "    <th>0.910538</th>\n",
              "  </tr>\n",
              "  <tr>\n",
              "    <th>3</th>\n",
              "    <th>0.884220</th>\n",
              "    <th>0.909992</th>\n",
              "  </tr>\n",
              "  <tr>\n",
              "    <th>4</th>\n",
              "    <th>0.843703</th>\n",
              "    <th>0.887165</th>\n",
              "  </tr>\n",
              "  <tr>\n",
              "    <th>5</th>\n",
              "    <th>0.833965</th>\n",
              "    <th>0.874273</th>\n",
              "  </tr>\n",
              "  <tr>\n",
              "    <th>6</th>\n",
              "    <th>0.802136</th>\n",
              "    <th>0.854173</th>\n",
              "  </tr>\n",
              "  <tr>\n",
              "    <th>7</th>\n",
              "    <th>0.776842</th>\n",
              "    <th>0.841147</th>\n",
              "  </tr>\n",
              "  <tr>\n",
              "    <th>8</th>\n",
              "    <th>0.720357</th>\n",
              "    <th>0.830901</th>\n",
              "  </tr>\n",
              "  <tr>\n",
              "    <th>9</th>\n",
              "    <th>0.696311</th>\n",
              "    <th>0.826440</th>\n",
              "  </tr>\n",
              "  <tr>\n",
              "    <th>10</th>\n",
              "    <th>0.635720</th>\n",
              "    <th>0.826134</th>\n",
              "  </tr>\n",
              "</table>\n"
            ],
            "text/plain": [
              "<IPython.core.display.HTML object>"
            ]
          },
          "metadata": {
            "tags": []
          }
        },
        {
          "output_type": "stream",
          "text": [
            "Exception ignored in: <bound method _DataLoaderIter.__del__ of <torch.utils.data.dataloader._DataLoaderIter object at 0x7f5e2f08b8d0>>\n",
            "Exception ignored in: <bound method _DataLoaderIter.__del__ of <torch.utils.data.dataloader._DataLoaderIter object at 0x7f5e2f08b8d0>>\n",
            "Traceback (most recent call last):\n",
            "Traceback (most recent call last):\n",
            "  File \"/usr/local/lib/python3.6/dist-packages/torch/utils/data/dataloader.py\", line 717, in __del__\n",
            "  File \"/usr/local/lib/python3.6/dist-packages/torch/utils/data/dataloader.py\", line 717, in __del__\n",
            "    self._shutdown_workers()\n",
            "    self._shutdown_workers()\n",
            "  File \"/usr/local/lib/python3.6/dist-packages/torch/utils/data/dataloader.py\", line 713, in _shutdown_workers\n",
            "  File \"/usr/local/lib/python3.6/dist-packages/torch/utils/data/dataloader.py\", line 713, in _shutdown_workers\n",
            "    w.join()\n",
            "    w.join()\n",
            "  File \"/usr/lib/python3.6/multiprocessing/process.py\", line 122, in join\n",
            "    assert self._parent_pid == os.getpid(), 'can only join a child process'\n",
            "AssertionError: can only join a child process\n",
            "Exception ignored in: <bound method _DataLoaderIter.__del__ of <torch.utils.data.dataloader._DataLoaderIter object at 0x7f5e415b2588>>\n",
            "  File \"/usr/lib/python3.6/multiprocessing/process.py\", line 122, in join\n",
            "Traceback (most recent call last):\n",
            "    assert self._parent_pid == os.getpid(), 'can only join a child process'\n",
            "  File \"/usr/local/lib/python3.6/dist-packages/torch/utils/data/dataloader.py\", line 717, in __del__\n",
            "    self._shutdown_workers()\n",
            "AssertionError: can only join a child process\n",
            "Exception ignored in: <bound method _DataLoaderIter.__del__ of <torch.utils.data.dataloader._DataLoaderIter object at 0x7f5e415b2588>>\n",
            "  File \"/usr/local/lib/python3.6/dist-packages/torch/utils/data/dataloader.py\", line 713, in _shutdown_workers\n",
            "    w.join()\n",
            "Traceback (most recent call last):\n",
            "  File \"/usr/lib/python3.6/multiprocessing/process.py\", line 122, in join\n",
            "    assert self._parent_pid == os.getpid(), 'can only join a child process'\n",
            "AssertionError: can only join a child process\n",
            "  File \"/usr/local/lib/python3.6/dist-packages/torch/utils/data/dataloader.py\", line 717, in __del__\n",
            "    self._shutdown_workers()\n",
            "  File \"/usr/local/lib/python3.6/dist-packages/torch/utils/data/dataloader.py\", line 713, in _shutdown_workers\n",
            "    w.join()\n",
            "  File \"/usr/lib/python3.6/multiprocessing/process.py\", line 122, in join\n",
            "    assert self._parent_pid == os.getpid(), 'can only join a child process'\n",
            "AssertionError: can only join a child process\n"
          ],
          "name": "stderr"
        }
      ]
    },
    {
      "metadata": {
        "id": "9NMYuQqWj7ZR",
        "colab_type": "code",
        "colab": {
          "base_uri": "https://localhost:8080/",
          "height": 333
        },
        "outputId": "b2ebe66e-3461-4a6f-cae1-3a2032efc0e5"
      },
      "cell_type": "code",
      "source": [
        "plt.hist(learner.model.u_weight.weight.detach().cpu().numpy().flat)"
      ],
      "execution_count": 313,
      "outputs": [
        {
          "output_type": "execute_result",
          "data": {
            "text/plain": [
              "(array([   16.,   164.,  1619.,  8369., 15002., 13941.,  6735.,  1236.,   101.,    17.]),\n",
              " array([-0.565005, -0.451022, -0.337039, -0.223056, -0.109072,  0.004911,  0.118894,  0.232877,  0.34686 ,  0.460843,\n",
              "         0.574826]),\n",
              " <a list of 10 Patch objects>)"
            ]
          },
          "metadata": {
            "tags": []
          },
          "execution_count": 313
        },
        {
          "output_type": "display_data",
          "data": {
            "image/png": "[encoded data removed]",
            "text/plain": [
              "<Figure size 432x288 with 1 Axes>"
            ]
          },
          "metadata": {
            "tags": []
          }
        }
      ]
    },
    {
      "metadata": {
        "id": "dCoWw4a3Ywqs",
        "colab_type": "code",
        "colab": {
          "base_uri": "https://localhost:8080/",
          "height": 102
        },
        "outputId": "7e5f1dbb-0083-4501-e01f-6c55ca55967d"
      },
      "cell_type": "code",
      "source": [
        "help(learner.bias)"
      ],
      "execution_count": 314,
      "outputs": [
        {
          "output_type": "stream",
          "text": [
            "Help on method bias in module fastai.collab:\n",
            "\n",
            "bias(arr:Collection, is_item:bool=True) method of fastai.collab.CollabLearner instance\n",
            "    Bias for item or user (based on `is_item`) for all in `arr`. (Set model to `cpu` and no grad.)\n",
            "\n"
          ],
          "name": "stdout"
        }
      ]
    },
    {
      "metadata": {
        "id": "7KnNmwYPk-Cg",
        "colab_type": "code",
        "colab": {
          "base_uri": "https://localhost:8080/",
          "height": 68
        },
        "outputId": "08dcc6ef-ed02-454b-85f6-ed9440aa0f63"
      },
      "cell_type": "code",
      "source": [
        "g = ratings_with_title.groupby('title')['rating'].count()\n",
        "top_movies = g.sort_values(ascending=False).index.values[:1000]\n",
        "top_movies[:10]"
      ],
      "execution_count": 318,
      "outputs": [
        {
          "output_type": "execute_result",
          "data": {
            "text/plain": [
              "array(['Star Wars (1977)', 'Contact (1997)', 'Fargo (1996)', 'Return of the Jedi (1983)', 'Liar Liar (1997)',\n",
              "       'English Patient, The (1996)', 'Scream (1996)', 'Toy Story (1995)', 'Air Force One (1997)',\n",
              "       'Independence Day (ID4) (1996)'], dtype=object)"
            ]
          },
          "metadata": {
            "tags": []
          },
          "execution_count": 318
        }
      ]
    },
    {
      "metadata": {
        "id": "_uJE-niclUE-",
        "colab_type": "code",
        "colab": {
          "base_uri": "https://localhost:8080/",
          "height": 34
        },
        "outputId": "066feb68-8fb9-4e24-a686-f170bc76f68a"
      },
      "cell_type": "code",
      "source": [
        "movie_bias = learner.model.i_bias.weight.detach()\n",
        "movie_bias.shape"
      ],
      "execution_count": 325,
      "outputs": [
        {
          "output_type": "execute_result",
          "data": {
            "text/plain": [
              "torch.Size([1654, 1])"
            ]
          },
          "metadata": {
            "tags": []
          },
          "execution_count": 325
        }
      ]
    },
    {
      "metadata": {
        "id": "sH7woQrElgSt",
        "colab_type": "code",
        "colab": {
          "base_uri": "https://localhost:8080/",
          "height": 68
        },
        "outputId": "2d6a1f5f-9934-4751-e995-ff39d821b04f"
      },
      "cell_type": "code",
      "source": [
        "top_movies"
      ],
      "execution_count": 345,
      "outputs": [
        {
          "output_type": "execute_result",
          "data": {
            "text/plain": [
              "array(['Star Wars (1977)', 'Contact (1997)', 'Fargo (1996)', 'Return of the Jedi (1983)', ...,\n",
              "       'In the Bleak Midwinter (1995)', 'Party Girl (1995)', 'Highlander III: The Sorcerer (1994)',\n",
              "       'Bastard Out of Carolina (1996)'], dtype=object)"
            ]
          },
          "metadata": {
            "tags": []
          },
          "execution_count": 345
        }
      ]
    },
    {
      "metadata": {
        "id": "dsGbfj0Gmi2A",
        "colab_type": "code",
        "colab": {
          "base_uri": "https://localhost:8080/",
          "height": 34
        },
        "outputId": "8b1e1a1d-86c2-4a91-e476-e9a7061fed32"
      },
      "cell_type": "code",
      "source": [
        "learner.weight(['Star Wars (1977)']).shape"
      ],
      "execution_count": 343,
      "outputs": [
        {
          "output_type": "execute_result",
          "data": {
            "text/plain": [
              "torch.Size([1, 50])"
            ]
          },
          "metadata": {
            "tags": []
          },
          "execution_count": 343
        }
      ]
    },
    {
      "metadata": {
        "id": "Io2SPXhGmm3E",
        "colab_type": "code",
        "colab": {
          "base_uri": "https://localhost:8080/",
          "height": 34
        },
        "outputId": "a6c3f4e2-42ad-40fa-af6c-6ababa408423"
      },
      "cell_type": "code",
      "source": [
        "movie_weights = learner.weight(top_movies, is_item=True)\n",
        "movie_weights.shape"
      ],
      "execution_count": 329,
      "outputs": [
        {
          "output_type": "execute_result",
          "data": {
            "text/plain": [
              "torch.Size([1000, 50])"
            ]
          },
          "metadata": {
            "tags": []
          },
          "execution_count": 329
        }
      ]
    },
    {
      "metadata": {
        "id": "0RFbC8DZmwOt",
        "colab_type": "code",
        "colab": {}
      },
      "cell_type": "code",
      "source": [
        "from sklearn.decomposition import PCA"
      ],
      "execution_count": 0,
      "outputs": []
    },
    {
      "metadata": {
        "id": "MZVRcOPNnB2r",
        "colab_type": "code",
        "colab": {
          "base_uri": "https://localhost:8080/",
          "height": 34
        },
        "outputId": "1cc55c03-0ee6-461b-920f-f25b47dcd4e0"
      },
      "cell_type": "code",
      "source": [
        "pca = PCA(n_components = 3)\n",
        "pca_components = pca.fit_transform(movie_weights)\n",
        "pca_components.shape"
      ],
      "execution_count": 342,
      "outputs": [
        {
          "output_type": "execute_result",
          "data": {
            "text/plain": [
              "(1000, 3)"
            ]
          },
          "metadata": {
            "tags": []
          },
          "execution_count": 342
        }
      ]
    }
  ]
}