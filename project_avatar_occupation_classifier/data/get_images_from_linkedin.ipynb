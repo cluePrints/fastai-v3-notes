{
 "cells": [
  {
   "cell_type": "code",
   "execution_count": null,
   "metadata": {},
   "outputs": [],
   "source": [
    "# Goal: semi-manually collect profile images & titles\n",
    "# ./occupations.txt:\n",
    "#     0,Engineer\n",
    "#     1,QA\n",
    "#     ...\n",
    "# ./images/0.jpg\n",
    "#   ...\n",
    "# ./images/999.jpg\n",
    "occupations_file = 'occupations.txt'\n",
    "images_path = 'images/'"
   ]
  },
  {
   "cell_type": "code",
   "execution_count": 64,
   "metadata": {},
   "outputs": [],
   "source": [
    "%reload_ext autoreload\n",
    "%autoreload 2\n",
    "%matplotlib inline"
   ]
  },
  {
   "cell_type": "code",
   "execution_count": 65,
   "metadata": {},
   "outputs": [],
   "source": [
    "from selenium import webdriver"
   ]
  },
  {
   "cell_type": "code",
   "execution_count": 66,
   "metadata": {},
   "outputs": [],
   "source": [
    "driver = webdriver.Chrome()\n",
    "driver.implicitly_wait(5)"
   ]
  },
  {
   "cell_type": "code",
   "execution_count": 67,
   "metadata": {},
   "outputs": [],
   "source": [
    "driver.get('https://www.linkedin.com/m/login/')"
   ]
  },
  {
   "cell_type": "code",
   "execution_count": null,
   "metadata": {},
   "outputs": [],
   "source": [
    "# you log in here"
   ]
  },
  {
   "cell_type": "code",
   "execution_count": 68,
   "metadata": {},
   "outputs": [],
   "source": [
    "driver.get('https://www.linkedin.com/mynetwork/invite-connect/connections/')"
   ]
  },
  {
   "cell_type": "code",
   "execution_count": 72,
   "metadata": {},
   "outputs": [
    {
     "data": {
      "text/plain": [
       "552"
      ]
     },
     "execution_count": 72,
     "metadata": {},
     "output_type": "execute_result"
    }
   ],
   "source": [
    "header = driver.find_element_by_class_name(\"mn-connections__header\")\n",
    "# parse stuff like'552 Connections', you may need to tab back here\n",
    "expected_connections_count = int(header.text.split(' ')[0])\n",
    "expected_connections_count"
   ]
  },
  {
   "cell_type": "code",
   "execution_count": 74,
   "metadata": {},
   "outputs": [
    {
     "name": "stdout",
     "output_type": "stream",
     "text": [
      "Can see 120 connections out of 552\n",
      "Can see 160 connections out of 552\n",
      "Can see 200 connections out of 552\n",
      "Can see 240 connections out of 552\n",
      "Can see 280 connections out of 552\n",
      "Can see 320 connections out of 552\n",
      "Can see 359 connections out of 552\n",
      "Can see 399 connections out of 552\n",
      "Can see 437 connections out of 552\n",
      "Can see 476 connections out of 552\n",
      "Can see 515 connections out of 552\n",
      "Can see 547 connections out of 552\n",
      "Can see 547 connections out of 552\n",
      "Looks like we're stuck. You might want to switch to that browser for some focus and run this thing again\n"
     ]
    }
   ],
   "source": [
    "def scroll_until_all_connections_are_visible():\n",
    "    import time\n",
    "    elements = []\n",
    "    prev_count = 0\n",
    "    while len(elements) < expected_connections_count:\n",
    "        driver.execute_script(\"window.scrollTo(0, document.body.scrollHeight)\");\n",
    "        elements = driver.find_elements_by_class_name('mn-connection-card__occupation')\n",
    "        current_count = len(elements)\n",
    "        print(f\"Can see {current_count} connections out of {expected_connections_count}\")\n",
    "        if (current_count < expected_connections_count):\n",
    "            time.sleep(5)\n",
    "        if (prev_count == current_count):\n",
    "            print(\"Looks like we're stuck. You might want to switch to that browser for some focus and run this thing again\")\n",
    "            return\n",
    "\n",
    "        prev_count = current_count\n",
    "\n",
    "scroll_until_all_connections_are_visible()"
   ]
  },
  {
   "cell_type": "code",
   "execution_count": 82,
   "metadata": {},
   "outputs": [
    {
     "data": {
      "text/plain": [
       "547"
      ]
     },
     "execution_count": 82,
     "metadata": {},
     "output_type": "execute_result"
    }
   ],
   "source": [
    "elements = driver.find_elements_by_class_name('mn-connection-card')\n",
    "len(elements)"
   ]
  },
  {
   "cell_type": "code",
   "execution_count": 83,
   "metadata": {},
   "outputs": [],
   "source": [
    "def scroll_to(element):\n",
    "    driver.execute_script(\"arguments[0].scrollIntoView();\", element)"
   ]
  },
  {
   "cell_type": "code",
   "execution_count": 90,
   "metadata": {},
   "outputs": [],
   "source": [
    "def extract_occupation(elements, idx):\n",
    "    scroll_to(elements[idx])\n",
    "    occupation = elements[idx].find_element_by_class_name('mn-connection-card__occupation').text\n",
    "    with open(occupations_file, 'a') as f:\n",
    "        f.write(f'{idx},{occupation}\\n')\n",
    "\n",
    "extract_occupation(elements, 0)"
   ]
  },
  {
   "cell_type": "code",
   "execution_count": 91,
   "metadata": {},
   "outputs": [],
   "source": [
    "import os\n",
    "os.remove(occupations_file)"
   ]
  },
  {
   "cell_type": "code",
   "execution_count": 107,
   "metadata": {},
   "outputs": [
    {
     "name": "stdout",
     "output_type": "stream",
     "text": [
      "Extracting 400\n",
      "Empty style (no img download) for: Anton\n",
      "Extracting 401\n",
      "Extracting 402\n",
      "Extracting 403\n",
      "Extracting 404\n",
      "Extracting 405\n",
      "Extracting 406\n",
      "Extracting 407\n",
      "Extracting 408\n",
      "Extracting 409\n",
      "Extracting 410\n",
      "Extracting 411\n",
      "Extracting 412\n",
      "Extracting 413\n",
      "Extracting 414\n",
      "Extracting 415\n",
      "Extracting 416\n",
      "Extracting 417\n",
      "Extracting 418\n",
      "Extracting 419\n",
      "Extracting 420\n",
      "Extracting 421\n",
      "Extracting 422\n",
      "Extracting 423\n",
      "Extracting 424\n",
      "Extracting 425\n",
      "Extracting 426\n",
      "Extracting 427\n",
      "Extracting 428\n",
      "Extracting 429\n",
      "Extracting 430\n",
      "Extracting 431\n",
      "Extracting 432\n",
      "Extracting 433\n",
      "Extracting 434\n",
      "Extracting 435\n",
      "Extracting 436\n",
      "Extracting 437\n",
      "Extracting 438\n",
      "Extracting 439\n",
      "Extracting 440\n",
      "Extracting 441\n",
      "Extracting 442\n",
      "Extracting 443\n",
      "Extracting 444\n",
      "Extracting 445\n",
      "Extracting 446\n",
      "Extracting 447\n",
      "Extracting 448\n",
      "Extracting 449\n",
      "Extracting 450\n",
      "Extracting 451\n",
      "Extracting 452\n",
      "Extracting 453\n",
      "Empty style (no img download) for: Serge\n",
      "Extracting 454\n",
      "Empty style (no img download) for: Alexe\n",
      "Extracting 455\n",
      "Extracting 456\n",
      "Extracting 457\n",
      "Extracting 458\n",
      "Extracting 459\n",
      "Extracting 460\n",
      "Extracting 461\n",
      "Extracting 462\n",
      "Extracting 463\n",
      "Extracting 464\n",
      "Extracting 465\n",
      "Extracting 466\n",
      "Extracting 467\n",
      "Extracting 468\n",
      "Extracting 469\n",
      "Extracting 470\n",
      "Extracting 471\n",
      "Extracting 472\n",
      "Extracting 473\n",
      "Extracting 474\n",
      "Extracting 475\n",
      "Extracting 476\n",
      "Extracting 477\n",
      "Extracting 478\n",
      "Extracting 479\n",
      "Extracting 480\n",
      "Extracting 481\n",
      "Extracting 482\n",
      "Extracting 483\n",
      "Extracting 484\n",
      "Extracting 485\n",
      "Extracting 486\n",
      "Extracting 487\n",
      "Extracting 488\n",
      "Extracting 489\n",
      "Extracting 490\n",
      "Extracting 491\n",
      "Extracting 492\n",
      "Extracting 493\n",
      "Extracting 494\n",
      "Extracting 495\n",
      "Extracting 496\n",
      "Extracting 497\n",
      "Extracting 498\n",
      "Extracting 499\n",
      "Empty style (no img download) for: Aleks\n",
      "Extracting 500\n",
      "Extracting 501\n",
      "Extracting 502\n",
      "Extracting 503\n",
      "Extracting 504\n",
      "Extracting 505\n",
      "Extracting 506\n",
      "Extracting 507\n",
      "Extracting 508\n",
      "Extracting 509\n",
      "Empty style (no img download) for: Alina\n",
      "Extracting 510\n",
      "Extracting 511\n",
      "Extracting 512\n",
      "Extracting 513\n",
      "Extracting 514\n",
      "Extracting 515\n",
      "Extracting 516\n",
      "Extracting 517\n",
      "Extracting 518\n",
      "Extracting 519\n",
      "Extracting 520\n",
      "Extracting 521\n",
      "Extracting 522\n",
      "Extracting 523\n",
      "Extracting 524\n",
      "Extracting 525\n",
      "Extracting 526\n",
      "Extracting 527\n",
      "Extracting 528\n",
      "Extracting 529\n",
      "Extracting 530\n",
      "Extracting 531\n",
      "Extracting 532\n",
      "Extracting 533\n",
      "Extracting 534\n",
      "Extracting 535\n",
      "Extracting 536\n",
      "Extracting 537\n",
      "Extracting 538\n",
      "Extracting 539\n",
      "Extracting 540\n",
      "Extracting 541\n",
      "Extracting 542\n",
      "Extracting 543\n",
      "Extracting 544\n",
      "Extracting 545\n",
      "Extracting 546\n"
     ]
    }
   ],
   "source": [
    "import requests\n",
    "def download_image(elements, idx):\n",
    "    style = elements[idx].find_element_by_class_name('presence-entity__image').get_attribute('style')\n",
    "    if (style == ''):\n",
    "        print('Empty style (no img download) for: ' + elements[idx].text[:5])\n",
    "        return\n",
    "\n",
    "    image_url = style.split('\"')[1]\n",
    "    response = requests.get(image_url)\n",
    "    if response.status_code != 200:\n",
    "        raise ValueError(\"Something went wrong \" + str(response))\n",
    "        \n",
    "    img = response.raw.read()\n",
    "    with open(images_path + str(idx) + '.jpg', 'wb') as f:\n",
    "        for chunk in response.iter_content(1024):\n",
    "            f.write(chunk)\n",
    "\n",
    "occupations = []\n",
    "# limit the ids for ease of debugging, restarts are idempotent\n",
    "# you might have to alt-tab back from time to time or keep the focus in that window until the very end\n",
    "for idx, element in list(enumerate(elements))[400:600]:\n",
    "    print(f\"Extracting {idx}\")\n",
    "    scroll_to(elements[idx])\n",
    "    download_image(elements, idx)\n",
    "    extract_occupation(elements, idx)"
   ]
  },
  {
   "cell_type": "code",
   "execution_count": 108,
   "metadata": {},
   "outputs": [
    {
     "name": "stdout",
     "output_type": "stream",
     "text": [
      "> \u001b[0;32m<ipython-input-99-b18af7b469b7>\u001b[0m(7)\u001b[0;36mdownload_image\u001b[0;34m()\u001b[0m\n",
      "\u001b[0;32m      5 \u001b[0;31m    \u001b[0;32mif\u001b[0m \u001b[0;34m(\u001b[0m\u001b[0mstyle\u001b[0m \u001b[0;34m==\u001b[0m \u001b[0;34m''\u001b[0m\u001b[0;34m)\u001b[0m\u001b[0;34m:\u001b[0m\u001b[0;34m\u001b[0m\u001b[0m\n",
      "\u001b[0m\u001b[0;32m      6 \u001b[0;31m        \u001b[0mprint\u001b[0m\u001b[0;34m(\u001b[0m\u001b[0;34m'Empty style for '\u001b[0m \u001b[0;34m+\u001b[0m \u001b[0melements\u001b[0m\u001b[0;34m[\u001b[0m\u001b[0midx\u001b[0m\u001b[0;34m]\u001b[0m\u001b[0;34m.\u001b[0m\u001b[0mtext\u001b[0m\u001b[0;34m)\u001b[0m\u001b[0;34m\u001b[0m\u001b[0m\n",
      "\u001b[0m\u001b[0;32m----> 7 \u001b[0;31m    \u001b[0mimage_url\u001b[0m \u001b[0;34m=\u001b[0m \u001b[0mstyle\u001b[0m\u001b[0;34m.\u001b[0m\u001b[0msplit\u001b[0m\u001b[0;34m(\u001b[0m\u001b[0;34m'\"'\u001b[0m\u001b[0;34m)\u001b[0m\u001b[0;34m[\u001b[0m\u001b[0;36m1\u001b[0m\u001b[0;34m]\u001b[0m\u001b[0;34m\u001b[0m\u001b[0m\n",
      "\u001b[0m\u001b[0;32m      8 \u001b[0;31m    \u001b[0mresponse\u001b[0m \u001b[0;34m=\u001b[0m \u001b[0mrequests\u001b[0m\u001b[0;34m.\u001b[0m\u001b[0mget\u001b[0m\u001b[0;34m(\u001b[0m\u001b[0mimage_url\u001b[0m\u001b[0;34m)\u001b[0m\u001b[0;34m\u001b[0m\u001b[0m\n",
      "\u001b[0m\u001b[0;32m      9 \u001b[0;31m    \u001b[0;32mif\u001b[0m \u001b[0mresponse\u001b[0m\u001b[0;34m.\u001b[0m\u001b[0mstatus_code\u001b[0m \u001b[0;34m!=\u001b[0m \u001b[0;36m200\u001b[0m\u001b[0;34m:\u001b[0m\u001b[0;34m\u001b[0m\u001b[0m\n",
      "\u001b[0m\n",
      "ipdb> cont\n"
     ]
    }
   ],
   "source": [
    "# run this in case of exceptions \n",
    "%debug"
   ]
  }
 ],
 "metadata": {
  "kernelspec": {
   "display_name": "Python 3",
   "language": "python",
   "name": "python3"
  },
  "language_info": {
   "codemirror_mode": {
    "name": "ipython",
    "version": 3
   },
   "file_extension": ".py",
   "mimetype": "text/x-python",
   "name": "python",
   "nbconvert_exporter": "python",
   "pygments_lexer": "ipython3",
   "version": "3.7.0"
  }
 },
 "nbformat": 4,
 "nbformat_minor": 2
}
