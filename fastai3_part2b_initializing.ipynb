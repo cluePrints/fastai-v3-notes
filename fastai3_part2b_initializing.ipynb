{
  "nbformat": 4,
  "nbformat_minor": 0,
  "metadata": {
    "colab": {
      "name": "fastai3 part2b: initializing.ipynb",
      "version": "0.3.2",
      "provenance": [],
      "collapsed_sections": [],
      "include_colab_link": true
    },
    "kernelspec": {
      "name": "python3",
      "display_name": "Python 3"
    }
  },
  "cells": [
    {
      "cell_type": "markdown",
      "metadata": {
        "id": "view-in-github",
        "colab_type": "text"
      },
      "source": [
        "<a href=\"https://colab.research.google.com/github/cluePrints/fastai-v3-notes/blob/master/fastai3_part2b_initializing.ipynb\" target=\"_parent\"><img src=\"https://colab.research.google.com/assets/colab-badge.svg\" alt=\"Open In Colab\"/></a>"
      ]
    },
    {
      "metadata": {
        "id": "oXy959STvvr8",
        "colab_type": "code",
        "colab": {}
      },
      "cell_type": "code",
      "source": [
        "# multiply matrices bunch of times\n",
        "# pay attention to variance\n",
        "# google around kaiming_init_, kaiming_normal_"
      ],
      "execution_count": 0,
      "outputs": []
    },
    {
      "metadata": {
        "id": "b6eW2rikkJn-",
        "colab_type": "code",
        "colab": {}
      },
      "cell_type": "code",
      "source": [
        "import torch\n",
        "from torch import nn"
      ],
      "execution_count": 0,
      "outputs": []
    },
    {
      "metadata": {
        "id": "5rCib7UokTy_",
        "colab_type": "code",
        "outputId": "ba13ad25-7a64-44c9-fffd-90a0fed1c057",
        "colab": {
          "base_uri": "https://localhost:8080/",
          "height": 34
        }
      },
      "cell_type": "code",
      "source": [
        "conv = nn.Conv2d(in_channels=1, out_channels=1, kernel_size=5)\n",
        "conv.weight.shape"
      ],
      "execution_count": 143,
      "outputs": [
        {
          "output_type": "execute_result",
          "data": {
            "text/plain": [
              "torch.Size([1, 1, 5, 5])"
            ]
          },
          "metadata": {
            "tags": []
          },
          "execution_count": 143
        }
      ]
    },
    {
      "metadata": {
        "id": "s7dBFIWkkeO9",
        "colab_type": "code",
        "outputId": "0bb7f165-b954-4820-90a1-5479fdf8ad35",
        "colab": {
          "base_uri": "https://localhost:8080/",
          "height": 34
        }
      },
      "cell_type": "code",
      "source": [
        "def stats(w):\n",
        "  with torch.no_grad():\n",
        "    return w.mean(), w.std()\n",
        "\n",
        "stats(conv.weight)"
      ],
      "execution_count": 144,
      "outputs": [
        {
          "output_type": "execute_result",
          "data": {
            "text/plain": [
              "(tensor(0.0284), tensor(0.1052))"
            ]
          },
          "metadata": {
            "tags": []
          },
          "execution_count": 144
        }
      ]
    },
    {
      "metadata": {
        "id": "VywKliwqlCSA",
        "colab_type": "code",
        "colab": {}
      },
      "cell_type": "code",
      "source": [
        "matrix = conv.weight[0,0,...]"
      ],
      "execution_count": 0,
      "outputs": []
    },
    {
      "metadata": {
        "id": "NVsrw3tBl4pv",
        "colab_type": "code",
        "outputId": "4dec61fc-a16d-4b40-97fb-9d9c95e13100",
        "colab": {
          "base_uri": "https://localhost:8080/",
          "height": 34
        }
      },
      "cell_type": "code",
      "source": [
        "stats(matrix)"
      ],
      "execution_count": 146,
      "outputs": [
        {
          "output_type": "execute_result",
          "data": {
            "text/plain": [
              "(tensor(0.0284), tensor(0.1052))"
            ]
          },
          "metadata": {
            "tags": []
          },
          "execution_count": 146
        }
      ]
    },
    {
      "metadata": {
        "id": "r7JnLDf8l-4j",
        "colab_type": "code",
        "outputId": "6471fdac-c92f-4e71-ff9f-ffe08c7c1f81",
        "colab": {
          "base_uri": "https://localhost:8080/",
          "height": 34
        }
      },
      "cell_type": "code",
      "source": [
        "def multiplications_until_matrix_vanishes(matrix):\n",
        "  result = matrix\n",
        "  with torch.no_grad():\n",
        "    for i in range(0, 500):\n",
        "      result = matrix @ result\n",
        "      if result.std() == 0:\n",
        "        return i\n",
        "      \n",
        "      if result.std() != result.std():\n",
        "        return i\n",
        "  return -1\n",
        "\n",
        "multiplications_until_matrix_vanishes(matrix)"
      ],
      "execution_count": 147,
      "outputs": [
        {
          "output_type": "execute_result",
          "data": {
            "text/plain": [
              "93"
            ]
          },
          "metadata": {
            "tags": []
          },
          "execution_count": 147
        }
      ]
    },
    {
      "metadata": {
        "id": "kHxniKxHmXle",
        "colab_type": "code",
        "outputId": "730ad39a-afec-4a54-d3aa-f1dacc76aa5b",
        "colab": {
          "base_uri": "https://localhost:8080/",
          "height": 34
        }
      },
      "cell_type": "code",
      "source": [
        "# TODO: try other strategies, e.g. normal, orthonormal\n",
        "matrix_unif = torch.empty(dim,dim, requires_grad=False).uniform_(-0.01, 0.01)\n",
        "multiplications_until_matrix_vanishes(matrix_unif)"
      ],
      "execution_count": 148,
      "outputs": [
        {
          "output_type": "execute_result",
          "data": {
            "text/plain": [
              "48"
            ]
          },
          "metadata": {
            "tags": []
          },
          "execution_count": 148
        }
      ]
    },
    {
      "metadata": {
        "id": "E6D59ZtC9Itu",
        "colab_type": "code",
        "outputId": "2c58f355-d057-4c97-e5b3-a33f2c665723",
        "colab": {
          "base_uri": "https://localhost:8080/",
          "height": 34
        }
      },
      "cell_type": "code",
      "source": [
        "1/math.sqrt(dim)"
      ],
      "execution_count": 149,
      "outputs": [
        {
          "output_type": "execute_result",
          "data": {
            "text/plain": [
              "0.044194173824159216"
            ]
          },
          "metadata": {
            "tags": []
          },
          "execution_count": 149
        }
      ]
    },
    {
      "metadata": {
        "id": "PvsOflxj50nW",
        "colab_type": "code",
        "outputId": "0005faaa-73c0-429c-b685-66fbaa341053",
        "colab": {
          "base_uri": "https://localhost:8080/",
          "height": 34
        }
      },
      "cell_type": "code",
      "source": [
        "stats(matrix_unif)"
      ],
      "execution_count": 150,
      "outputs": [
        {
          "output_type": "execute_result",
          "data": {
            "text/plain": [
              "(tensor(-1.1071e-05), tensor(0.0058))"
            ]
          },
          "metadata": {
            "tags": []
          },
          "execution_count": 150
        }
      ]
    },
    {
      "metadata": {
        "id": "0rEe3fA05Uz8",
        "colab_type": "code",
        "outputId": "5af0a8c3-b053-4fad-9659-7e11e79ef7ff",
        "colab": {
          "base_uri": "https://localhost:8080/",
          "height": 34
        }
      },
      "cell_type": "code",
      "source": [
        "# kaiming init\n",
        "import math\n",
        "dim = 512\n",
        "matrix_kaiming = torch.empty(dim,dim, requires_grad=False).uniform_(-1, 1)/math.sqrt(dim)\n",
        "# Note to self: tolerated multiplications can be 100...max+, depending on the randomness\n",
        "multiplications_until_matrix_vanishes(matrix_kaiming)"
      ],
      "execution_count": 151,
      "outputs": [
        {
          "output_type": "execute_result",
          "data": {
            "text/plain": [
              "182"
            ]
          },
          "metadata": {
            "tags": []
          },
          "execution_count": 151
        }
      ]
    },
    {
      "metadata": {
        "id": "h_MTwRwz5w7M",
        "colab_type": "code",
        "outputId": "0354f33f-46b0-4a6a-9363-8ee4449836dc",
        "colab": {
          "base_uri": "https://localhost:8080/",
          "height": 34
        }
      },
      "cell_type": "code",
      "source": [
        "stats(matrix_kaiming)"
      ],
      "execution_count": 152,
      "outputs": [
        {
          "output_type": "execute_result",
          "data": {
            "text/plain": [
              "(tensor(6.0093e-06), tensor(0.0255))"
            ]
          },
          "metadata": {
            "tags": []
          },
          "execution_count": 152
        }
      ]
    },
    {
      "metadata": {
        "id": "fQqXT8TKnOl_",
        "colab_type": "code",
        "outputId": "350d7df9-4d17-415f-d1cd-0e422649e4d5",
        "colab": {
          "base_uri": "https://localhost:8080/",
          "height": 34
        }
      },
      "cell_type": "code",
      "source": [
        "from torch.nn import init\n",
        "matrix_torch_kaiming = torch.empty(dim,dim, requires_grad=False)\n",
        "init.kaiming_uniform_(matrix_torch_kaiming)\n",
        "multiplications_until_matrix_vanishes(matrix_torch_kaiming)"
      ],
      "execution_count": 153,
      "outputs": [
        {
          "output_type": "execute_result",
          "data": {
            "text/plain": [
              "238"
            ]
          },
          "metadata": {
            "tags": []
          },
          "execution_count": 153
        }
      ]
    },
    {
      "metadata": {
        "id": "-x-fICr368W7",
        "colab_type": "code",
        "colab": {}
      },
      "cell_type": "code",
      "source": [
        "def mult_and_relu(matrix):\n",
        "  result = matrix\n",
        "  with torch.no_grad():\n",
        "    for i in range(0, 500):\n",
        "      result = matrix @ result\n",
        "      result = result.clamp_min(0.)\n",
        "      if result.std() == 0:\n",
        "        return i\n",
        "      \n",
        "      if result.std() != result.std():\n",
        "        return i\n",
        "\n",
        "      \n",
        "  return float('Inf')"
      ],
      "execution_count": 0,
      "outputs": []
    },
    {
      "metadata": {
        "id": "Hb0iHEiK7YBa",
        "colab_type": "code",
        "outputId": "575132af-be59-45e5-e686-2ae06b21aa99",
        "colab": {
          "base_uri": "https://localhost:8080/",
          "height": 34
        }
      },
      "cell_type": "code",
      "source": [
        "mult_and_relu(matrix_unif)"
      ],
      "execution_count": 155,
      "outputs": [
        {
          "output_type": "execute_result",
          "data": {
            "text/plain": [
              "41"
            ]
          },
          "metadata": {
            "tags": []
          },
          "execution_count": 155
        }
      ]
    },
    {
      "metadata": {
        "id": "mEQBRmRy7ZNH",
        "colab_type": "code",
        "outputId": "ad1a7630-4682-4645-92b0-e843a63ba4b9",
        "colab": {
          "base_uri": "https://localhost:8080/",
          "height": 34
        }
      },
      "cell_type": "code",
      "source": [
        "mult_and_relu(matrix_kaiming)"
      ],
      "execution_count": 156,
      "outputs": [
        {
          "output_type": "execute_result",
          "data": {
            "text/plain": [
              "108"
            ]
          },
          "metadata": {
            "tags": []
          },
          "execution_count": 156
        }
      ]
    },
    {
      "metadata": {
        "id": "f8nqXSTG7bcl",
        "colab_type": "code",
        "outputId": "6f450940-1eae-4362-a884-b9983db5e8d4",
        "colab": {
          "base_uri": "https://localhost:8080/",
          "height": 34
        }
      },
      "cell_type": "code",
      "source": [
        "mult_and_relu(matrix_torch_kaiming)"
      ],
      "execution_count": 157,
      "outputs": [
        {
          "output_type": "execute_result",
          "data": {
            "text/plain": [
              "inf"
            ]
          },
          "metadata": {
            "tags": []
          },
          "execution_count": 157
        }
      ]
    },
    {
      "metadata": {
        "id": "l-4btQpu7uJu",
        "colab_type": "code",
        "outputId": "a751c235-50df-4c11-e028-9d88fcbd677b",
        "colab": {
          "base_uri": "https://localhost:8080/",
          "height": 34
        }
      },
      "cell_type": "code",
      "source": [
        "relu_kaiming_adjustment = 2\n",
        "matrix_kaiming_relu = torch.empty(dim,dim, requires_grad=False).uniform_(-1, 1)*(math.sqrt(relu_kaiming_adjustment/dim))\n",
        "mult_and_relu(matrix_kaiming_relu)"
      ],
      "execution_count": 158,
      "outputs": [
        {
          "output_type": "execute_result",
          "data": {
            "text/plain": [
              "202"
            ]
          },
          "metadata": {
            "tags": []
          },
          "execution_count": 158
        }
      ]
    },
    {
      "metadata": {
        "id": "Tk6q-W1i9h01",
        "colab_type": "code",
        "outputId": "bcd343e1-1c48-417e-d65f-a3a63cd8b819",
        "colab": {
          "base_uri": "https://localhost:8080/",
          "height": 34
        }
      },
      "cell_type": "code",
      "source": [
        "rnd_repeats = 100\n",
        "mean = 0.\n",
        "squares_sum = 0.\n",
        "for i in range(0, rnd_repeats):\n",
        "  matrix = torch.randn(dim, dim)\n",
        "  vector = torch.randn(dim)\n",
        "  result = matrix @ vector\n",
        "  squares_sum += result.pow(2).mean().item()\n",
        "  mean += result.mean().item()\n",
        "\n",
        "mean/rnd_repeats, squares_sum/rnd_repeats"
      ],
      "execution_count": 159,
      "outputs": [
        {
          "output_type": "execute_result",
          "data": {
            "text/plain": [
              "(-0.03923895612359047, 506.34834381103514)"
            ]
          },
          "metadata": {
            "tags": []
          },
          "execution_count": 159
        }
      ]
    },
    {
      "metadata": {
        "id": "Jar65jso-0Hg",
        "colab_type": "code",
        "outputId": "93cab450-5da9-466c-c143-1f90566646c9",
        "colab": {
          "base_uri": "https://localhost:8080/",
          "height": 34
        }
      },
      "cell_type": "code",
      "source": [
        "coeff = 1/math.sqrt(dim)\n",
        "rnd_repeats = 100\n",
        "mean = 0.\n",
        "squares_sum = 0.\n",
        "for i in range(0, rnd_repeats):\n",
        "  matrix = torch.randn(512, 512) * coeff\n",
        "  vector = torch.randn(512)\n",
        "  result = matrix @ vector\n",
        "  squares_sum += result.pow(2).mean().item()\n",
        "  mean += result.mean().item()\n",
        "\n",
        "mean/rnd_repeats, squares_sum/rnd_repeats"
      ],
      "execution_count": 160,
      "outputs": [
        {
          "output_type": "execute_result",
          "data": {
            "text/plain": [
              "(0.0024990265956148505, 1.0058455669879913)"
            ]
          },
          "metadata": {
            "tags": []
          },
          "execution_count": 160
        }
      ]
    },
    {
      "metadata": {
        "id": "iBIL0LE3-6QK",
        "colab_type": "code",
        "outputId": "e9123bf0-aac8-422e-d7f4-4341f361f0f8",
        "colab": {
          "base_uri": "https://localhost:8080/",
          "height": 34
        }
      },
      "cell_type": "code",
      "source": [
        "coeff_relu = math.sqrt(2/dim)\n",
        "rnd_repeats = 100\n",
        "mean = 0.\n",
        "squares_sum = 0.\n",
        "for i in range(0, rnd_repeats):\n",
        "  matrix = torch.randn(512, 512) * coeff_relu\n",
        "  vector = torch.randn(512)\n",
        "  result = (matrix @ vector).clamp_min(0.)\n",
        "  squares_sum += result.pow(2).mean().item()\n",
        "  mean += result.mean().item()\n",
        "\n",
        "mean/rnd_repeats, squares_sum/rnd_repeats"
      ],
      "execution_count": 161,
      "outputs": [
        {
          "output_type": "execute_result",
          "data": {
            "text/plain": [
              "(0.5725732117891311, 1.0228411120176315)"
            ]
          },
          "metadata": {
            "tags": []
          },
          "execution_count": 161
        }
      ]
    },
    {
      "metadata": {
        "id": "BQJh2sh8nKj1",
        "colab_type": "code",
        "colab": {}
      },
      "cell_type": "code",
      "source": [
        "# review Xavier init paper\n",
        "# calculate std with a loop & see where Xavier coeff comes from\n",
        "# add relu"
      ],
      "execution_count": 0,
      "outputs": []
    }
  ]
}