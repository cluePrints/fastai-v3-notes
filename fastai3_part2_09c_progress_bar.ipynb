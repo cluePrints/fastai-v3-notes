{
  "nbformat": 4,
  "nbformat_minor": 0,
  "metadata": {
    "colab": {
      "name": "fastai3 part2: 09c_progress_bar.ipynb",
      "version": "0.3.2",
      "provenance": [],
      "collapsed_sections": [
        "jmHAH3ORP1PP",
        "hTyxtOQ7QMoU"
      ],
      "include_colab_link": true
    },
    "kernelspec": {
      "name": "python3",
      "display_name": "Python 3"
    },
    "accelerator": "GPU"
  },
  "cells": [
    {
      "cell_type": "markdown",
      "metadata": {
        "id": "view-in-github",
        "colab_type": "text"
      },
      "source": [
        "<a href=\"https://colab.research.google.com/github/cluePrints/fastai-v3-notes/blob/master/fastai3_part2_09c_progress_bar.ipynb\" target=\"_parent\"><img src=\"https://colab.research.google.com/assets/colab-badge.svg\" alt=\"Open In Colab\"/></a>"
      ]
    },
    {
      "metadata": {
        "id": "VEa9u4m5NptH",
        "colab_type": "code",
        "colab": {}
      },
      "cell_type": "code",
      "source": [
        "%load_ext autoreload\n",
        "%autoreload 2\n",
        "\n",
        "%matplotlib inline"
      ],
      "execution_count": 0,
      "outputs": []
    },
    {
      "metadata": {
        "id": "jmHAH3ORP1PP",
        "colab_type": "text"
      },
      "cell_type": "markdown",
      "source": [
        "# Env state dump\n",
        "\n",
        "This is going to be useful for troubleshooting later"
      ]
    },
    {
      "metadata": {
        "id": "4vywQzgX3IJt",
        "colab_type": "code",
        "colab": {}
      },
      "cell_type": "code",
      "source": [
        "!pip install torch_nightly -f https://download.pytorch.org/whl/nightly/cu100/torch_nightly.html -q"
      ],
      "execution_count": 0,
      "outputs": []
    },
    {
      "metadata": {
        "id": "HPEMmWuM3Lxe",
        "colab_type": "code",
        "colab": {
          "base_uri": "https://localhost:8080/",
          "height": 6295
        },
        "outputId": "4ec01d9e-600c-4c8a-c103-fb13a2b0363c"
      },
      "cell_type": "code",
      "source": [
        "!pip freeze"
      ],
      "execution_count": 3,
      "outputs": [
        {
          "output_type": "stream",
          "text": [
            "absl-py==0.7.1\n",
            "alabaster==0.7.12\n",
            "albumentations==0.1.12\n",
            "altair==2.4.1\n",
            "astor==0.7.1\n",
            "astropy==3.0.5\n",
            "atari-py==0.1.7\n",
            "atomicwrites==1.3.0\n",
            "attrs==19.1.0\n",
            "audioread==2.1.6\n",
            "autograd==1.2\n",
            "Babel==2.6.0\n",
            "backcall==0.1.0\n",
            "backports.tempfile==1.0\n",
            "backports.weakref==1.0.post1\n",
            "beautifulsoup4==4.6.3\n",
            "bleach==3.1.0\n",
            "bokeh==1.0.4\n",
            "boto==2.49.0\n",
            "boto3==1.9.130\n",
            "botocore==1.12.130\n",
            "Bottleneck==1.2.1\n",
            "branca==0.3.1\n",
            "bs4==0.0.1\n",
            "bz2file==0.98\n",
            "cachetools==3.1.0\n",
            "certifi==2019.3.9\n",
            "cffi==1.12.2\n",
            "chainer==5.0.0\n",
            "chardet==3.0.4\n",
            "Click==7.0\n",
            "cloudpickle==0.6.1\n",
            "cmake==3.12.0\n",
            "colorlover==0.3.0\n",
            "community==1.0.0b1\n",
            "contextlib2==0.5.5\n",
            "convertdate==2.1.3\n",
            "coverage==3.7.1\n",
            "coveralls==0.5\n",
            "crcmod==1.7\n",
            "cufflinks==0.14.6\n",
            "cupy-cuda100==5.2.0\n",
            "cvxopt==1.2.3\n",
            "cvxpy==1.0.15\n",
            "cycler==0.10.0\n",
            "cymem==2.0.2\n",
            "Cython==0.29.6\n",
            "cytoolz==0.9.0.1\n",
            "daft==0.0.4\n",
            "dask==1.1.5\n",
            "dataclasses==0.6\n",
            "datascience==0.10.6\n",
            "decorator==4.4.0\n",
            "defusedxml==0.5.0\n",
            "dill==0.2.9\n",
            "distributed==1.25.3\n",
            "Django==2.2\n",
            "dlib==19.16.0\n",
            "dm-sonnet==1.23\n",
            "docopt==0.6.2\n",
            "docutils==0.14\n",
            "dopamine-rl==1.0.5\n",
            "easydict==1.9\n",
            "ecos==2.0.7.post1\n",
            "editdistance==0.5.3\n",
            "en-core-web-sm==2.0.0\n",
            "entrypoints==0.3\n",
            "enum34==1.1.6\n",
            "ephem==3.7.6.0\n",
            "et-xmlfile==1.0.1\n",
            "fa2==0.3.5\n",
            "fancyimpute==0.4.3\n",
            "fastai==1.0.51\n",
            "fastcache==1.0.2\n",
            "fastdtw==0.3.2\n",
            "fastprogress==0.1.21\n",
            "fastrlock==0.4\n",
            "fbprophet==0.4.post2\n",
            "featuretools==0.4.1\n",
            "filelock==3.0.10\n",
            "fix-yahoo-finance==0.0.22\n",
            "Flask==1.0.2\n",
            "folium==0.8.3\n",
            "future==0.16.0\n",
            "gast==0.2.2\n",
            "GDAL==2.2.2\n",
            "gdown==3.6.4\n",
            "gensim==3.6.0\n",
            "geographiclib==1.49\n",
            "geopy==1.17.0\n",
            "gevent==1.4.0\n",
            "gin-config==0.1.4\n",
            "glob2==0.6\n",
            "google==2.0.2\n",
            "google-api-core==1.9.0\n",
            "google-api-python-client==1.6.7\n",
            "google-auth==1.4.2\n",
            "google-auth-httplib2==0.0.3\n",
            "google-auth-oauthlib==0.3.0\n",
            "google-cloud-bigquery==1.8.1\n",
            "google-cloud-core==0.29.1\n",
            "google-cloud-language==1.0.2\n",
            "google-cloud-storage==1.13.2\n",
            "google-cloud-translate==1.3.3\n",
            "google-colab==1.0.0\n",
            "google-resumable-media==0.3.2\n",
            "googleapis-common-protos==1.5.9\n",
            "googledrivedownloader==0.3\n",
            "graph-nets==1.0.3\n",
            "graphviz==0.10.1\n",
            "greenlet==0.4.15\n",
            "grpcio==1.15.0\n",
            "gspread==3.0.1\n",
            "gspread-dataframe==3.0.2\n",
            "gunicorn==19.9.0\n",
            "gym==0.10.11\n",
            "h5py==2.8.0\n",
            "HeapDict==1.0.0\n",
            "holidays==0.9.10\n",
            "html5lib==1.0.1\n",
            "httpimport==0.5.16\n",
            "httplib2==0.11.3\n",
            "humanize==0.5.1\n",
            "hyperopt==0.1.2\n",
            "ideep4py==2.0.0.post3\n",
            "idna==2.6\n",
            "image==1.5.27\n",
            "imageio==2.4.1\n",
            "imagesize==1.1.0\n",
            "imbalanced-learn==0.4.3\n",
            "imblearn==0.0\n",
            "imgaug==0.2.8\n",
            "imutils==0.5.2\n",
            "inflect==2.1.0\n",
            "intel-openmp==2019.0\n",
            "intervaltree==2.1.0\n",
            "ipykernel==4.6.1\n",
            "ipython==5.5.0\n",
            "ipython-genutils==0.2.0\n",
            "ipython-sql==0.3.9\n",
            "ipywidgets==7.4.2\n",
            "itsdangerous==1.1.0\n",
            "jdcal==1.4\n",
            "jedi==0.13.3\n",
            "jieba==0.39\n",
            "Jinja2==2.10.1\n",
            "jmespath==0.9.4\n",
            "joblib==0.12.5\n",
            "jpeg4py==0.1.4\n",
            "jsonschema==2.6.0\n",
            "jupyter==1.0.0\n",
            "jupyter-client==5.2.4\n",
            "jupyter-console==6.0.0\n",
            "jupyter-core==4.4.0\n",
            "kaggle==1.5.3\n",
            "kapre==0.1.3.1\n",
            "Keras==2.2.4\n",
            "Keras-Applications==1.0.7\n",
            "Keras-Preprocessing==1.0.9\n",
            "keras-vis==0.4.1\n",
            "kiwisolver==1.0.1\n",
            "knnimpute==0.1.0\n",
            "librosa==0.6.3\n",
            "lightgbm==2.2.3\n",
            "llvmlite==0.28.0\n",
            "lmdb==0.94\n",
            "lucid==0.3.8\n",
            "lunardate==0.2.0\n",
            "lxml==4.2.6\n",
            "magenta==0.3.19\n",
            "Markdown==3.1\n",
            "MarkupSafe==1.1.1\n",
            "matplotlib==3.0.3\n",
            "matplotlib-venn==0.11.5\n",
            "mesh-tensorflow==0.0.5\n",
            "mido==1.2.6\n",
            "mir-eval==0.5\n",
            "missingno==0.4.1\n",
            "mistune==0.8.4\n",
            "mkl==2019.0\n",
            "mlxtend==0.14.0\n",
            "mock==2.0.0\n",
            "more-itertools==7.0.0\n",
            "moviepy==0.2.3.5\n",
            "mpi4py==3.0.1\n",
            "mpmath==1.1.0\n",
            "msgpack==0.5.6\n",
            "msgpack-numpy==0.4.3.2\n",
            "multiprocess==0.70.7\n",
            "multitasking==0.0.7\n",
            "murmurhash==1.0.2\n",
            "music21==5.5.0\n",
            "natsort==5.5.0\n",
            "nbconvert==5.4.1\n",
            "nbformat==4.4.0\n",
            "networkx==2.2\n",
            "nibabel==2.3.3\n",
            "nltk==3.2.5\n",
            "nose==1.3.7\n",
            "notebook==5.2.2\n",
            "np-utils==0.5.10.0\n",
            "numba==0.40.1\n",
            "numexpr==2.6.9\n",
            "numpy==1.16.2\n",
            "nvidia-ml-py3==7.352.0\n",
            "oauth2client==4.1.3\n",
            "oauthlib==3.0.1\n",
            "okgrade==0.4.3\n",
            "olefile==0.46\n",
            "opencv-contrib-python==3.4.3.18\n",
            "opencv-python==3.4.5.20\n",
            "openpyxl==2.5.9\n",
            "osqp==0.5.0\n",
            "packaging==19.0\n",
            "pandas==0.23.4\n",
            "pandas-datareader==0.7.0\n",
            "pandas-gbq==0.4.1\n",
            "pandas-profiling==1.4.1\n",
            "pandocfilters==1.4.2\n",
            "parso==0.4.0\n",
            "pathlib==1.0.1\n",
            "patsy==0.5.1\n",
            "pbr==5.1.3\n",
            "pexpect==4.7.0\n",
            "pickleshare==0.7.5\n",
            "Pillow==4.3.0\n",
            "pip-tools==3.4.0\n",
            "plac==0.9.6\n",
            "plotly==3.6.1\n",
            "pluggy==0.7.1\n",
            "portpicker==1.2.0\n",
            "prefetch-generator==1.0.1\n",
            "preshed==2.0.1\n",
            "pretty-midi==0.2.8\n",
            "prettytable==0.7.2\n",
            "progressbar2==3.38.0\n",
            "prometheus-client==0.6.0\n",
            "promise==2.2.1\n",
            "prompt-toolkit==1.0.15\n",
            "protobuf==3.7.1\n",
            "psutil==5.4.8\n",
            "psycopg2==2.7.6.1\n",
            "ptyprocess==0.6.0\n",
            "py==1.8.0\n",
            "pyasn1==0.4.5\n",
            "pyasn1-modules==0.2.4\n",
            "pycocotools==2.0.0\n",
            "pycparser==2.19\n",
            "pydot==1.3.0\n",
            "pydot-ng==2.0.0\n",
            "pydotplus==2.0.2\n",
            "pyemd==0.5.1\n",
            "pyglet==1.3.2\n",
            "Pygments==2.1.3\n",
            "pygobject==3.26.1\n",
            "pymc3==3.6\n",
            "pymongo==3.7.2\n",
            "pymystem3==0.2.0\n",
            "PyOpenGL==3.1.0\n",
            "pyparsing==2.4.0\n",
            "pyrsistent==0.14.11\n",
            "pysndfile==1.3.2\n",
            "PySocks==1.6.8\n",
            "pystan==2.19.0.0\n",
            "pytest==3.6.4\n",
            "python-apt==1.6.3+ubuntu1\n",
            "python-chess==0.23.11\n",
            "python-dateutil==2.5.3\n",
            "python-louvain==0.13\n",
            "python-rtmidi==1.2.1\n",
            "python-slugify==3.0.2\n",
            "python-utils==2.3.0\n",
            "pytz==2018.9\n",
            "PyWavelets==1.0.3\n",
            "PyYAML==3.13\n",
            "pyzmq==17.0.0\n",
            "qtconsole==4.4.3\n",
            "regex==2018.1.10\n",
            "requests==2.18.4\n",
            "requests-oauthlib==1.2.0\n",
            "resampy==0.2.1\n",
            "retrying==1.3.3\n",
            "rpy2==2.9.5\n",
            "rsa==4.0\n",
            "s3fs==0.2.0\n",
            "s3transfer==0.2.0\n",
            "scikit-image==0.14.2\n",
            "scikit-learn==0.20.3\n",
            "scipy==1.2.1\n",
            "screen-resolution-extra==0.0.0\n",
            "scs==2.1.0\n",
            "seaborn==0.7.1\n",
            "Send2Trash==1.5.0\n",
            "setuptools-git==1.2\n",
            "Shapely==1.6.4.post2\n",
            "simplegeneric==0.8.1\n",
            "six==1.11.0\n",
            "sklearn==0.0\n",
            "smart-open==1.8.1\n",
            "snowballstemmer==1.2.1\n",
            "sortedcontainers==2.1.0\n",
            "spacy==2.0.18\n",
            "Sphinx==1.8.5\n",
            "sphinxcontrib-websupport==1.1.0\n",
            "SQLAlchemy==1.3.2\n",
            "sqlparse==0.3.0\n",
            "stable-baselines==2.2.1\n",
            "statsmodels==0.8.0\n",
            "sympy==1.1.1\n",
            "tables==3.4.4\n",
            "tabulate==0.8.3\n",
            "tblib==1.3.2\n",
            "tensor2tensor==1.11.0\n",
            "tensorboard==1.13.1\n",
            "tensorboardcolab==0.0.22\n",
            "tensorflow==1.13.1\n",
            "tensorflow-estimator==1.13.0\n",
            "tensorflow-hub==0.4.0\n",
            "tensorflow-metadata==0.13.0\n",
            "tensorflow-probability==0.6.0\n",
            "termcolor==1.1.0\n",
            "terminado==0.8.2\n",
            "testpath==0.4.2\n",
            "text-unidecode==1.2\n",
            "textblob==0.15.3\n",
            "textgenrnn==1.4.1\n",
            "tfds-nightly==1.0.2.dev201904090105\n",
            "tflearn==0.3.2\n",
            "Theano==1.0.4\n",
            "thinc==6.12.1\n",
            "toolz==0.9.0\n",
            "torch==1.0.1.post2\n",
            "torch-nightly==1.1.0.dev20190416\n",
            "torchsummary==1.5.1\n",
            "torchtext==0.3.1\n",
            "torchvision==0.2.2.post3\n",
            "tornado==4.5.3\n",
            "tqdm==4.28.1\n",
            "traitlets==4.3.2\n",
            "tweepy==3.6.0\n",
            "typing==3.6.6\n",
            "tzlocal==1.5.1\n",
            "ujson==1.35\n",
            "umap-learn==0.3.8\n",
            "uritemplate==3.0.0\n",
            "urllib3==1.22\n",
            "vega-datasets==0.7.0\n",
            "wcwidth==0.1.7\n",
            "webencodings==0.5.1\n",
            "Werkzeug==0.15.2\n",
            "widgetsnbextension==3.4.2\n",
            "wordcloud==1.5.0\n",
            "wrapt==1.10.11\n",
            "xarray==0.11.3\n",
            "xgboost==0.82\n",
            "xkit==0.0.0\n",
            "xlrd==1.1.0\n",
            "xlwt==1.3.0\n",
            "yellowbrick==0.9.1\n",
            "zict==0.1.4\n",
            "zmq==0.0.0\n"
          ],
          "name": "stdout"
        }
      ]
    },
    {
      "metadata": {
        "id": "hTyxtOQ7QMoU",
        "colab_type": "text"
      },
      "cell_type": "markdown",
      "source": [
        "# Imports"
      ]
    },
    {
      "metadata": {
        "id": "9coMZR0WQpEa",
        "colab_type": "code",
        "colab": {}
      },
      "cell_type": "code",
      "source": [
        "# download fast ai exports\n",
        "!curl -s -L https://api.github.com/repos/fastai/fastai_docs/tarball/02697011d061d82b7922a650fc494915f4926c96 | tar xz --wildcards \"*/dev_course/dl2/exp/*.py\" --strip-components=3"
      ],
      "execution_count": 0,
      "outputs": []
    },
    {
      "metadata": {
        "id": "ZT1IXYGM2_TU",
        "colab_type": "code",
        "colab": {}
      },
      "cell_type": "code",
      "source": [
        "from exp.nb_09b import *"
      ],
      "execution_count": 0,
      "outputs": []
    },
    {
      "metadata": {
        "id": "GbxluGijQJgh",
        "colab_type": "text"
      },
      "cell_type": "markdown",
      "source": [
        "# Body"
      ]
    },
    {
      "metadata": {
        "id": "qsERi2mAQnx2",
        "colab_type": "code",
        "colab": {}
      },
      "cell_type": "code",
      "source": [
        "import time\n",
        "from fastprogress import master_bar, progress_bar\n",
        "from fastprogress.fastprogress import format_time\n",
        "path = datasets.untar_data(datasets.URLs.IMAGENETTE_160)"
      ],
      "execution_count": 0,
      "outputs": []
    },
    {
      "metadata": {
        "id": "XdghAsVsdy7D",
        "colab_type": "code",
        "colab": {}
      },
      "cell_type": "code",
      "source": [
        "import numpy as np\n",
        "def my_collate(batch):\n",
        "  from torch.utils.data.dataloader import default_collate\n",
        "  xb, yb = default_collate(batch)\n",
        "  return xb, yb"
      ],
      "execution_count": 0,
      "outputs": []
    },
    {
      "metadata": {
        "id": "OsSn4kZIWGNe",
        "colab_type": "code",
        "colab": {}
      },
      "cell_type": "code",
      "source": [
        "from collections import defaultdict\n",
        "class Numericalizer():\n",
        "  def __init__(self):\n",
        "    self.max_index = -1\n",
        "    self.original_to_index = defaultdict(self._next_index)\n",
        "    self.index_to_original = defaultdict()\n",
        "    \n",
        "  def __call__(self, original):\n",
        "    index = self.original_to_index[original]\n",
        "    self.index_to_original[index] = original\n",
        "    return index\n",
        "    \n",
        "  def _next_index(self):\n",
        "    self.max_index += 1\n",
        "    return self.max_index\n",
        "  \n",
        "n = Numericalizer()\n",
        "\n",
        "\n",
        "test_eq(n('aa'), 0)\n",
        "test_eq(n('a'), 1)\n",
        "test_eq(n('b'), 2)\n",
        "test_eq(n.original_to_index['a'], 1)\n",
        "test_eq(n.original_to_index['b'], 2)\n",
        "test_eq(n.index_to_original[1], 'a')\n",
        "test_eq(n.index_to_original[2], 'b')\n",
        "test_eq(n('a'), 1)"
      ],
      "execution_count": 0,
      "outputs": []
    },
    {
      "metadata": {
        "id": "Im6d45BAZlu7",
        "colab_type": "code",
        "colab": {}
      },
      "cell_type": "code",
      "source": [
        "parent_and_numericalize = lambda x: label_numericalizer(parent_labeler(x))"
      ],
      "execution_count": 0,
      "outputs": []
    },
    {
      "metadata": {
        "id": "aDtiwpaeTErP",
        "colab_type": "code",
        "colab": {}
      },
      "cell_type": "code",
      "source": [
        "tfms = [make_rgb, ResizeFixed(128), to_byte_tensor, to_float_tensor]\n",
        "batch_size = 64\n",
        "label_numericalizer = Numericalizer()\n",
        "\n",
        "image_list = ImageList.from_files(path, tfms=tfms)\n",
        "split_list = SplitData.split_by_func(image_list, partial(grandparent_splitter, valid_name='val'))\n",
        "labeled_list = label_by_func(split_list, parent_and_numericalize)\n",
        "data = labeled_list.to_databunch(batch_size, c_in=3, c_out=10, num_workers=0, collate_fn=my_collate)\n",
        "assert data.train_dl.num_workers == 0, f\"Got {data.train_dl.num_workers}\"\n",
        "assert data.valid_dl.num_workers == 0, f\"Got {data.valid_dl.num_workers}\""
      ],
      "execution_count": 0,
      "outputs": []
    },
    {
      "metadata": {
        "id": "qnAmjRBwsvD-",
        "colab_type": "code",
        "colab": {}
      },
      "cell_type": "code",
      "source": [
        "master_bar.on_iter_end??"
      ],
      "execution_count": 0,
      "outputs": []
    },
    {
      "metadata": {
        "id": "HJ_WMY-1ijGU",
        "colab_type": "code",
        "colab": {}
      },
      "cell_type": "code",
      "source": [
        "import pdb; \n",
        "class ProgressCallback(Callback):\n",
        "  def begin_fit(self):\n",
        "    self.epochs_bar = master_bar(range(self.run.epochs))\n",
        "    self.epochs_bar.on_iter_begin()\n",
        "\n",
        "  def begin_epoch(self):    self._set_new_batches_bar()\n",
        "  def begin_validate(self): self._set_new_batches_bar()\n",
        "\n",
        "  def begin_batch(self): self._update_batches_progress()\n",
        "  def after_batch(self): self._update_batches_progress()\n",
        "\n",
        "  def after_fit(self):\n",
        "    if hasattr(self, 'epochs_bar'): self.epochs_bar.on_iter_end()\n",
        "    \n",
        "  def _update_batches_progress(self):\n",
        "    self.batches_bar.update(self.run.n_iter)\n",
        "    \n",
        "  def _set_new_batches_bar(self):\n",
        "    self.run.n_iter = 0\n",
        "    self.epochs_bar.update(int(self.n_epochs))\n",
        "    self.batches_bar = progress_bar(self.dl, parent=self.epochs_bar, auto_update=False)"
      ],
      "execution_count": 0,
      "outputs": []
    },
    {
      "metadata": {
        "id": "vWyIRpyLTRxk",
        "colab_type": "code",
        "colab": {}
      },
      "cell_type": "code",
      "source": [
        "callback_funcs = [partial(AvgStatsCallback,accuracy),\n",
        "        CudaCallback,\n",
        "        ProgressCallback,\n",
        "        partial(BatchTransformXCallback, norm_imagenette)]"
      ],
      "execution_count": 0,
      "outputs": []
    },
    {
      "metadata": {
        "id": "fGN52CE0TXEd",
        "colab_type": "code",
        "colab": {}
      },
      "cell_type": "code",
      "source": [
        "model_func = get_model_func()\n",
        "loss_func = F.cross_entropy\n",
        "num_filters = [32]*4\n",
        "layer_func = conv_layer\n",
        "lr = 0.1\n",
        "learner = get_learner(num_filters, data, lr, layer_func, loss_func, cb_funcs=callback_funcs)"
      ],
      "execution_count": 0,
      "outputs": []
    },
    {
      "metadata": {
        "id": "pIkxbumpUImh",
        "colab_type": "code",
        "colab": {
          "base_uri": "https://localhost:8080/",
          "height": 87
        },
        "outputId": "b765caba-120b-4720-eec6-9b549d41076c"
      },
      "cell_type": "code",
      "source": [
        "learner.fit(2)"
      ],
      "execution_count": 15,
      "outputs": [
        {
          "output_type": "display_data",
          "data": {
            "text/html": [
              ""
            ],
            "text/plain": [
              "<IPython.core.display.HTML object>"
            ]
          },
          "metadata": {
            "tags": []
          }
        },
        {
          "output_type": "stream",
          "text": [
            "train: [1.994650794458663, tensor(0.2926, device='cuda:0')]\n",
            "valid: [1.8051944580078125, tensor(0.3700, device='cuda:0')]\n",
            "train: [1.636410800323794, tensor(0.4405, device='cuda:0')]\n",
            "valid: [1.504024169921875, tensor(0.4660, device='cuda:0')]\n"
          ],
          "name": "stdout"
        }
      ]
    },
    {
      "metadata": {
        "id": "PMmfTO1wy6rn",
        "colab_type": "code",
        "colab": {
          "base_uri": "https://localhost:8080/",
          "height": 141
        },
        "outputId": "7fda632f-5721-40b6-ca50-81741bbfcb01"
      },
      "cell_type": "code",
      "source": [
        "class ProgressCallbackV2(ProgressCallback):\n",
        "  def begin_fit(self):\n",
        "    super().begin_fit()\n",
        "    self.old_logger = self.run.logger\n",
        "    self.run.logger = self._log\n",
        "\n",
        "    # state is shameful, so is dependency betwee two callbacks this sorta relaxes!\n",
        "    self.logged_header = False\n",
        "    self.last_train_event = False\n",
        "    self.last_valid_event = False\n",
        "\n",
        "  def _log(self, log_event):\n",
        "    if not isinstance(log_event, AvgStats):\n",
        "      self.old_logger(log_event)\n",
        "      return\n",
        "\n",
        "    self._capture(log_event)\n",
        "    self._log_header_if_necessary()\n",
        "    self._log_row()\n",
        "\n",
        "  def _capture(self, log_event):\n",
        "    if log_event.in_train: \n",
        "      self.last_train_event = log_event\n",
        "    else:\n",
        "      self.last_valid_event = log_event\n",
        "    \n",
        "  def _log_row(self):\n",
        "    if not self.last_train_event:\n",
        "      return\n",
        "    \n",
        "    if not self.last_valid_event:\n",
        "      return\n",
        "\n",
        "    metrics_row = [str(self.epoch)] \n",
        "    for event in [self.last_train_event, self.last_valid_event]:\n",
        "      for metric in event.avg_stats:\n",
        "        metrics_row.append(f'{metric:.3f}')\n",
        "\n",
        "    self.epochs_bar.write(metrics_row, table=True)\n",
        "    self.last_train_event = False\n",
        "    self.last_valid_event = False\n",
        "\n",
        "  def _log_header_if_necessary(self):\n",
        "    if self.logged_header:\n",
        "      return\n",
        "    self.logged_header = True\n",
        "    metric_names = [m.__name__ for m in self.last_train_event.metrics]\n",
        "    headers = ['epoch']\n",
        "    headers += ['train_loss'] + [f'train_{n}' for n in metric_names]\n",
        "    headers += ['valid_loss'] + [f'valid_{n}' for n in metric_names]\n",
        "    self.epochs_bar.write(headers, table=True)\n",
        "\n",
        "callback_funcs = [partial(AvgStatsCallback,accuracy),\n",
        "        CudaCallback,\n",
        "        ProgressCallbackV2,\n",
        "        partial(BatchTransformXCallback, norm_imagenette)]\n",
        "\n",
        "model_func = get_model_func()\n",
        "loss_func = F.cross_entropy\n",
        "num_filters = [32]*4\n",
        "layer_func = conv_layer\n",
        "lr = 0.1\n",
        "learner = get_learner(num_filters, data, lr, layer_func, loss_func, cb_funcs=callback_funcs)\n",
        "learner.fit(3)"
      ],
      "execution_count": 16,
      "outputs": [
        {
          "output_type": "display_data",
          "data": {
            "text/html": [
              "<table border=\"1\" class=\"dataframe\">\n",
              "  <thead>\n",
              "    <tr style=\"text-align: left;\">\n",
              "      <th>epoch</th>\n",
              "      <th>train_loss</th>\n",
              "      <th>train_accuracy</th>\n",
              "      <th>valid_loss</th>\n",
              "      <th>valid_accuracy</th>\n",
              "    </tr>\n",
              "  </thead>\n",
              "  <tbody>\n",
              "    <tr>\n",
              "      <td>0</td>\n",
              "      <td>2.020</td>\n",
              "      <td>0.275</td>\n",
              "      <td>1.800</td>\n",
              "      <td>0.394</td>\n",
              "    </tr>\n",
              "    <tr>\n",
              "      <td>1</td>\n",
              "      <td>1.669</td>\n",
              "      <td>0.435</td>\n",
              "      <td>1.472</td>\n",
              "      <td>0.526</td>\n",
              "    </tr>\n",
              "    <tr>\n",
              "      <td>2</td>\n",
              "      <td>1.455</td>\n",
              "      <td>0.509</td>\n",
              "      <td>1.379</td>\n",
              "      <td>0.542</td>\n",
              "    </tr>\n",
              "  </tbody>\n",
              "</table>"
            ],
            "text/plain": [
              "<IPython.core.display.HTML object>"
            ]
          },
          "metadata": {
            "tags": []
          }
        }
      ]
    },
    {
      "metadata": {
        "id": "JA0BfGTySss5",
        "colab_type": "code",
        "colab": {}
      },
      "cell_type": "code",
      "source": [
        "# logger use to support the thing\n",
        "# master pb & current pb\n",
        "# two callback exchange data through a runner :/\n",
        "# works for multiple iterations\n",
        "# train_loss\ttrain_accuracy\tvalid_loss\tvalid_accuracy\ttime"
      ],
      "execution_count": 0,
      "outputs": []
    },
    {
      "metadata": {
        "id": "ef_EKHEuQA8T",
        "colab_type": "text"
      },
      "cell_type": "markdown",
      "source": [
        "# Bottom"
      ]
    }
  ]
}