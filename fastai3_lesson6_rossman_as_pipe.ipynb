{
  "nbformat": 4,
  "nbformat_minor": 0,
  "metadata": {
    "colab": {
      "name": "fastai3: lesson6 - rossman as pipe.ipynb",
      "version": "0.3.2",
      "provenance": [],
      "collapsed_sections": [],
      "toc_visible": true,
      "include_colab_link": true
    },
    "kernelspec": {
      "name": "python3",
      "display_name": "Python 3"
    },
    "accelerator": "GPU"
  },
  "cells": [
    {
      "cell_type": "markdown",
      "metadata": {
        "id": "view-in-github",
        "colab_type": "text"
      },
      "source": [
        "<a href=\"https://colab.research.google.com/github/cluePrints/fastai-v3-notes/blob/master/fastai3_lesson6_rossman_as_pipe.ipynb\" target=\"_parent\"><img src=\"https://colab.research.google.com/assets/colab-badge.svg\" alt=\"Open In Colab\"/></a>"
      ]
    },
    {
      "metadata": {
        "id": "5v-Gv8oxTnMq",
        "colab_type": "code",
        "colab": {}
      },
      "cell_type": "code",
      "source": [
        "%reload_ext autoreload\n",
        "%autoreload 2"
      ],
      "execution_count": 0,
      "outputs": []
    },
    {
      "metadata": {
        "id": "7alUsr6BsRe-",
        "colab_type": "code",
        "outputId": "a46d3530-55d1-4f07-e430-1cf08b54e8be",
        "colab": {
          "base_uri": "https://localhost:8080/",
          "height": 34
        }
      },
      "cell_type": "code",
      "source": [
        "!pip freeze | grep scipy"
      ],
      "execution_count": 2,
      "outputs": [
        {
          "output_type": "stream",
          "text": [
            "scipy==1.1.0\n"
          ],
          "name": "stdout"
        }
      ]
    },
    {
      "metadata": {
        "id": "ROqe7C0mTqWU",
        "colab_type": "code",
        "colab": {}
      },
      "cell_type": "code",
      "source": [
        "from fastai.basics import *\n",
        "import pandas as pd\n",
        "import numpy as np\n",
        "import matplotlib.pyplot as plt"
      ],
      "execution_count": 0,
      "outputs": []
    },
    {
      "metadata": {
        "id": "AY7SCwrAxGQ2",
        "colab_type": "text"
      },
      "cell_type": "markdown",
      "source": [
        "# 1. Load"
      ]
    },
    {
      "metadata": {
        "id": "FQKSXY1FshFL",
        "colab_type": "code",
        "outputId": "8354c3ea-610c-4c64-872d-d431b2c16a94",
        "colab": {
          "base_uri": "https://localhost:8080/",
          "height": 34
        }
      },
      "cell_type": "code",
      "source": [
        "!ls rossmann.tgz > /dev/null || wget http://files.fast.ai/part2/lesson14/rossmann.tgz -q"
      ],
      "execution_count": 4,
      "outputs": [
        {
          "output_type": "stream",
          "text": [
            "ls: cannot access 'rossmann.tgz': No such file or directory\n"
          ],
          "name": "stdout"
        }
      ]
    },
    {
      "metadata": {
        "id": "66bvyW26SOXU",
        "colab_type": "code",
        "outputId": "27c6dcc4-5337-48d8-a837-658d3f012664",
        "colab": {
          "base_uri": "https://localhost:8080/",
          "height": 170
        }
      },
      "cell_type": "code",
      "source": [
        "!ls weather.csv > /dev/null || tar zxvf rossmann.tgz"
      ],
      "execution_count": 5,
      "outputs": [
        {
          "output_type": "stream",
          "text": [
            "ls: cannot access 'weather.csv': No such file or directory\n",
            "googletrend.csv\n",
            "sample_submission.csv\n",
            "state_names.csv\n",
            "store.csv\n",
            "store_states.csv\n",
            "test.csv\n",
            "train.csv\n",
            "weather.csv\n"
          ],
          "name": "stdout"
        }
      ]
    },
    {
      "metadata": {
        "id": "uCydJUhzVqoQ",
        "colab_type": "code",
        "colab": {}
      },
      "cell_type": "code",
      "source": [
        "df_trends_file = pd.read_csv('googletrend.csv')\n",
        "df_state_names = pd.read_csv('state_names.csv')\n",
        "df_store = pd.read_csv('store.csv')\n",
        "df_store_states = pd.read_csv('store_states.csv')\n",
        "df_weather = pd.read_csv('weather.csv')\n",
        "df_train = pd.read_csv('train.csv', low_memory=False)\n",
        "df_test = pd.read_csv('test.csv')"
      ],
      "execution_count": 0,
      "outputs": []
    },
    {
      "metadata": {
        "id": "FPP8TNnLYpsz",
        "colab_type": "code",
        "colab": {}
      },
      "cell_type": "code",
      "source": [
        "# TODO: features\n",
        "# Elapsed/to since promo, promo2\n",
        "# Elapsed since competition open\n",
        "# TODO: can I be predicting Customers in train and doing nothing about it in test? (colab learner only has 1 y_range)"
      ],
      "execution_count": 0,
      "outputs": []
    },
    {
      "metadata": {
        "id": "bn9nT051DL7b",
        "colab_type": "code",
        "colab": {
          "base_uri": "https://localhost:8080/",
          "height": 204
        },
        "outputId": "daff5e45-9551-498a-ddef-23d65e241794"
      },
      "cell_type": "code",
      "source": [
        "df_train.head()"
      ],
      "execution_count": 8,
      "outputs": [
        {
          "output_type": "execute_result",
          "data": {
            "text/html": [
              "<div>\n",
              "<style scoped>\n",
              "    .dataframe tbody tr th:only-of-type {\n",
              "        vertical-align: middle;\n",
              "    }\n",
              "\n",
              "    .dataframe tbody tr th {\n",
              "        vertical-align: top;\n",
              "    }\n",
              "\n",
              "    .dataframe thead th {\n",
              "        text-align: right;\n",
              "    }\n",
              "</style>\n",
              "<table border=\"1\" class=\"dataframe\">\n",
              "  <thead>\n",
              "    <tr style=\"text-align: right;\">\n",
              "      <th></th>\n",
              "      <th>Store</th>\n",
              "      <th>DayOfWeek</th>\n",
              "      <th>Date</th>\n",
              "      <th>Sales</th>\n",
              "      <th>Customers</th>\n",
              "      <th>Open</th>\n",
              "      <th>Promo</th>\n",
              "      <th>StateHoliday</th>\n",
              "      <th>SchoolHoliday</th>\n",
              "    </tr>\n",
              "  </thead>\n",
              "  <tbody>\n",
              "    <tr>\n",
              "      <th>0</th>\n",
              "      <td>1</td>\n",
              "      <td>5</td>\n",
              "      <td>2015-07-31</td>\n",
              "      <td>5263</td>\n",
              "      <td>555</td>\n",
              "      <td>1</td>\n",
              "      <td>1</td>\n",
              "      <td>0</td>\n",
              "      <td>1</td>\n",
              "    </tr>\n",
              "    <tr>\n",
              "      <th>1</th>\n",
              "      <td>2</td>\n",
              "      <td>5</td>\n",
              "      <td>2015-07-31</td>\n",
              "      <td>6064</td>\n",
              "      <td>625</td>\n",
              "      <td>1</td>\n",
              "      <td>1</td>\n",
              "      <td>0</td>\n",
              "      <td>1</td>\n",
              "    </tr>\n",
              "    <tr>\n",
              "      <th>2</th>\n",
              "      <td>3</td>\n",
              "      <td>5</td>\n",
              "      <td>2015-07-31</td>\n",
              "      <td>8314</td>\n",
              "      <td>821</td>\n",
              "      <td>1</td>\n",
              "      <td>1</td>\n",
              "      <td>0</td>\n",
              "      <td>1</td>\n",
              "    </tr>\n",
              "    <tr>\n",
              "      <th>3</th>\n",
              "      <td>4</td>\n",
              "      <td>5</td>\n",
              "      <td>2015-07-31</td>\n",
              "      <td>13995</td>\n",
              "      <td>1498</td>\n",
              "      <td>1</td>\n",
              "      <td>1</td>\n",
              "      <td>0</td>\n",
              "      <td>1</td>\n",
              "    </tr>\n",
              "    <tr>\n",
              "      <th>4</th>\n",
              "      <td>5</td>\n",
              "      <td>5</td>\n",
              "      <td>2015-07-31</td>\n",
              "      <td>4822</td>\n",
              "      <td>559</td>\n",
              "      <td>1</td>\n",
              "      <td>1</td>\n",
              "      <td>0</td>\n",
              "      <td>1</td>\n",
              "    </tr>\n",
              "  </tbody>\n",
              "</table>\n",
              "</div>"
            ],
            "text/plain": [
              "   Store  DayOfWeek        Date  Sales  Customers  Open  Promo StateHoliday  \\\n",
              "0      1          5  2015-07-31   5263        555     1      1            0   \n",
              "1      2          5  2015-07-31   6064        625     1      1            0   \n",
              "2      3          5  2015-07-31   8314        821     1      1            0   \n",
              "3      4          5  2015-07-31  13995       1498     1      1            0   \n",
              "4      5          5  2015-07-31   4822        559     1      1            0   \n",
              "\n",
              "   SchoolHoliday  \n",
              "0              1  \n",
              "1              1  \n",
              "2              1  \n",
              "3              1  \n",
              "4              1  "
            ]
          },
          "metadata": {
            "tags": []
          },
          "execution_count": 8
        }
      ]
    },
    {
      "metadata": {
        "id": "ZEzFaZNVJW10",
        "colab_type": "code",
        "colab": {}
      },
      "cell_type": "code",
      "source": [
        "def prefixed(prefix, initial_list):\n",
        "  return list(map(lambda e: prefix + e, initial_list))\n",
        "\n",
        "def sufixed(sufix, initial_list):\n",
        "  return list(map(lambda e: e + sufix, initial_list))\n",
        "\n",
        "event_columns = ['Open', 'StateHoliday', 'SchoolHoliday', 'Promo']\n",
        "date_computed_category = [                 \n",
        "   'is_leap_year',\n",
        "   'is_month_end',\n",
        "   'is_month_start',\n",
        "   'is_quarter_end',\n",
        "   'is_quarter_start',\n",
        "   'is_year_end',\n",
        "   'is_year_start',\n",
        "   'weekofyear',\n",
        "   'month',\n",
        "   'quarter',\n",
        "   'dayofweek'\n",
        "]\n",
        "date_computed_continuous = [                 \n",
        "   'year', 'dayofyear', 'ms_since_epoch'\n",
        "]\n",
        "original_category = ['Store', 'StoreType', 'Open', 'Assortment',\n",
        "                    'StateHoliday', 'SchoolHoliday', 'Events', 'PromoInterval', 'Promo', 'Promo2', 'State',\n",
        "                    'DayOfWeek', 'CompetitionOpenSinceMonth', 'CloudCover']\n",
        "original_continuous = ['state_trend', 'country_trend', 'CompetitionDistance',\n",
        "                      'Promo2SinceYear', 'Promo2SinceWeek','CompetitionOpenSinceYear',\n",
        "                     'Min_TemperatureC',  'Min_Sea_Level_PressurehPa',  'Min_VisibilitykM',  'Min_Humidity', 'Min_DewpointC', \n",
        "                     'Mean_TemperatureC', 'Mean_Sea_Level_PressurehPa', 'Mean_VisibilityKm', 'Mean_Humidity','Mean_Wind_SpeedKm_h','MeanDew_PointC',\n",
        "                     'Max_TemperatureC',  'Max_Sea_Level_PressurehPa',  'Max_VisibilityKm',  'Max_Humidity', 'Max_Wind_SpeedKm_h', 'Dew_PointC',\n",
        "                     'Precipitationmm', 'WindDirDegrees', 'Max_Gust_SpeedKm_h', ]\n",
        "category_columns = (original_category\n",
        "                    + prefixed('Date__', date_computed_category)\n",
        "                   )\n",
        "continuous_columns = (original_continuous\n",
        "                    + prefixed('Date__', date_computed_continuous)\n",
        "                    + sufixed('__DaysSince', event_columns)\n",
        "                    + sufixed('__DaysTo', event_columns)\n",
        "                     )\n",
        "target_columns = ['log_sales']\n",
        "\n",
        "used_columns = list(category_columns + target_columns + continuous_columns)\n",
        "ignored_columns = list(set(df_train.columns) - set(used_columns))\n",
        "\n",
        "def update_column_types(df):\n",
        "  for col in category_columns:\n",
        "    if col in df.columns:\n",
        "      df[col] = df[col].astype('category')\n",
        "\n",
        "  for col in continuous_columns + target_columns:\n",
        "    if col in df.columns:\n",
        "      df[col] = df[col].astype('float32')"
      ],
      "execution_count": 0,
      "outputs": []
    },
    {
      "metadata": {
        "id": "_bOAyRQcD0OW",
        "colab_type": "code",
        "colab": {}
      },
      "cell_type": "code",
      "source": [
        "def add_elapsed_for_event(df, field, prefix, grouping_field='Store', sort_field='Date'):\n",
        "  day = np.timedelta64(1, 'D')\n",
        "  current_store = None\n",
        "  now = np.datetime64()\n",
        "  last_date = now\n",
        "  res = []\n",
        "  for (store, value, date) in zip(df[grouping_field].values, df[field].values, df[sort_field].values):\n",
        "    if (store != current_store):\n",
        "      current_store = store\n",
        "      last_date = now\n",
        "\n",
        "    if (value):\n",
        "      last_date = date\n",
        "    \n",
        "    res.append(((date - last_date)).astype('timedelta64[D]')/day)\n",
        "    \n",
        "  df[field + prefix] = res\n",
        "\n",
        "def add_elapsed_event_features(df):\n",
        "  df.sort_values(['Store', 'Date'], ascending=[True, False], inplace=True)\n",
        "  for column in event_columns:\n",
        "    add_elapsed_for_event(df, column, '__DaysTo')\n",
        "\n",
        "  df.sort_values(['Store', 'Date'], ascending=[True, True], inplace=True)\n",
        "  for column in event_columns:\n",
        "    add_elapsed_for_event(df, column, '__DaysSince')"
      ],
      "execution_count": 0,
      "outputs": []
    },
    {
      "metadata": {
        "id": "vPo-2n8zTkdC",
        "colab_type": "code",
        "colab": {}
      },
      "cell_type": "code",
      "source": [
        "def generate_date_idx(df, date_column, suffix=''):\n",
        "  dates = pd.to_datetime(df[date_column])\n",
        "  df[suffix + 'week_number'] = dates.dt.weekofyear\n",
        "  df[suffix + 'year'] = dates.dt.year\n",
        "  df[date_column] = dates\n",
        "\n",
        "def add_date_parts(df, column_name, prefix=None):\n",
        "  df[column_name] = pd.to_datetime(df[column_name], unit='D')\n",
        "  if prefix == None:\n",
        "    prefix = column_name + '__';\n",
        "\n",
        "  date_attributes = date_computed_continuous + date_computed_category\n",
        "\n",
        "  for attribute in date_attributes:\n",
        "    if (attribute == 'ms_since_epoch'):\n",
        "      df[prefix + attribute] = df[column_name].astype('int64')      \n",
        "      continue\n",
        "\n",
        "    df[prefix + attribute] = getattr(df[column_name].dt, attribute)\n",
        "\n",
        "  for attribute in date_computed_category:\n",
        "    df[prefix + attribute] = df[prefix + attribute].astype('category')\n",
        "    \n",
        "  # TODO: put types in here & add to the list of features for the learner\n",
        "\n",
        "import pdb\n",
        "def _merge_no_dups(left, right, **kwargs):\n",
        "  tmp = left.merge(right, **kwargs)\n",
        "  dup_cols = list(filter(lambda col: ('_x' in col) or ('_y' in col), tmp.columns))\n",
        "  assert len(dup_cols) == 0, str(dup_cols)\n",
        "  return tmp\n",
        "\n",
        "def _prepare_trends(df_trends_file):\n",
        "  week_start = df_trends_file['week'].str.split(' ', expand=True)[0]\n",
        "  week_start = pd.to_datetime(week_start)\n",
        "  df_trends_file['week_start_date'] = week_start\n",
        "\n",
        "  trends_states = df_trends_file['file'].apply(lambda s: s.split('_')[2] if s.count('_') == 2 else None)\n",
        "  df_trends_file['State'] = trends_states\n",
        "\n",
        "  df_trends_country = df_trends_file[trends_states.isna()]\n",
        "  df_trends_country['country_trend'] = df_trends_country['trend']\n",
        "  df_trends_country = df_trends_country.drop(['file', 'week', 'trend', 'State'], axis=1)\n",
        "\n",
        "  df_trends = df_trends_file.loc[~trends_states.isna()]\n",
        "  df_trends['state_trend'] = df_trends['trend']\n",
        "  df_trends = df_trends.drop(['file', 'week', 'trend'], axis=1)\n",
        "  df_trends.loc[df_trends['State'] == 'NI', 'State'] = 'HB,NI'\n",
        "\n",
        "  Trends = namedtuple('Trends', ['country', 'by_state'])\n",
        "  return Trends(country=df_trends_country, by_state=df_trends)\n",
        "  \n",
        "def _join_data(inputs):\n",
        "  tmp = inputs.copy()\n",
        "  trends = _prepare_trends(df_trends_file)\n",
        "\n",
        "  # prepare date for joins\n",
        "  generate_date_idx(tmp, 'Date')  \n",
        "  generate_date_idx(trends.by_state, 'week_start_date')\n",
        "\n",
        "  tmp = _merge_no_dups(tmp, df_store, on='Store', how='left')\n",
        "\n",
        "  tmp = _merge_no_dups(tmp, trends.by_state, on=['State', 'year', 'week_number'], how='left', validate='many_to_one')\n",
        "  tmp = _merge_no_dups(tmp, trends.country,  on=['week_start_date'], how='left', validate='many_to_one')\n",
        "  tmp = _merge_no_dups(tmp, df_weather, on=['State', 'Date'], validate='many_to_many')\n",
        "\n",
        "  return tmp\n",
        "\n",
        "def _fill_na(inputs):\n",
        "  tmp = inputs\n",
        "  nas_by_column = tmp.isnull().sum()\n",
        "  pct_nas_by_column = 100.0 * nas_by_column / len(inputs)\n",
        "  for col in tmp.columns:\n",
        "    if (nas_by_column[col] == 0):\n",
        "      continue\n",
        "\n",
        "    tmp[col].fillna(0, inplace = True)\n",
        "    print(f'Imputed {pct_nas_by_column[col]}% from NAs in {col}')\n",
        "\n",
        "  nas_by_column = tmp.isnull().sum()\n",
        "  nas_by_column = nas_by_column[nas_by_column != 0]\n",
        "  assert not nas_by_column.any(), \"NA's found:\\n \" + str(nas_by_column)\n",
        "  return inputs\n",
        "\n",
        "def _log_sales(inputs):\n",
        "  if not 'Sales' in inputs.columns:\n",
        "    return inputs\n",
        "\n",
        "  inputs['log_sales'] = np.log(1 + inputs['Sales'])\n",
        "  inputs.drop('Sales', axis=1, inplace=True)\n",
        "  return inputs\n",
        "\n",
        "def prepare(inputs):\n",
        "  inputs = _join_data(inputs)\n",
        "  inputs = _fill_na(inputs)\n",
        "  inputs = _log_sales(inputs)\n",
        "  add_date_parts(inputs, 'Date')\n",
        "  # TODO: this better to be done on train+test at once in the beginning to possibly cover more dates on the edge\n",
        "  add_elapsed_event_features(inputs)\n",
        "  update_column_types(inputs)\n",
        "  inputs = _fill_na(inputs)\n",
        "  return inputs"
      ],
      "execution_count": 0,
      "outputs": []
    },
    {
      "metadata": {
        "id": "oUbMajN1av_p",
        "colab_type": "code",
        "outputId": "b9df3661-f2c4-4a7a-e199-dbc1820d3495",
        "colab": {
          "base_uri": "https://localhost:8080/",
          "height": 765
        }
      },
      "cell_type": "code",
      "source": [
        "if not 'State' in df_weather.columns:\n",
        "  merged = df_weather.merge(df_state_names, left_on='file', right_on='StateName', how='left')\n",
        "  merged = merged.drop('StateName', axis=1)\n",
        "  assert 0 == sum(merged['State'].isnull())\n",
        "  merged = merged.drop('file', axis=1)\n",
        "  df_weather = merged\n",
        "\n",
        "df_weather['Date'] = pd.to_datetime(df_weather['Date'])\n",
        "\n",
        "if not 'State' in df_store.columns:\n",
        "  merged = df_store.merge(df_store_states, on='Store', how='left')\n",
        "  assert 0 == sum(merged['State'].isnull())\n",
        "  df_store = merged\n",
        "\n",
        "train_features = prepare(df_train)\n",
        "print('---')\n",
        "test_features = prepare(df_test)"
      ],
      "execution_count": 12,
      "outputs": [
        {
          "output_type": "stream",
          "text": [
            "/usr/local/lib/python3.6/dist-packages/ipykernel_launcher.py:42: SettingWithCopyWarning: \n",
            "A value is trying to be set on a copy of a slice from a DataFrame.\n",
            "Try using .loc[row_indexer,col_indexer] = value instead\n",
            "\n",
            "See the caveats in the documentation: http://pandas.pydata.org/pandas-docs/stable/indexing.html#indexing-view-versus-copy\n",
            "/usr/local/lib/python3.6/dist-packages/ipykernel_launcher.py:46: SettingWithCopyWarning: \n",
            "A value is trying to be set on a copy of a slice from a DataFrame.\n",
            "Try using .loc[row_indexer,col_indexer] = value instead\n",
            "\n",
            "See the caveats in the documentation: http://pandas.pydata.org/pandas-docs/stable/indexing.html#indexing-view-versus-copy\n"
          ],
          "name": "stderr"
        },
        {
          "output_type": "stream",
          "text": [
            "Imputed 0.25973030124586% from NAs in CompetitionDistance\n",
            "Imputed 31.787764363075826% from NAs in CompetitionOpenSinceMonth\n",
            "Imputed 31.787764363075826% from NAs in CompetitionOpenSinceYear\n",
            "Imputed 49.94362023930186% from NAs in Promo2SinceWeek\n",
            "Imputed 49.94362023930186% from NAs in Promo2SinceYear\n",
            "Imputed 49.94362023930186% from NAs in PromoInterval\n",
            "Imputed 2.422805932704095% from NAs in Max_VisibilityKm\n",
            "Imputed 2.422805932704095% from NAs in Mean_VisibilityKm\n",
            "Imputed 2.422805932704095% from NAs in Min_VisibilitykM\n",
            "Imputed 76.78284403696782% from NAs in Max_Gust_SpeedKm_h\n",
            "Imputed 7.896017435944826% from NAs in CloudCover\n",
            "Imputed 23.81496821203902% from NAs in Events\n",
            "Imputed 0.003637403916009394% from NAs in Open__DaysTo\n",
            "Imputed 0.9909467965776945% from NAs in SchoolHoliday__DaysTo\n",
            "Imputed 0.15532697803499576% from NAs in Open__DaysSince\n",
            "Imputed 0.6575836430861308% from NAs in Promo__DaysSince\n",
            "---\n",
            "Imputed 0.026771806853582554% from NAs in Open\n",
            "Imputed 0.2336448598130841% from NAs in CompetitionDistance\n",
            "Imputed 37.032710280373834% from NAs in CompetitionOpenSinceMonth\n",
            "Imputed 37.032710280373834% from NAs in CompetitionOpenSinceYear\n",
            "Imputed 41.9392523364486% from NAs in Promo2SinceWeek\n",
            "Imputed 41.9392523364486% from NAs in Promo2SinceYear\n",
            "Imputed 41.9392523364486% from NAs in PromoInterval\n",
            "Imputed 5.069606697819315% from NAs in Max_VisibilityKm\n",
            "Imputed 5.069606697819315% from NAs in Mean_VisibilityKm\n",
            "Imputed 5.069606697819315% from NAs in Min_VisibilitykM\n",
            "Imputed 76.194996105919% from NAs in Max_Gust_SpeedKm_h\n",
            "Imputed 14.47381230529595% from NAs in CloudCover\n",
            "Imputed 24.715245327102803% from NAs in Events\n",
            "Imputed 0.06814641744548286% from NAs in Open__DaysTo\n",
            "Imputed 40.84404205607477% from NAs in SchoolHoliday__DaysTo\n",
            "Imputed 3.5144080996884735% from NAs in SchoolHoliday__DaysSince\n",
            "Imputed 4.166666666666667% from NAs in Promo__DaysSince\n"
          ],
          "name": "stdout"
        }
      ]
    },
    {
      "metadata": {
        "id": "rsQBqHC8jJr5",
        "colab_type": "code",
        "colab": {}
      },
      "cell_type": "code",
      "source": [
        "from fastai.tabular import *"
      ],
      "execution_count": 0,
      "outputs": []
    },
    {
      "metadata": {
        "id": "M_sO3WY0tFCH",
        "colab_type": "code",
        "colab": {
          "base_uri": "https://localhost:8080/",
          "height": 1071
        },
        "outputId": "d2d03300-1b35-457a-c53f-1c5e0ad9aa06"
      },
      "cell_type": "code",
      "source": [
        "category_columns, continuous_columns"
      ],
      "execution_count": 14,
      "outputs": [
        {
          "output_type": "execute_result",
          "data": {
            "text/plain": [
              "(['Store',\n",
              "  'StoreType',\n",
              "  'Open',\n",
              "  'Assortment',\n",
              "  'StateHoliday',\n",
              "  'SchoolHoliday',\n",
              "  'Events',\n",
              "  'PromoInterval',\n",
              "  'Promo',\n",
              "  'Promo2',\n",
              "  'State',\n",
              "  'DayOfWeek',\n",
              "  'CompetitionOpenSinceMonth',\n",
              "  'CloudCover',\n",
              "  'Date__is_leap_year',\n",
              "  'Date__is_month_end',\n",
              "  'Date__is_month_start',\n",
              "  'Date__is_quarter_end',\n",
              "  'Date__is_quarter_start',\n",
              "  'Date__is_year_end',\n",
              "  'Date__is_year_start',\n",
              "  'Date__weekofyear',\n",
              "  'Date__month',\n",
              "  'Date__quarter',\n",
              "  'Date__dayofweek'],\n",
              " ['state_trend',\n",
              "  'country_trend',\n",
              "  'CompetitionDistance',\n",
              "  'Promo2SinceYear',\n",
              "  'Promo2SinceWeek',\n",
              "  'CompetitionOpenSinceYear',\n",
              "  'Min_TemperatureC',\n",
              "  'Min_Sea_Level_PressurehPa',\n",
              "  'Min_VisibilitykM',\n",
              "  'Min_Humidity',\n",
              "  'Min_DewpointC',\n",
              "  'Mean_TemperatureC',\n",
              "  'Mean_Sea_Level_PressurehPa',\n",
              "  'Mean_VisibilityKm',\n",
              "  'Mean_Humidity',\n",
              "  'Mean_Wind_SpeedKm_h',\n",
              "  'MeanDew_PointC',\n",
              "  'Max_TemperatureC',\n",
              "  'Max_Sea_Level_PressurehPa',\n",
              "  'Max_VisibilityKm',\n",
              "  'Max_Humidity',\n",
              "  'Max_Wind_SpeedKm_h',\n",
              "  'Dew_PointC',\n",
              "  'Precipitationmm',\n",
              "  'WindDirDegrees',\n",
              "  'Max_Gust_SpeedKm_h',\n",
              "  'Date__year',\n",
              "  'Date__dayofyear',\n",
              "  'Date__ms_since_epoch',\n",
              "  'Open__DaysSince',\n",
              "  'StateHoliday__DaysSince',\n",
              "  'SchoolHoliday__DaysSince',\n",
              "  'Promo__DaysSince',\n",
              "  'Open__DaysTo',\n",
              "  'StateHoliday__DaysTo',\n",
              "  'SchoolHoliday__DaysTo',\n",
              "  'Promo__DaysTo'])"
            ]
          },
          "metadata": {
            "tags": []
          },
          "execution_count": 14
        }
      ]
    },
    {
      "metadata": {
        "id": "MO96b5yEBHAv",
        "colab_type": "code",
        "colab": {}
      },
      "cell_type": "code",
      "source": [
        "def create_databunch(sample=False, verbose=False):\n",
        "  def llog(a): (display(a()) if verbose else None)\n",
        "\n",
        "  if (sample):\n",
        "    sample = train_features[train_features['Date'] < pd.Timestamp('2013-03')]\n",
        "    llog(lambda: (len(sample), len(train_features)))\n",
        "\n",
        "    sample_valid_flag = sample['Date'] > pd.Timestamp('2013-02-20')\n",
        "    sample_valid_idx = np.where(sample_valid_flag)\n",
        "    llog(lambda: sum(sample_valid_flag))\n",
        "  else:\n",
        "    valid_flag = train_features['Date'] > pd.Timestamp('2015-07-10')\n",
        "    len(train_features)/valid_flag.sum()\n",
        "    valid_idx = np.where(valid_flag)\n",
        "\n",
        "    sample = train_features\n",
        "    sample_valid_idx = valid_idx\n",
        "    \n",
        "\n",
        "  item_list = TabularList.from_df(sample, cat_names=category_columns, cont_names=continuous_columns)\n",
        "  llog(lambda: type(item_list))\n",
        "\n",
        "  split_list = item_list.split_by_idx(sample_valid_idx)\n",
        "  llog(lambda: type(split_list))\n",
        "\n",
        "  label_list = split_list.label_from_df(cols=target_columns)\n",
        "  llog(lambda: type(label_list))\n",
        "\n",
        "  # Note to self: a lot of people (incl me) pass ordinary dataframe here and struggle. Can be improved\n",
        "  label_list = label_list.add_test(TabularList.from_df(test_features, cat_names=category_columns, cont_names=continuous_columns))\n",
        "  llog(lambda: type(label_list))\n",
        "\n",
        "  data = label_list.databunch(bs=64)\n",
        "  def d(): x,y = next(iter(data.train_dl)); return len(x), x[0].shape, x[1].shape, y.shape\n",
        "  llog(d)\n",
        "\n",
        "  return data\n",
        "\n",
        "data = create_databunch(sample=False)"
      ],
      "execution_count": 0,
      "outputs": []
    },
    {
      "metadata": {
        "id": "xyBIt3HayBiK",
        "colab_type": "code",
        "outputId": "c4886356-bd2e-4762-dc0a-e497c13df982",
        "colab": {
          "base_uri": "https://localhost:8080/",
          "height": 34
        }
      },
      "cell_type": "code",
      "source": [
        "train_log_sales_min = train_features['log_sales'].min()\n",
        "train_log_sales_max = train_features['log_sales'].max()\n",
        "expected_log_sales_min = train_log_sales_min\n",
        "expected_log_sales_max = train_log_sales_max + np.log(1.2) \n",
        "(expected_log_sales_min, expected_log_sales_max)"
      ],
      "execution_count": 17,
      "outputs": [
        {
          "output_type": "execute_result",
          "data": {
            "text/plain": [
              "(0.0, 10.81702233194044)"
            ]
          },
          "metadata": {
            "tags": []
          },
          "execution_count": 17
        }
      ]
    },
    {
      "metadata": {
        "id": "HGxTpzkiBJf8",
        "colab_type": "code",
        "colab": {}
      },
      "cell_type": "code",
      "source": [
        "learner = tabular_learner(data, layers=[1000, 100], y_range=[expected_log_sales_min, expected_log_sales_max], metrics=[exp_rmspe])"
      ],
      "execution_count": 0,
      "outputs": []
    },
    {
      "metadata": {
        "id": "qGaVfU93wN0g",
        "colab_type": "code",
        "outputId": "b70fda74-eb52-4397-bdd7-3f4204b45fd9",
        "colab": {
          "base_uri": "https://localhost:8080/",
          "height": 34
        }
      },
      "cell_type": "code",
      "source": [
        "learner.lr_find(1e-12, 100)"
      ],
      "execution_count": 19,
      "outputs": [
        {
          "output_type": "display_data",
          "data": {
            "text/html": [
              ""
            ],
            "text/plain": [
              "<IPython.core.display.HTML object>"
            ]
          },
          "metadata": {
            "tags": []
          }
        },
        {
          "output_type": "stream",
          "text": [
            "LR Finder is complete, type {learner_name}.recorder.plot() to see the graph.\n"
          ],
          "name": "stdout"
        }
      ]
    },
    {
      "metadata": {
        "id": "Wmhbnq97wPWX",
        "colab_type": "code",
        "outputId": "c5d55d81-e286-4e75-e18b-2b0419a3d88f",
        "colab": {
          "base_uri": "https://localhost:8080/",
          "height": 361
        }
      },
      "cell_type": "code",
      "source": [
        "learner.recorder.plot(skip_end=0, skip_start=0)"
      ],
      "execution_count": 20,
      "outputs": [
        {
          "output_type": "display_data",
          "data": {
            "image/png": "[encoded data removed]",
            "text/plain": [
              "<Figure size 576x396 with 1 Axes>"
            ]
          },
          "metadata": {
            "tags": []
          }
        }
      ]
    },
    {
      "metadata": {
        "id": "zz3ZPUeBygFi",
        "colab_type": "code",
        "outputId": "a3ee8254-fa02-4d25-c331-23c663ac97be",
        "colab": {
          "base_uri": "https://localhost:8080/",
          "height": 216
        }
      },
      "cell_type": "code",
      "source": [
        "from fastai.callbacks import SaveModelCallback\n",
        "savemodel = SaveModelCallback(learner, name='p1')\n",
        "learner.fit_one_cycle(3, max_lr=1e-1, callbacks=[savemodel])"
      ],
      "execution_count": 21,
      "outputs": [
        {
          "output_type": "display_data",
          "data": {
            "text/html": [
              "Total time: 13:54 <p><table border=\"1\" class=\"dataframe\">\n",
              "  <thead>\n",
              "    <tr style=\"text-align: left;\">\n",
              "      <th>epoch</th>\n",
              "      <th>train_loss</th>\n",
              "      <th>valid_loss</th>\n",
              "      <th>exp_rmspe</th>\n",
              "      <th>time</th>\n",
              "    </tr>\n",
              "  </thead>\n",
              "  <tbody>\n",
              "    <tr>\n",
              "      <td>0</td>\n",
              "      <td>3.777880</td>\n",
              "      <td>3.830743</td>\n",
              "      <td>195.221268</td>\n",
              "      <td>04:37</td>\n",
              "    </tr>\n",
              "    <tr>\n",
              "      <td>1</td>\n",
              "      <td>3.654189</td>\n",
              "      <td>3.793288</td>\n",
              "      <td>197.506348</td>\n",
              "      <td>04:37</td>\n",
              "    </tr>\n",
              "    <tr>\n",
              "      <td>2</td>\n",
              "      <td>0.025833</td>\n",
              "      <td>0.089776</td>\n",
              "      <td>120.639763</td>\n",
              "      <td>04:39</td>\n",
              "    </tr>\n",
              "  </tbody>\n",
              "</table>"
            ],
            "text/plain": [
              "<IPython.core.display.HTML object>"
            ]
          },
          "metadata": {
            "tags": []
          }
        },
        {
          "output_type": "stream",
          "text": [
            "Better model found at epoch 0 with val_loss value: 3.830742597579956.\n",
            "Better model found at epoch 1 with val_loss value: 3.793287515640259.\n",
            "Better model found at epoch 2 with val_loss value: 0.08977589011192322.\n"
          ],
          "name": "stdout"
        }
      ]
    },
    {
      "metadata": {
        "id": "ot9sBDqVBLZQ",
        "colab_type": "code",
        "colab": {
          "base_uri": "https://localhost:8080/",
          "height": 34
        },
        "outputId": "cec2606e-ac29-4bc2-a221-bbc956b9bd02"
      },
      "cell_type": "code",
      "source": [
        "learner.lr_find()"
      ],
      "execution_count": 22,
      "outputs": [
        {
          "output_type": "display_data",
          "data": {
            "text/html": [
              ""
            ],
            "text/plain": [
              "<IPython.core.display.HTML object>"
            ]
          },
          "metadata": {
            "tags": []
          }
        },
        {
          "output_type": "stream",
          "text": [
            "LR Finder is complete, type {learner_name}.recorder.plot() to see the graph.\n"
          ],
          "name": "stdout"
        }
      ]
    },
    {
      "metadata": {
        "id": "OouxYdAoBMqm",
        "colab_type": "code",
        "colab": {
          "base_uri": "https://localhost:8080/",
          "height": 361
        },
        "outputId": "8d5ce46d-21e1-4f3a-eddc-e7b0a70445b4"
      },
      "cell_type": "code",
      "source": [
        "learner.recorder.plot()"
      ],
      "execution_count": 23,
      "outputs": [
        {
          "output_type": "display_data",
          "data": {
            "image/png": "[encoded data removed]",
            "text/plain": [
              "<Figure size 576x396 with 1 Axes>"
            ]
          },
          "metadata": {
            "tags": []
          }
        }
      ]
    },
    {
      "metadata": {
        "id": "QiKicWwGFhJf",
        "colab_type": "code",
        "outputId": "232fa97b-1f39-439e-9900-e5cf22c5be43",
        "colab": {
          "base_uri": "https://localhost:8080/",
          "height": 244
        }
      },
      "cell_type": "code",
      "source": [
        "savemodel = SaveModelCallback(learner, name='p2')\n",
        "learner.load('p1');\n",
        "learner.fit_one_cycle(5, max_lr=1e-6, callbacks=[savemodel])"
      ],
      "execution_count": 24,
      "outputs": [
        {
          "output_type": "display_data",
          "data": {
            "text/html": [
              "Total time: 23:57 <p><table border=\"1\" class=\"dataframe\">\n",
              "  <thead>\n",
              "    <tr style=\"text-align: left;\">\n",
              "      <th>epoch</th>\n",
              "      <th>train_loss</th>\n",
              "      <th>valid_loss</th>\n",
              "      <th>exp_rmspe</th>\n",
              "      <th>time</th>\n",
              "    </tr>\n",
              "  </thead>\n",
              "  <tbody>\n",
              "    <tr>\n",
              "      <td>0</td>\n",
              "      <td>0.030161</td>\n",
              "      <td>0.015718</td>\n",
              "      <td>0.128440</td>\n",
              "      <td>04:46</td>\n",
              "    </tr>\n",
              "    <tr>\n",
              "      <td>1</td>\n",
              "      <td>0.032155</td>\n",
              "      <td>0.020263</td>\n",
              "      <td>0.813921</td>\n",
              "      <td>04:47</td>\n",
              "    </tr>\n",
              "    <tr>\n",
              "      <td>2</td>\n",
              "      <td>0.031496</td>\n",
              "      <td>0.021677</td>\n",
              "      <td>17.155302</td>\n",
              "      <td>04:52</td>\n",
              "    </tr>\n",
              "    <tr>\n",
              "      <td>3</td>\n",
              "      <td>0.043879</td>\n",
              "      <td>0.022691</td>\n",
              "      <td>17.160471</td>\n",
              "      <td>04:45</td>\n",
              "    </tr>\n",
              "    <tr>\n",
              "      <td>4</td>\n",
              "      <td>0.026226</td>\n",
              "      <td>0.055405</td>\n",
              "      <td>67.296906</td>\n",
              "      <td>04:46</td>\n",
              "    </tr>\n",
              "  </tbody>\n",
              "</table>"
            ],
            "text/plain": [
              "<IPython.core.display.HTML object>"
            ]
          },
          "metadata": {
            "tags": []
          }
        },
        {
          "output_type": "stream",
          "text": [
            "Better model found at epoch 0 with val_loss value: 0.015717562288045883.\n"
          ],
          "name": "stdout"
        }
      ]
    },
    {
      "metadata": {
        "id": "CPI-tJGeFwxi",
        "colab_type": "code",
        "outputId": "1421491e-aefb-4a9d-f50a-ea0599e14cc7",
        "colab": {
          "base_uri": "https://localhost:8080/",
          "height": 34
        }
      },
      "cell_type": "code",
      "source": [
        "learner.load('p2');\n",
        "learner.validate()"
      ],
      "execution_count": 0,
      "outputs": [
        {
          "output_type": "execute_result",
          "data": {
            "text/plain": [
              "[0.015717562, tensor(0.1284)]"
            ]
          },
          "metadata": {
            "tags": []
          },
          "execution_count": 25
        }
      ]
    },
    {
      "metadata": {
        "id": "nwHyMxcu2j_h",
        "colab_type": "code",
        "colab": {}
      },
      "cell_type": "code",
      "source": [
        "learner.data = create_databunch(sample=False)"
      ],
      "execution_count": 0,
      "outputs": []
    },
    {
      "metadata": {
        "id": "yyDB4NdJ2mpX",
        "colab_type": "code",
        "outputId": "fdd9ac7c-91fb-4583-a3cc-4925b69a5d4f",
        "colab": {
          "base_uri": "https://localhost:8080/",
          "height": 34
        }
      },
      "cell_type": "code",
      "source": [
        "learner.lr_find(1e-12, 100)"
      ],
      "execution_count": 27,
      "outputs": [
        {
          "output_type": "display_data",
          "data": {
            "text/html": [
              ""
            ],
            "text/plain": [
              "<IPython.core.display.HTML object>"
            ]
          },
          "metadata": {
            "tags": []
          }
        },
        {
          "output_type": "stream",
          "text": [
            "LR Finder is complete, type {learner_name}.recorder.plot() to see the graph.\n"
          ],
          "name": "stdout"
        }
      ]
    },
    {
      "metadata": {
        "id": "plj65Xo12n5D",
        "colab_type": "code",
        "outputId": "bba378be-5123-4eaa-fdb8-a856994ef387",
        "colab": {
          "base_uri": "https://localhost:8080/",
          "height": 361
        }
      },
      "cell_type": "code",
      "source": [
        "learner.recorder.plot(skip_start=0)"
      ],
      "execution_count": 28,
      "outputs": [
        {
          "output_type": "display_data",
          "data": {
            "image/png": "[encoded data removed]",
            "text/plain": [
              "<Figure size 576x396 with 1 Axes>"
            ]
          },
          "metadata": {
            "tags": []
          }
        }
      ]
    },
    {
      "metadata": {
        "id": "smsjL9IA2qKH",
        "colab_type": "code",
        "outputId": "12502b53-25c7-44ba-b0d5-9a1f5ad73105",
        "colab": {
          "base_uri": "https://localhost:8080/",
          "height": 244
        }
      },
      "cell_type": "code",
      "source": [
        "learner.load('p2');\n",
        "savemodel = SaveModelCallback(learner, name='p3')\n",
        "learner.fit_one_cycle(5, max_lr=5e-11, callbacks=[savemodel])"
      ],
      "execution_count": 29,
      "outputs": [
        {
          "output_type": "display_data",
          "data": {
            "text/html": [
              "Total time: 23:43 <p><table border=\"1\" class=\"dataframe\">\n",
              "  <thead>\n",
              "    <tr style=\"text-align: left;\">\n",
              "      <th>epoch</th>\n",
              "      <th>train_loss</th>\n",
              "      <th>valid_loss</th>\n",
              "      <th>exp_rmspe</th>\n",
              "      <th>time</th>\n",
              "    </tr>\n",
              "  </thead>\n",
              "  <tbody>\n",
              "    <tr>\n",
              "      <td>0</td>\n",
              "      <td>0.042462</td>\n",
              "      <td>0.015510</td>\n",
              "      <td>0.128458</td>\n",
              "      <td>04:45</td>\n",
              "    </tr>\n",
              "    <tr>\n",
              "      <td>1</td>\n",
              "      <td>0.027231</td>\n",
              "      <td>0.050539</td>\n",
              "      <td>0.123184</td>\n",
              "      <td>04:44</td>\n",
              "    </tr>\n",
              "    <tr>\n",
              "      <td>2</td>\n",
              "      <td>0.046406</td>\n",
              "      <td>0.044319</td>\n",
              "      <td>58.284344</td>\n",
              "      <td>04:45</td>\n",
              "    </tr>\n",
              "    <tr>\n",
              "      <td>3</td>\n",
              "      <td>0.027281</td>\n",
              "      <td>0.035051</td>\n",
              "      <td>29.292261</td>\n",
              "      <td>04:43</td>\n",
              "    </tr>\n",
              "    <tr>\n",
              "      <td>4</td>\n",
              "      <td>0.038329</td>\n",
              "      <td>0.017424</td>\n",
              "      <td>0.140535</td>\n",
              "      <td>04:43</td>\n",
              "    </tr>\n",
              "  </tbody>\n",
              "</table>"
            ],
            "text/plain": [
              "<IPython.core.display.HTML object>"
            ]
          },
          "metadata": {
            "tags": []
          }
        },
        {
          "output_type": "stream",
          "text": [
            "Better model found at epoch 0 with val_loss value: 0.015509821474552155.\n"
          ],
          "name": "stdout"
        }
      ]
    },
    {
      "metadata": {
        "id": "_V-UvtkK628n",
        "colab_type": "code",
        "outputId": "4d31c91a-de45-4453-c9a8-e252f2b01ccc",
        "colab": {
          "base_uri": "https://localhost:8080/",
          "height": 34
        }
      },
      "cell_type": "code",
      "source": [
        "learner.load('p3')\n",
        "learner.validate()"
      ],
      "execution_count": 0,
      "outputs": [
        {
          "output_type": "execute_result",
          "data": {
            "text/plain": [
              "[0.0155098215, tensor(0.1285)]"
            ]
          },
          "metadata": {
            "tags": []
          },
          "execution_count": 30
        }
      ]
    },
    {
      "metadata": {
        "id": "6M2UchHp64vT",
        "colab_type": "code",
        "outputId": "8a7447e7-79c6-42af-a615-9ed1b77dec4e",
        "colab": {
          "base_uri": "https://localhost:8080/",
          "height": 378
        }
      },
      "cell_type": "code",
      "source": [
        "learner.lr_find()\n",
        "learner.recorder.plot()"
      ],
      "execution_count": 31,
      "outputs": [
        {
          "output_type": "display_data",
          "data": {
            "text/html": [
              ""
            ],
            "text/plain": [
              "<IPython.core.display.HTML object>"
            ]
          },
          "metadata": {
            "tags": []
          }
        },
        {
          "output_type": "stream",
          "text": [
            "LR Finder is complete, type {learner_name}.recorder.plot() to see the graph.\n"
          ],
          "name": "stdout"
        },
        {
          "output_type": "display_data",
          "data": {
            "image/png": "[encoded data removed]",
            "text/plain": [
              "<Figure size 576x396 with 1 Axes>"
            ]
          },
          "metadata": {
            "tags": []
          }
        }
      ]
    },
    {
      "metadata": {
        "id": "HfiZWSLtA2r1",
        "colab_type": "code",
        "outputId": "31324cd4-cc7a-4380-cc92-8682ca4e7313",
        "colab": {
          "base_uri": "https://localhost:8080/",
          "height": 182
        }
      },
      "cell_type": "code",
      "source": [
        "learner.load('p3')\n",
        "savemodel = SaveModelCallback(learner, name='p4')\n",
        "learner.fit_one_cycle(3, max_lr=1e-6, callbacks=[savemodel])"
      ],
      "execution_count": 32,
      "outputs": [
        {
          "output_type": "display_data",
          "data": {
            "text/html": [
              "Total time: 14:20 <p><table border=\"1\" class=\"dataframe\">\n",
              "  <thead>\n",
              "    <tr style=\"text-align: left;\">\n",
              "      <th>epoch</th>\n",
              "      <th>train_loss</th>\n",
              "      <th>valid_loss</th>\n",
              "      <th>exp_rmspe</th>\n",
              "      <th>time</th>\n",
              "    </tr>\n",
              "  </thead>\n",
              "  <tbody>\n",
              "    <tr>\n",
              "      <td>0</td>\n",
              "      <td>0.024680</td>\n",
              "      <td>0.038803</td>\n",
              "      <td>29.664232</td>\n",
              "      <td>04:42</td>\n",
              "    </tr>\n",
              "    <tr>\n",
              "      <td>1</td>\n",
              "      <td>0.025531</td>\n",
              "      <td>0.085386</td>\n",
              "      <td>108.962158</td>\n",
              "      <td>04:42</td>\n",
              "    </tr>\n",
              "    <tr>\n",
              "      <td>2</td>\n",
              "      <td>0.036542</td>\n",
              "      <td>0.052505</td>\n",
              "      <td>61.630772</td>\n",
              "      <td>04:55</td>\n",
              "    </tr>\n",
              "  </tbody>\n",
              "</table>"
            ],
            "text/plain": [
              "<IPython.core.display.HTML object>"
            ]
          },
          "metadata": {
            "tags": []
          }
        },
        {
          "output_type": "stream",
          "text": [
            "Better model found at epoch 0 with val_loss value: 0.03880252316594124.\n"
          ],
          "name": "stdout"
        }
      ]
    },
    {
      "metadata": {
        "id": "4X2cMd0WnnUU",
        "colab_type": "code",
        "colab": {
          "base_uri": "https://localhost:8080/",
          "height": 261
        },
        "outputId": "ea3e90f4-4732-4db2-efa0-24921b4c905a"
      },
      "cell_type": "code",
      "source": [
        "learner.load('p4')\n",
        "savemodel = SaveModelCallback(learner, name='p5')\n",
        "learner.fit_one_cycle(5, max_lr=1e-6, callbacks=[savemodel])"
      ],
      "execution_count": 33,
      "outputs": [
        {
          "output_type": "display_data",
          "data": {
            "text/html": [
              "Total time: 24:19 <p><table border=\"1\" class=\"dataframe\">\n",
              "  <thead>\n",
              "    <tr style=\"text-align: left;\">\n",
              "      <th>epoch</th>\n",
              "      <th>train_loss</th>\n",
              "      <th>valid_loss</th>\n",
              "      <th>exp_rmspe</th>\n",
              "      <th>time</th>\n",
              "    </tr>\n",
              "  </thead>\n",
              "  <tbody>\n",
              "    <tr>\n",
              "      <td>0</td>\n",
              "      <td>0.028121</td>\n",
              "      <td>0.014841</td>\n",
              "      <td>0.124253</td>\n",
              "      <td>04:48</td>\n",
              "    </tr>\n",
              "    <tr>\n",
              "      <td>1</td>\n",
              "      <td>0.026873</td>\n",
              "      <td>0.014444</td>\n",
              "      <td>0.118326</td>\n",
              "      <td>04:48</td>\n",
              "    </tr>\n",
              "    <tr>\n",
              "      <td>2</td>\n",
              "      <td>0.040959</td>\n",
              "      <td>0.042713</td>\n",
              "      <td>18.685106</td>\n",
              "      <td>04:53</td>\n",
              "    </tr>\n",
              "    <tr>\n",
              "      <td>3</td>\n",
              "      <td>0.036316</td>\n",
              "      <td>0.015995</td>\n",
              "      <td>0.264925</td>\n",
              "      <td>04:56</td>\n",
              "    </tr>\n",
              "    <tr>\n",
              "      <td>4</td>\n",
              "      <td>0.038765</td>\n",
              "      <td>0.017084</td>\n",
              "      <td>0.139076</td>\n",
              "      <td>04:53</td>\n",
              "    </tr>\n",
              "  </tbody>\n",
              "</table>"
            ],
            "text/plain": [
              "<IPython.core.display.HTML object>"
            ]
          },
          "metadata": {
            "tags": []
          }
        },
        {
          "output_type": "stream",
          "text": [
            "Better model found at epoch 0 with val_loss value: 0.014840965159237385.\n",
            "Better model found at epoch 1 with val_loss value: 0.014443598687648773.\n"
          ],
          "name": "stdout"
        }
      ]
    },
    {
      "metadata": {
        "id": "FsZTahqbzBMW",
        "colab_type": "code",
        "colab": {
          "base_uri": "https://localhost:8080/",
          "height": 204
        },
        "outputId": "8c6a3a4d-db58-4721-a5df-76c9f1a4d5ca"
      },
      "cell_type": "code",
      "source": [
        "losses = []\n",
        "rmses = []\n",
        "model_names = ['p1', 'p2', 'p3', 'p4', 'p5']\n",
        "for model_name in model_names:\n",
        "  learner.load(model_name)\n",
        "  loss, rmse = learner.validate()\n",
        "  losses += [loss]\n",
        "  rmses += [rmse]\n",
        "  \n",
        "checkpoints = pd.DataFrame({'loss': losses, 'rmse': rmses, 'name': model_names}, columns = ['name', 'loss', 'rmse'])\n",
        "checkpoints"
      ],
      "execution_count": 34,
      "outputs": [
        {
          "output_type": "execute_result",
          "data": {
            "text/html": [
              "<div>\n",
              "<style scoped>\n",
              "    .dataframe tbody tr th:only-of-type {\n",
              "        vertical-align: middle;\n",
              "    }\n",
              "\n",
              "    .dataframe tbody tr th {\n",
              "        vertical-align: top;\n",
              "    }\n",
              "\n",
              "    .dataframe thead th {\n",
              "        text-align: right;\n",
              "    }\n",
              "</style>\n",
              "<table border=\"1\" class=\"dataframe\">\n",
              "  <thead>\n",
              "    <tr style=\"text-align: right;\">\n",
              "      <th></th>\n",
              "      <th>name</th>\n",
              "      <th>loss</th>\n",
              "      <th>rmse</th>\n",
              "    </tr>\n",
              "  </thead>\n",
              "  <tbody>\n",
              "    <tr>\n",
              "      <th>0</th>\n",
              "      <td>p1</td>\n",
              "      <td>0.089776</td>\n",
              "      <td>tensor(120.6398)</td>\n",
              "    </tr>\n",
              "    <tr>\n",
              "      <th>1</th>\n",
              "      <td>p2</td>\n",
              "      <td>0.015718</td>\n",
              "      <td>tensor(0.1284)</td>\n",
              "    </tr>\n",
              "    <tr>\n",
              "      <th>2</th>\n",
              "      <td>p3</td>\n",
              "      <td>0.015510</td>\n",
              "      <td>tensor(0.1285)</td>\n",
              "    </tr>\n",
              "    <tr>\n",
              "      <th>3</th>\n",
              "      <td>p4</td>\n",
              "      <td>0.038803</td>\n",
              "      <td>tensor(29.6642)</td>\n",
              "    </tr>\n",
              "    <tr>\n",
              "      <th>4</th>\n",
              "      <td>p5</td>\n",
              "      <td>0.014444</td>\n",
              "      <td>tensor(0.1183)</td>\n",
              "    </tr>\n",
              "  </tbody>\n",
              "</table>\n",
              "</div>"
            ],
            "text/plain": [
              "  name      loss              rmse\n",
              "0   p1  0.089776  tensor(120.6398)\n",
              "1   p2  0.015718    tensor(0.1284)\n",
              "2   p3  0.015510    tensor(0.1285)\n",
              "3   p4  0.038803   tensor(29.6642)\n",
              "4   p5  0.014444    tensor(0.1183)"
            ]
          },
          "metadata": {
            "tags": []
          },
          "execution_count": 34
        }
      ]
    },
    {
      "metadata": {
        "id": "a_X6kdapznkN",
        "colab_type": "code",
        "colab": {}
      },
      "cell_type": "code",
      "source": [
        "minidx = checkpoints['loss'].idxmin()\n",
        "min_name = checkpoints.iloc[minidx]['name']\n",
        "learner.load(min_name);"
      ],
      "execution_count": 0,
      "outputs": []
    },
    {
      "metadata": {
        "id": "5mgGNEVUC_xK",
        "colab_type": "text"
      },
      "cell_type": "markdown",
      "source": [
        "# Predict"
      ]
    },
    {
      "metadata": {
        "id": "M2oDVTflC-7s",
        "colab_type": "code",
        "colab": {}
      },
      "cell_type": "code",
      "source": [
        "file_sufix = 'TrainSalesToo'\n",
        "test_df = test_features.copy()\n",
        "# TODO: can I try a TTA on this?\n",
        "test_preds=learner.get_preds(DatasetType.Test)\n",
        "test_df[\"Sales\"]=np.exp(test_preds[0].data).numpy().T[0]-1\n",
        "test_df[[\"Id\",\"Sales\"]]=test_df[[\"Id\",\"Sales\"]].astype(\"int\")\n",
        "test_df[[\"Id\",\"Sales\"]].to_csv(f\"rossmann_submission_{file_sufix}.csv\",index=False)\n",
        "from google.colab import files\n",
        "files.download(f'rossmann_submission_{file_sufix}.csv')"
      ],
      "execution_count": 0,
      "outputs": []
    },
    {
      "metadata": {
        "id": "hJNN0HluykAv",
        "colab_type": "code",
        "colab": {}
      },
      "cell_type": "code",
      "source": [
        ""
      ],
      "execution_count": 0,
      "outputs": []
    }
  ]
}