{
  "nbformat": 4,
  "nbformat_minor": 0,
  "metadata": {
    "colab": {
      "name": "fastai3 part2: 02a_why_sqrt5.ipynb",
      "version": "0.3.2",
      "provenance": [],
      "collapsed_sections": [],
      "include_colab_link": true
    },
    "kernelspec": {
      "name": "python3",
      "display_name": "Python 3"
    }
  },
  "cells": [
    {
      "cell_type": "markdown",
      "metadata": {
        "id": "view-in-github",
        "colab_type": "text"
      },
      "source": [
        "<a href=\"https://colab.research.google.com/github/cluePrints/fastai-v3-notes/blob/master/fastai3_part2_02a_why_sqrt5.ipynb\" target=\"_parent\"><img src=\"https://colab.research.google.com/assets/colab-badge.svg\" alt=\"Open In Colab\"/></a>"
      ]
    },
    {
      "metadata": {
        "id": "-bFJW7pY_r1w",
        "colab_type": "code",
        "colab": {}
      },
      "cell_type": "code",
      "source": [
        "# sqrt5\n",
        "# gain\n",
        "# fanin, fanout, numel\n",
        "# std of uniform(-1,1)\n",
        "import torch\n",
        "import math\n",
        "\n",
        "from torch import nn\n",
        "from torch.nn import init\n",
        "from torch import tensor\n",
        "import torch.nn.functional as F"
      ],
      "execution_count": 0,
      "outputs": []
    },
    {
      "metadata": {
        "id": "PtD9bk1-XGjm",
        "colab_type": "code",
        "colab": {}
      },
      "cell_type": "code",
      "source": [
        "\"\"\"\n",
        "    def reset_parameters(self):\n",
        "        n = self.in_channels\n",
        "        init.kaiming_uniform_(self.weight, a=math.sqrt(5))\n",
        "\"\"\";\n",
        "torch.nn.modules.conv._ConvNd.reset_parameters??"
      ],
      "execution_count": 0,
      "outputs": []
    },
    {
      "metadata": {
        "id": "iw_6ZY75XojU",
        "colab_type": "code",
        "colab": {}
      },
      "cell_type": "code",
      "source": [
        "\"\"\"\n",
        "a: the negative slope of the rectifier used after this layer (0 for ReLU by default)\n",
        "\n",
        "mode: either 'fan_in' (default) or 'fan_out'. Choosing `fan_in`\n",
        "    preserves the magnitude of the variance of the weights in the\n",
        "    forward pass. Choosing `fan_out` preserves the magnitudes in the\n",
        "    backwards pass.\n",
        "\n",
        "def kaiming_uniform_(tensor, a=0, mode='fan_in', nonlinearity='leaky_relu'):\n",
        "    fan = _calculate_correct_fan(tensor, mode)\n",
        "    gain = calculate_gain(nonlinearity, a)\n",
        "    std = gain / math.sqrt(fan)\n",
        "    bound = math.sqrt(3.0) * std  # Calculate uniform bounds from standard deviation\n",
        "    with torch.no_grad():\n",
        "        return tensor.uniform_(-bound, bound)\n",
        "\"\"\";\n",
        "init.kaiming_uniform_??"
      ],
      "execution_count": 0,
      "outputs": []
    },
    {
      "metadata": {
        "id": "6SyR27wCXuGQ",
        "colab_type": "code",
        "colab": {
          "base_uri": "https://localhost:8080/",
          "height": 34
        },
        "outputId": "a948c590-51ae-4262-c40a-3550103c66a7"
      },
      "cell_type": "code",
      "source": [
        "torch.empty(100000).uniform_(-1, 1).std()"
      ],
      "execution_count": 4,
      "outputs": [
        {
          "output_type": "execute_result",
          "data": {
            "text/plain": [
              "tensor(0.5779)"
            ]
          },
          "metadata": {
            "tags": []
          },
          "execution_count": 4
        }
      ]
    },
    {
      "metadata": {
        "id": "yjz7reRwaTNJ",
        "colab_type": "code",
        "colab": {
          "base_uri": "https://localhost:8080/",
          "height": 34
        },
        "outputId": "e641ceab-fab6-4305-e92e-5a0235de275a"
      },
      "cell_type": "code",
      "source": [
        "1/math.sqrt(3)"
      ],
      "execution_count": 5,
      "outputs": [
        {
          "output_type": "execute_result",
          "data": {
            "text/plain": [
              "0.5773502691896258"
            ]
          },
          "metadata": {
            "tags": []
          },
          "execution_count": 5
        }
      ]
    },
    {
      "metadata": {
        "id": "9ZdTdyJCaUol",
        "colab_type": "code",
        "colab": {}
      },
      "cell_type": "code",
      "source": [
        "\"\"\"\n",
        "def _calculate_fan_in_and_fan_out(tensor):\n",
        "    if dimensions == 2:  # Linear\n",
        "        fan_in = tensor.size(1)\n",
        "        fan_out = tensor.size(0)\n",
        "    else:\n",
        "        num_input_fmaps = tensor.size(1)\n",
        "        num_output_fmaps = tensor.size(0)\n",
        "        receptive_field_size = 1\n",
        "        if tensor.dim() > 2:\n",
        "            receptive_field_size = tensor[0][0].numel()\n",
        "        fan_in = num_input_fmaps * receptive_field_size\n",
        "        fan_out = num_output_fmaps * receptive_field_size\n",
        "\n",
        "    return fan_in, fan_out\n",
        "\"\"\";\n",
        "# fan-in/fan-out calc\n",
        "# https://github.com/pytorch/pytorch/blob/master/torch/nn/init.py#L191"
      ],
      "execution_count": 0,
      "outputs": []
    },
    {
      "metadata": {
        "id": "LLyUzFEsa5oX",
        "colab_type": "code",
        "colab": {
          "base_uri": "https://localhost:8080/",
          "height": 34
        },
        "outputId": "6a9827b1-5719-4a39-e9ca-b467a7e1b276"
      },
      "cell_type": "code",
      "source": [
        "negative_slope = a = math.sqrt(5)\n",
        "\n",
        "# https://github.com/pytorch/pytorch/blob/master/torch/nn/init.py#L44\n",
        "leaky_relu_gain = math.sqrt(2.0 / (1 + negative_slope ** 2))\n",
        "leaky_relu_gain # 1/sqrt(3)"
      ],
      "execution_count": 7,
      "outputs": [
        {
          "output_type": "execute_result",
          "data": {
            "text/plain": [
              "0.5773502691896257"
            ]
          },
          "metadata": {
            "tags": []
          },
          "execution_count": 7
        }
      ]
    },
    {
      "metadata": {
        "id": "dF3Kw3aseLWK",
        "colab_type": "code",
        "colab": {}
      },
      "cell_type": "code",
      "source": [
        "def stats(w):\n",
        "  with torch.no_grad():\n",
        "    return w.mean(), w.std()"
      ],
      "execution_count": 0,
      "outputs": []
    },
    {
      "metadata": {
        "id": "pg_Em_Nvd9PM",
        "colab_type": "code",
        "colab": {
          "base_uri": "https://localhost:8080/",
          "height": 34
        },
        "outputId": "6c7f0fc8-90ad-49c1-b621-852662f7cd24"
      },
      "cell_type": "code",
      "source": [
        "conv = nn.Conv2d(in_channels=1, out_channels=3, kernel_size=5)\n",
        "stats(conv.weight)"
      ],
      "execution_count": 9,
      "outputs": [
        {
          "output_type": "execute_result",
          "data": {
            "text/plain": [
              "(tensor(0.0154), tensor(0.1031))"
            ]
          },
          "metadata": {
            "tags": []
          },
          "execution_count": 9
        }
      ]
    },
    {
      "metadata": {
        "id": "AVRzt8NOcWIo",
        "colab_type": "code",
        "colab": {}
      },
      "cell_type": "code",
      "source": [
        "num_output_fmaps = 3\n",
        "receiptive_field_size = conv.weight[0][0].numel() # 25\n",
        "fan = num_output_fmaps * receiptive_field_size\n",
        "gain = leaky_relu_gain\n",
        "std = gain / math.sqrt(fan)\n",
        "bound = math.sqrt(3.0) * std"
      ],
      "execution_count": 0,
      "outputs": []
    },
    {
      "metadata": {
        "id": "FLxCNP5xe8Ue",
        "colab_type": "code",
        "colab": {
          "base_uri": "https://localhost:8080/",
          "height": 34
        },
        "outputId": "dee0b499-8247-4452-88fa-a15f010e0ba4"
      },
      "cell_type": "code",
      "source": [
        "bound"
      ],
      "execution_count": 11,
      "outputs": [
        {
          "output_type": "execute_result",
          "data": {
            "text/plain": [
              "0.11547005383792512"
            ]
          },
          "metadata": {
            "tags": []
          },
          "execution_count": 11
        }
      ]
    },
    {
      "metadata": {
        "id": "9Jb_0RgXeZC_",
        "colab_type": "code",
        "colab": {
          "base_uri": "https://localhost:8080/",
          "height": 34
        },
        "outputId": "ff7a6282-86f8-4b55-bfdc-437dafd28292"
      },
      "cell_type": "code",
      "source": [
        "# std looks 2x smaller compared to conv2d\n",
        "stats(torch.empty(100000).uniform_(-bound, bound))"
      ],
      "execution_count": 12,
      "outputs": [
        {
          "output_type": "execute_result",
          "data": {
            "text/plain": [
              "(tensor(-0.0002), tensor(0.0667))"
            ]
          },
          "metadata": {
            "tags": []
          },
          "execution_count": 12
        }
      ]
    },
    {
      "metadata": {
        "id": "ZXMfsmRBjgPy",
        "colab_type": "text"
      },
      "cell_type": "markdown",
      "source": [
        "# Does it work well?"
      ]
    },
    {
      "metadata": {
        "id": "juVtU8t3XFs2",
        "colab_type": "code",
        "colab": {
          "base_uri": "https://localhost:8080/",
          "height": 34
        },
        "outputId": "b6e2dd47-e7a4-46ca-d691-f1ccc07cde92"
      },
      "cell_type": "code",
      "source": [
        "from fastai import datasets\n",
        "import gzip, pickle\n",
        "MNIST_URL='http://deeplearning.net/data/mnist/mnist.pkl'\n",
        "def get_data():\n",
        "    path = datasets.download_data(MNIST_URL, ext='.gz')\n",
        "    with gzip.open(path, 'rb') as f:\n",
        "        ((x_train, y_train), (x_valid, y_valid), _) = pickle.load(f, encoding='latin-1')\n",
        "    return map(tensor, (x_train,y_train,x_valid,y_valid))\n",
        "\n",
        "def normalize(x, m, s): return (x-m)/s\n",
        "\n",
        "x_train,y_train,x_valid,y_valid = get_data()\n",
        "train_mean,train_std = x_train.mean(),x_train.std()\n",
        "x_train = normalize(x_train, train_mean, train_std)\n",
        "x_valid = normalize(x_valid, train_mean, train_std)\n",
        "\n",
        "x_train = x_train.view(-1,1,28,28)\n",
        "x_valid = x_valid.view(-1,1,28,28)\n",
        "x_train.shape,x_valid.shape"
      ],
      "execution_count": 13,
      "outputs": [
        {
          "output_type": "execute_result",
          "data": {
            "text/plain": [
              "(torch.Size([50000, 1, 28, 28]), torch.Size([10000, 1, 28, 28]))"
            ]
          },
          "metadata": {
            "tags": []
          },
          "execution_count": 13
        }
      ]
    },
    {
      "metadata": {
        "id": "6ktQHMGrfAYb",
        "colab_type": "code",
        "colab": {
          "base_uri": "https://localhost:8080/",
          "height": 34
        },
        "outputId": "9d891575-02a6-485d-b506-ce6c27d30185"
      },
      "cell_type": "code",
      "source": [
        "stats(conv.weight), stats(conv(x_train[:1000]))"
      ],
      "execution_count": 14,
      "outputs": [
        {
          "output_type": "execute_result",
          "data": {
            "text/plain": [
              "((tensor(0.0154), tensor(0.1031)), (tensor(0.1099), tensor(0.7716)))"
            ]
          },
          "metadata": {
            "tags": []
          },
          "execution_count": 14
        }
      ]
    },
    {
      "metadata": {
        "id": "aNjMPfOLjLmx",
        "colab_type": "code",
        "colab": {
          "base_uri": "https://localhost:8080/",
          "height": 34
        },
        "outputId": "2e16f47f-557a-496a-ba10-0efd8df3093c"
      },
      "cell_type": "code",
      "source": [
        "stats(F.leaky_relu(conv(x_train[:1000]), negative_slope=0.01))"
      ],
      "execution_count": 15,
      "outputs": [
        {
          "output_type": "execute_result",
          "data": {
            "text/plain": [
              "(tensor(0.3366), tensor(0.5928))"
            ]
          },
          "metadata": {
            "tags": []
          },
          "execution_count": 15
        }
      ]
    },
    {
      "metadata": {
        "id": "qfEUk6G8jkg2",
        "colab_type": "code",
        "colab": {
          "base_uri": "https://localhost:8080/",
          "height": 34
        },
        "outputId": "abd52ab3-a9bd-4ae1-80d8-2a4a20ee58dd"
      },
      "cell_type": "code",
      "source": [
        "default_negative_slope = 0.01\n",
        "init.kaiming_uniform_(conv.weight, a=default_negative_slope);\n",
        "stats(conv.weight)"
      ],
      "execution_count": 16,
      "outputs": [
        {
          "output_type": "execute_result",
          "data": {
            "text/plain": [
              "(tensor(-0.0194), tensor(0.3159))"
            ]
          },
          "metadata": {
            "tags": []
          },
          "execution_count": 16
        }
      ]
    },
    {
      "metadata": {
        "id": "5LBA2Givj1LO",
        "colab_type": "code",
        "colab": {
          "base_uri": "https://localhost:8080/",
          "height": 34
        },
        "outputId": "ebaba24d-4257-4231-f7f7-58ccd1e35f5a"
      },
      "cell_type": "code",
      "source": [
        "stats(F.leaky_relu(conv(x_train[:1000]), negative_slope=default_negative_slope))"
      ],
      "execution_count": 17,
      "outputs": [
        {
          "output_type": "execute_result",
          "data": {
            "text/plain": [
              "(tensor(0.6672), tensor(1.0841))"
            ]
          },
          "metadata": {
            "tags": []
          },
          "execution_count": 17
        }
      ]
    },
    {
      "metadata": {
        "id": "d9zThShOj4hm",
        "colab_type": "code",
        "colab": {}
      },
      "cell_type": "code",
      "source": [
        "def gain(neg_slope): return math.sqrt(2.0 / (1 + neg_slope**2))\n",
        "\n",
        "def kaiming_manual_(x,neg_slope, use_fan_out=False):\n",
        "    n_filters,n_inputs,*_ = x.shape\n",
        "    receptive_field = x[0,0].shape.numel()\n",
        "    fan = n_filters*receptive_field if use_fan_out else n_inputs*receptive_field\n",
        "    std = gain(neg_slope) / math.sqrt(fan)\n",
        "    bound = math.sqrt(3.) * std\n",
        "    with torch.no_grad():\n",
        "      x.uniform_(-bound,bound)"
      ],
      "execution_count": 0,
      "outputs": []
    },
    {
      "metadata": {
        "id": "xrhvHmKhlHqY",
        "colab_type": "code",
        "colab": {
          "base_uri": "https://localhost:8080/",
          "height": 34
        },
        "outputId": "200fc42b-9576-4885-d0a9-96221316d16a"
      },
      "cell_type": "code",
      "source": [
        "kaiming_manual_(conv.weight, neg_slope=0)\n",
        "stats(F.leaky_relu(conv(x_train[:1000])))"
      ],
      "execution_count": 19,
      "outputs": [
        {
          "output_type": "execute_result",
          "data": {
            "text/plain": [
              "(tensor(0.5828), tensor(0.7868))"
            ]
          },
          "metadata": {
            "tags": []
          },
          "execution_count": 19
        }
      ]
    },
    {
      "metadata": {
        "id": "MK4JqzJolZZ2",
        "colab_type": "code",
        "colab": {
          "base_uri": "https://localhost:8080/",
          "height": 34
        },
        "outputId": "eab849b0-d62f-49c5-c028-591bff67f1b0"
      },
      "cell_type": "code",
      "source": [
        "kaiming_manual_(conv.weight, neg_slope=0.01)\n",
        "stats(F.leaky_relu(conv(x_train[:1000])))"
      ],
      "execution_count": 20,
      "outputs": [
        {
          "output_type": "execute_result",
          "data": {
            "text/plain": [
              "(tensor(0.7288), tensor(1.3803))"
            ]
          },
          "metadata": {
            "tags": []
          },
          "execution_count": 20
        }
      ]
    },
    {
      "metadata": {
        "id": "gYgloAv1lgem",
        "colab_type": "code",
        "colab": {
          "base_uri": "https://localhost:8080/",
          "height": 34
        },
        "outputId": "e9a89f78-d419-40ec-8bec-8517dd0f24b4"
      },
      "cell_type": "code",
      "source": [
        "kaiming_manual_(conv.weight, neg_slope=math.sqrt(5))\n",
        "stats(F.leaky_relu(conv(x_train[:1000])))"
      ],
      "execution_count": 21,
      "outputs": [
        {
          "output_type": "execute_result",
          "data": {
            "text/plain": [
              "(tensor(0.2648), tensor(0.4246))"
            ]
          },
          "metadata": {
            "tags": []
          },
          "execution_count": 21
        }
      ]
    },
    {
      "metadata": {
        "id": "72zWyX6JlsB5",
        "colab_type": "code",
        "colab": {}
      },
      "cell_type": "code",
      "source": [
        "class Flatten(nn.Module):\n",
        "    def forward(self, input):\n",
        "        return input.view(input.size(0), -1)\n",
        "\n",
        "model = nn.Sequential(\n",
        "    nn.Conv2d(1,8, 5,stride=2,padding=2), nn.ReLU(),\n",
        "    nn.Conv2d(8,16,3,stride=2,padding=1), nn.ReLU(),\n",
        "    nn.Conv2d(16,32,3,stride=2,padding=1), nn.ReLU(),\n",
        "    nn.Conv2d(32,1,3,stride=2,padding=1),\n",
        "    nn.AdaptiveAvgPool2d(1),\n",
        "    Flatten(),\n",
        ")\n",
        "out = model(x_train)"
      ],
      "execution_count": 0,
      "outputs": []
    },
    {
      "metadata": {
        "id": "WN7nZU-Il2tl",
        "colab_type": "code",
        "colab": {
          "base_uri": "https://localhost:8080/",
          "height": 34
        },
        "outputId": "323639bb-075e-49ac-eb39-8c54eead2400"
      },
      "cell_type": "code",
      "source": [
        "stats(out)"
      ],
      "execution_count": 23,
      "outputs": [
        {
          "output_type": "execute_result",
          "data": {
            "text/plain": [
              "(tensor(-0.0447), tensor(0.0094))"
            ]
          },
          "metadata": {
            "tags": []
          },
          "execution_count": 23
        }
      ]
    },
    {
      "metadata": {
        "id": "Q49PbNszmGWi",
        "colab_type": "code",
        "colab": {}
      },
      "cell_type": "code",
      "source": [
        "for layer in model.children():\n",
        "  if isinstance(layer, nn.Conv2d):\n",
        "    kaiming_manual_(layer.weight, 0)"
      ],
      "execution_count": 0,
      "outputs": []
    },
    {
      "metadata": {
        "id": "0gMPPhBSmrq4",
        "colab_type": "code",
        "colab": {
          "base_uri": "https://localhost:8080/",
          "height": 34
        },
        "outputId": "9c56caa3-9a6a-454d-8d92-c9a060487b43"
      },
      "cell_type": "code",
      "source": [
        "stats(model(x_train))"
      ],
      "execution_count": 25,
      "outputs": [
        {
          "output_type": "execute_result",
          "data": {
            "text/plain": [
              "(tensor(-0.2738), tensor(0.2852))"
            ]
          },
          "metadata": {
            "tags": []
          },
          "execution_count": 25
        }
      ]
    },
    {
      "metadata": {
        "id": "Kxfghl7znA0Z",
        "colab_type": "code",
        "colab": {}
      },
      "cell_type": "code",
      "source": [
        "for layer in model.children():\n",
        "  if isinstance(layer, nn.Conv2d):\n",
        "    with torch.no_grad():\n",
        "      layer.bias.zero_()"
      ],
      "execution_count": 0,
      "outputs": []
    },
    {
      "metadata": {
        "id": "GWqFZRltnUka",
        "colab_type": "code",
        "colab": {
          "base_uri": "https://localhost:8080/",
          "height": 34
        },
        "outputId": "0f01adf7-c054-4dbf-8467-2de9be8c1184"
      },
      "cell_type": "code",
      "source": [
        "stats(model(x_train))"
      ],
      "execution_count": 27,
      "outputs": [
        {
          "output_type": "execute_result",
          "data": {
            "text/plain": [
              "(tensor(-0.2608), tensor(0.2938))"
            ]
          },
          "metadata": {
            "tags": []
          },
          "execution_count": 27
        }
      ]
    },
    {
      "metadata": {
        "id": "vhIjHavAnVGZ",
        "colab_type": "code",
        "colab": {}
      },
      "cell_type": "code",
      "source": [
        ""
      ],
      "execution_count": 0,
      "outputs": []
    }
  ]
}