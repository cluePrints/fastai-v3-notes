{
  "nbformat": 4,
  "nbformat_minor": 0,
  "metadata": {
    "colab": {
      "name": "fastai3 part2: 05b_early_stopping.ipynb",
      "version": "0.3.2",
      "provenance": [],
      "collapsed_sections": [],
      "include_colab_link": true
    },
    "kernelspec": {
      "name": "python3",
      "display_name": "Python 3"
    }
  },
  "cells": [
    {
      "cell_type": "markdown",
      "metadata": {
        "id": "view-in-github",
        "colab_type": "text"
      },
      "source": [
        "<a href=\"https://colab.research.google.com/github/cluePrints/fastai-v3-notes/blob/master/fastai3_part2_05b_early_stopping.ipynb\" target=\"_parent\"><img src=\"https://colab.research.google.com/assets/colab-badge.svg\" alt=\"Open In Colab\"/></a>"
      ]
    },
    {
      "metadata": {
        "id": "tYGyuA9slYhb",
        "colab_type": "code",
        "colab": {}
      },
      "cell_type": "code",
      "source": [
        "%load_ext autoreload\n",
        "%autoreload 2\n",
        "\n",
        "%matplotlib inline"
      ],
      "execution_count": 0,
      "outputs": []
    },
    {
      "metadata": {
        "id": "jO53rsgYlbF-",
        "colab_type": "code",
        "colab": {}
      },
      "cell_type": "code",
      "source": [
        "def sorta_import(name):\n",
        "  import urllib.request\n",
        "  import os\n",
        "  a = urllib.request.urlopen(f'https://raw.githubusercontent.com/fastai/fastai_docs/master/dev_course/dl2/exp/{name}.py')\n",
        "  os.makedirs('exp', exist_ok=True)\n",
        "  with open(f'exp/{name}.py', 'wb') as f:\n",
        "    f.write(a.read())\n",
        "  __import__(f'exp.{name}')\n",
        "\n",
        "def load_modules_up_to(n_inclusive):\n",
        "  for i in range(n_inclusive + 1):\n",
        "    try:\n",
        "      sorta_import(f'nb_0{i}')\n",
        "    except:\n",
        "      print(f\"Problem importing {i}\")\n",
        "      raise\n",
        "\n",
        "load_modules_up_to(5)\n",
        "from exp.nb_05 import *"
      ],
      "execution_count": 0,
      "outputs": []
    },
    {
      "metadata": {
        "id": "IEqMkfddlg_Q",
        "colab_type": "code",
        "colab": {}
      },
      "cell_type": "code",
      "source": [
        "train_x,train_y,valid_x,valid_y = get_data()\n",
        "train_ds,valid_ds = Dataset(train_x,train_y),Dataset(valid_x,valid_y)\n",
        "n_hidden, batch_size = 50, 512\n",
        "n_classes = train_y.max().item()+1\n",
        "loss_func = F.cross_entropy"
      ],
      "execution_count": 0,
      "outputs": []
    },
    {
      "metadata": {
        "id": "tNQ6lKBylj6j",
        "colab_type": "code",
        "colab": {}
      },
      "cell_type": "code",
      "source": [
        "data = DataBunch(*get_dls(train_ds, valid_ds, batch_size), n_classes)"
      ],
      "execution_count": 0,
      "outputs": []
    },
    {
      "metadata": {
        "id": "jwjYX1dZlpPa",
        "colab_type": "code",
        "colab": {}
      },
      "cell_type": "code",
      "source": [
        "class Callback():\n",
        "    _order=0\n",
        "    def set_runner(self, run): self.run=run\n",
        "    def __getattr__(self, k): return getattr(self.run, k)\n",
        "    \n",
        "    @property\n",
        "    def name(self):\n",
        "        name = re.sub(r'Callback$', '', self.__class__.__name__)\n",
        "        return camel2snake(name or 'callback')\n",
        "    \n",
        "    def __call__(self, cb_name):\n",
        "        f = getattr(self, cb_name, None)\n",
        "        if f and f(): return True\n",
        "        return False\n",
        "\n",
        "class TrainEvalCallback(Callback):\n",
        "    def begin_fit(self):\n",
        "        self.run.n_epochs=0.\n",
        "        self.run.n_iter=0\n",
        "    \n",
        "    def after_batch(self):\n",
        "        if not self.in_train: return\n",
        "        self.run.n_epochs += 1./self.iters\n",
        "        self.run.n_iter   += 1\n",
        "        \n",
        "    def begin_epoch(self):\n",
        "        self.run.n_epochs=self.epoch\n",
        "        self.model.train()\n",
        "        self.run.in_train=True\n",
        "\n",
        "    def begin_validate(self):\n",
        "        self.model.eval()\n",
        "        self.run.in_train=False\n",
        "\n",
        "class CancelTrainException(Exception): pass\n",
        "class CancelEpochException(Exception): pass\n",
        "class CancelBatchException(Exception): pass"
      ],
      "execution_count": 0,
      "outputs": []
    },
    {
      "metadata": {
        "id": "oUJNQ92al0N4",
        "colab_type": "code",
        "colab": {}
      },
      "cell_type": "code",
      "source": [
        "# version from nb_04\n",
        "class Runner():\n",
        "    def __init__(self, cbs=None, cb_funcs=None):\n",
        "        cbs = listify(cbs)\n",
        "        for cbf in listify(cb_funcs):\n",
        "            cb = cbf()\n",
        "            setattr(self, cb.name, cb)\n",
        "            cbs.append(cb)\n",
        "        self.stop,self.cbs = False,[TrainEvalCallback()]+cbs\n",
        "\n",
        "    @property\n",
        "    def opt(self):       return self.learn.opt\n",
        "    @property\n",
        "    def model(self):     return self.learn.model\n",
        "    @property\n",
        "    def loss_func(self): return self.learn.loss_func\n",
        "    @property\n",
        "    def data(self):      return self.learn.data\n",
        "\n",
        "    def one_batch(self, xb, yb):\n",
        "        self.xb,self.yb = xb,yb\n",
        "        if self('begin_batch'): return\n",
        "        self.pred = self.model(self.xb)\n",
        "        if self('after_pred'): return\n",
        "        self.loss = self.loss_func(self.pred, self.yb)\n",
        "        if self('after_loss') or not self.in_train: return\n",
        "        self.loss.backward()\n",
        "        if self('after_backward'): return\n",
        "        self.opt.step()\n",
        "        if self('after_step'): return\n",
        "        self.opt.zero_grad()\n",
        "\n",
        "    def all_batches(self, dl):\n",
        "        self.iters = len(dl)\n",
        "        for xb,yb in dl:\n",
        "            if self.stop: break\n",
        "            self.one_batch(xb, yb)\n",
        "            self('after_batch')\n",
        "        self.stop=False\n",
        "\n",
        "    def fit(self, epochs, learn):\n",
        "        self.epochs,self.learn,self.loss = epochs,learn,tensor(0.)\n",
        "\n",
        "        try:\n",
        "            for cb in self.cbs: cb.set_runner(self)\n",
        "            if self('begin_fit'): return\n",
        "            for epoch in range(epochs):\n",
        "                self.epoch = epoch\n",
        "                if not self('begin_epoch'): self.all_batches(self.data.train_dl)\n",
        "\n",
        "                with torch.no_grad():\n",
        "                    if not self('begin_validate'): self.all_batches(self.data.valid_dl)\n",
        "                if self('after_epoch'): break\n",
        "\n",
        "        finally:\n",
        "            self('after_fit')\n",
        "            self.learn = None\n",
        "\n",
        "    def __call__(self, cb_name):\n",
        "        for cb in sorted(self.cbs, key=lambda x: x._order):\n",
        "            f = getattr(cb, cb_name, None)\n",
        "            if f and f(): return True\n"
      ],
      "execution_count": 0,
      "outputs": []
    },
    {
      "metadata": {
        "id": "YL68xq1Gl5tv",
        "colab_type": "code",
        "colab": {}
      },
      "cell_type": "code",
      "source": [
        "learn = create_learner(get_model, loss_func, data)\n",
        "import pdb\n",
        "\n",
        "class RaiseExceptionCallback(Callback):\n",
        "  def __init__(self, exception_class, limit=10):\n",
        "    self.exception_class = exception_class\n",
        "    self.limit = limit\n",
        "\n",
        "  _order=1\n",
        "  def after_step(self):\n",
        "    print(self.n_iter)\n",
        "    if self.n_iter>=self.limit:\n",
        "      print(\"Raising an exception\")\n",
        "      raise self.exception_class()\n",
        "\n",
        "run = Runner(cb_funcs=lambda: RaiseExceptionCallback(CancelTrainException, 2))"
      ],
      "execution_count": 0,
      "outputs": []
    },
    {
      "metadata": {
        "id": "NHrSuCESmFd5",
        "colab_type": "code",
        "outputId": "006d0538-767e-423d-f16d-faca8e5aa551",
        "colab": {
          "base_uri": "https://localhost:8080/",
          "height": 102
        }
      },
      "cell_type": "code",
      "source": [
        "def test_exception_raised(tested_func, expected_class):\n",
        "  try:\n",
        "    tested_func()\n",
        "    raise Exception(f\"Expected {expected_class} to be thrown\")\n",
        "  except Exception as e:\n",
        "    if not isinstance(e, expected_class):\n",
        "      raise\n",
        "\n",
        "    return e\n",
        "\n",
        "test_exception_raised(lambda: run.fit(3, learn), CancelTrainException)"
      ],
      "execution_count": 8,
      "outputs": [
        {
          "output_type": "stream",
          "text": [
            "0\n",
            "1\n",
            "2\n",
            "Raising an exception\n"
          ],
          "name": "stdout"
        },
        {
          "output_type": "execute_result",
          "data": {
            "text/plain": [
              "__main__.CancelTrainException()"
            ]
          },
          "metadata": {
            "tags": []
          },
          "execution_count": 8
        }
      ]
    },
    {
      "metadata": {
        "id": "eUYB3oPv9Qfh",
        "colab_type": "code",
        "colab": {}
      },
      "cell_type": "code",
      "source": [
        "class Runner():\n",
        "    def __init__(self, cbs=None, cb_funcs=None):\n",
        "        cbs = listify(cbs)\n",
        "        for cbf in listify(cb_funcs):\n",
        "            cb = cbf()\n",
        "            setattr(self, cb.name, cb)\n",
        "            cbs.append(cb)\n",
        "        self.stop,self.cbs = False,[TrainEvalCallback()]+cbs\n",
        "\n",
        "    @property\n",
        "    def opt(self):       return self.learn.opt\n",
        "    @property\n",
        "    def model(self):     return self.learn.model\n",
        "    @property\n",
        "    def loss_func(self): return self.learn.loss_func\n",
        "    @property\n",
        "    def data(self):      return self.learn.data\n",
        "\n",
        "    def one_batch(self, xb, yb):\n",
        "        self.xb,self.yb = xb,yb\n",
        "        self('begin_batch')\n",
        "        self.pred = self.model(self.xb)\n",
        "        self('after_pred')\n",
        "        self.loss = self.loss_func(self.pred, self.yb)\n",
        "        if self('after_loss') or not self.in_train: return\n",
        "        self.loss.backward()\n",
        "        self('after_backward')\n",
        "        self.opt.step()\n",
        "        self('after_step')\n",
        "        self.opt.zero_grad()\n",
        "\n",
        "    def all_batches(self, dl):\n",
        "        self.iters = len(dl)\n",
        "        for xb,yb in dl:\n",
        "            try:\n",
        "              self.one_batch(xb, yb)\n",
        "            except CancelBatchException:\n",
        "              self('after_cancel_batch')\n",
        "            finally:\n",
        "              self('after_batch')\n",
        "        self.stop=False\n",
        "\n",
        "    def fit(self, epochs, learn):\n",
        "        self.epochs,self.learn,self.loss = epochs,learn,tensor(0.)\n",
        "\n",
        "        try:\n",
        "            for cb in self.cbs: cb.set_runner(self)\n",
        "            if self('begin_fit'): return\n",
        "            for epoch in range(epochs):\n",
        "              try:\n",
        "                  self.epoch = epoch\n",
        "                  if not self('begin_epoch'): self.all_batches(self.data.train_dl)\n",
        "\n",
        "                  with torch.no_grad():\n",
        "                      if not self('begin_validate'): self.all_batches(self.data.valid_dl)\n",
        "              except CancelEpochException:\n",
        "                  self('after_cancel_epoch')\n",
        "              finally:\n",
        "                  self('after_epoch')\n",
        "        except CancelTrainException:\n",
        "            self('after_cancel_train')\n",
        "        finally:\n",
        "            self('after_fit')\n",
        "            self.learn = None\n",
        "\n",
        "    def __call__(self, cb_name):\n",
        "        for cb in sorted(self.cbs, key=lambda x: x._order):\n",
        "            f = getattr(cb, cb_name, None)\n",
        "            if f and f(): return True\n"
      ],
      "execution_count": 0,
      "outputs": []
    },
    {
      "metadata": {
        "id": "DdPXXt0P-Uus",
        "colab_type": "code",
        "colab": {
          "base_uri": "https://localhost:8080/",
          "height": 51
        },
        "outputId": "b6f10414-ab79-4c7a-8c43-4141d2a952f4"
      },
      "cell_type": "code",
      "source": [
        "run = Runner(cb_funcs=lambda: RaiseExceptionCallback(CancelTrainException, 0))\n",
        "run.fit(3, learn)"
      ],
      "execution_count": 10,
      "outputs": [
        {
          "output_type": "stream",
          "text": [
            "0\n",
            "Raising an exception\n"
          ],
          "name": "stdout"
        }
      ]
    },
    {
      "metadata": {
        "id": "MXk_8phOAvX4",
        "colab_type": "code",
        "colab": {
          "base_uri": "https://localhost:8080/",
          "height": 119
        },
        "outputId": "70fcdfc5-354a-4159-ea23-98166d15fe97"
      },
      "cell_type": "code",
      "source": [
        "run = Runner(cb_funcs=lambda: RaiseExceptionCallback(CancelEpochException, 0))\n",
        "run.fit(3, learn)"
      ],
      "execution_count": 11,
      "outputs": [
        {
          "output_type": "stream",
          "text": [
            "0\n",
            "Raising an exception\n",
            "1\n",
            "Raising an exception\n",
            "2\n",
            "Raising an exception\n"
          ],
          "name": "stdout"
        }
      ]
    },
    {
      "metadata": {
        "id": "i2dk11VgLqyA",
        "colab_type": "code",
        "colab": {}
      },
      "cell_type": "code",
      "source": [
        "import io\n",
        "from contextlib import redirect_stdout"
      ],
      "execution_count": 0,
      "outputs": []
    },
    {
      "metadata": {
        "id": "bAvxaEuMBmp4",
        "colab_type": "code",
        "colab": {}
      },
      "cell_type": "code",
      "source": [
        "%%capture out\n",
        "run = Runner(cb_funcs=lambda: RaiseExceptionCallback(CancelBatchException, -1))\n",
        "run.fit(3, learn)"
      ],
      "execution_count": 0,
      "outputs": []
    },
    {
      "metadata": {
        "id": "AwFHQcjYMEIT",
        "colab_type": "code",
        "colab": {
          "base_uri": "https://localhost:8080/",
          "height": 136
        },
        "outputId": "69ce592e-e943-443b-c1e8-603b4584d42d"
      },
      "cell_type": "code",
      "source": [
        "print('\\n'.join(out.stdout.split('\\n')[:7]))"
      ],
      "execution_count": 14,
      "outputs": [
        {
          "output_type": "stream",
          "text": [
            "0\n",
            "Raising an exception\n",
            "1\n",
            "Raising an exception\n",
            "2\n",
            "Raising an exception\n",
            "3\n"
          ],
          "name": "stdout"
        }
      ]
    },
    {
      "metadata": {
        "id": "NkUanRF7P7N_",
        "colab_type": "code",
        "colab": {
          "base_uri": "https://localhost:8080/",
          "height": 265
        },
        "outputId": "34295a16-6153-4338-921d-e180fce7f17d"
      },
      "cell_type": "code",
      "source": [
        "class Recorder(Callback):\n",
        "    def begin_fit(self):\n",
        "        self.lrs = [[] for _ in self.opt.param_groups]\n",
        "        self.losses = []\n",
        "\n",
        "    def after_batch(self):\n",
        "        if not self.in_train: return\n",
        "        for pg,lr in zip(self.opt.param_groups,self.lrs): lr.append(pg['lr'])\n",
        "        self.losses.append(self.loss.detach().cpu())        \n",
        "\n",
        "    def plot_lr  (self, pgid=-1): plt.plot(self.lrs[pgid])\n",
        "    def plot_loss(self, skip_last=0): plt.plot(self.losses[:len(self.losses)-skip_last])\n",
        "        \n",
        "    def plot(self, skip_last=0, pgid=-1):\n",
        "        losses = [o.item() for o in self.losses]\n",
        "        lrs    = self.lrs[pgid]\n",
        "        n = len(losses)-skip_last\n",
        "        plt.xscale('log')\n",
        "        plt.plot(lrs[:n], losses[:n])\n",
        "\n",
        "class LrFinderCallback(Callback):\n",
        "  def __init__(self, min_lr, max_lr, max_iterations = 100):\n",
        "    self.min_lr = min_lr\n",
        "    self.max_lr = max_lr\n",
        "    self.max_iterations = max_iterations\n",
        "    self.losses = []\n",
        "    self.lrs_tried = []\n",
        "    self.best_loss = float('Inf')\n",
        "\n",
        "  def begin_batch(self):\n",
        "    self._stop_when_tried_all()\n",
        "    self._set_next_lr()\n",
        "# Note to self: it's fun that it actually seem to work better when model state preserved between different LR's tried\n",
        "#    self._load_model()\n",
        "    \n",
        "  def after_step(self):\n",
        "    self._save_loss()\n",
        "    self._stop_when_crappy_trend()\n",
        "  \n",
        "  def begin_fit(self):\n",
        "    self._save_model()\n",
        "\n",
        "  def after_fit(self):\n",
        "    self._load_model()\n",
        "    \n",
        "  def plot_losses(self, skip_end=0):\n",
        "    plt.plot(self.lrs_tried[:-skip_end], self.losses[:-skip_end])\n",
        "\n",
        "  def _set_next_lr(self):\n",
        "    lr_idx = len(self.losses)\n",
        "    progress = lr_idx / self.max_iterations\n",
        "    ratio = self.max_lr / self.min_lr\n",
        "    lr_to_try = self.min_lr * ratio ** progress\n",
        "    for group in self.opt.param_groups:\n",
        "      group['lr'] = lr_to_try\n",
        "    \n",
        "  def _stop_when_tried_all(self):\n",
        "    if (len(self.losses) >= self.max_iterations): raise CancelTrainException()\n",
        "\n",
        "  def _stop_when_crappy_trend(self):\n",
        "    if (len(self.losses) < 5):\n",
        "      return\n",
        "\n",
        "    avg_last_loss = sum(self.losses[-5:])/5\n",
        "    if (self.best_loss*10 < avg_last_loss):\n",
        "      raise CancelTrainException()\n",
        "\n",
        "  def _save_loss(self):\n",
        "    last_loss = self.run.loss.detach().item()\n",
        "    self.lrs_tried.append(self.opt.param_groups[0]['lr'])\n",
        "    self.losses.append(last_loss)\n",
        "    self.best_loss = min(self.best_loss, last_loss)\n",
        "\n",
        "  def _save_model(self): torch.save(self.run.model.state_dict(), 'tmp')\n",
        "    \n",
        "  def _load_model(self): self.run.model.load_state_dict(torch.load('tmp'))\n",
        "\n",
        "learner = create_learner(get_model, loss_func, data)\n",
        "finder = LrFinderCallback(1e-6, 10, 200)\n",
        "run = Runner(cb_funcs=[lambda: finder, Recorder])\n",
        "run.fit(3, learner)\n",
        "finder.plot_losses(skip_end=5)"
      ],
      "execution_count": 15,
      "outputs": [
        {
          "output_type": "display_data",
          "data": {
            "image/png": "[encoded data removed]",
            "text/plain": [
              "<Figure size 432x288 with 1 Axes>"
            ]
          },
          "metadata": {
            "tags": []
          }
        }
      ]
    },
    {
      "metadata": {
        "id": "-R3KXnhgdY11",
        "colab_type": "code",
        "colab": {
          "base_uri": "https://localhost:8080/",
          "height": 269
        },
        "outputId": "1eb05146-7955-4ca8-ce12-edd12d6f4435"
      },
      "cell_type": "code",
      "source": [
        "# Note to self: this looks nicer with log scale\n",
        "run.recorder.plot(skip_last=5)"
      ],
      "execution_count": 16,
      "outputs": [
        {
          "output_type": "display_data",
          "data": {
            "image/png": "[encoded data removed]",
            "text/plain": [
              "<Figure size 432x288 with 1 Axes>"
            ]
          },
          "metadata": {
            "tags": []
          }
        }
      ]
    },
    {
      "metadata": {
        "id": "Ikx9lkuyuxId",
        "colab_type": "code",
        "colab": {}
      },
      "cell_type": "code",
      "source": [
        "# CancelTrainException, CancelEpochException, CancelBatchException\n",
        "# update runner\n",
        "# lr_finder\n",
        "# ---"
      ],
      "execution_count": 0,
      "outputs": []
    },
    {
      "metadata": {
        "id": "SA99YH6ZXWJE",
        "colab_type": "code",
        "colab": {}
      },
      "cell_type": "code",
      "source": [
        ""
      ],
      "execution_count": 0,
      "outputs": []
    }
  ]
}